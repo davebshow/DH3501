{
 "metadata": {
  "name": "",
  "signature": "sha256:9a162d1e730c47d91196bc6cd5a200c1e3da152b8b2d21018d5d16edb2171eea"
 },
 "nbformat": 3,
 "nbformat_minor": 0,
 "worksheets": [
  {
   "cells": [
    {
     "cell_type": "markdown",
     "metadata": {},
     "source": [
      "<div align=\"left\">\n",
      "<h4><a href=\"index.ipynb\">RETURN TO INDEX</a></h4>\n",
      "</div>\n",
      "<div align=\"center\">\n",
      "<h1><a href=\"index.ipynb\">DH3501: Advanced Social Networks</a><br/>"
     ]
    },
    {
     "cell_type": "markdown",
     "metadata": {},
     "source": [
      "<div style=\"float:left\">\n",
      "<b>Western University</b><br/>\n",
      "<b>Department of Modern Languages and Literatures</b><br/>\n",
      "<b>Digital Humanities \u2013 DH 3501</b><br/>\n",
      "<br/>\n",
      "<b>Instructor</b>: David Brown<br/>\n",
      "<b>E-mail</b>: <a href=\"mailto:dbrow52@uwo.ca\">dbrow52@uwo.ca</a><br/>\n",
      "<b>Office</b>: AHB 1R14<br/>\n",
      "</div>\n",
      "<div style=\"float:left\">\n",
      "<img style=\"width:200px; margin-left:100px\" src=\"http://www.bsr.org/images/blog/networks.jpg\" />\n",
      "</div>"
     ]
    },
    {
     "cell_type": "heading",
     "level": 3,
     "metadata": {},
     "source": [
      "Class4"
     ]
    },
    {
     "cell_type": "markdown",
     "metadata": {},
     "source": [
      "Intro sent.\n",
      "\n",
      "  * Goals:\n",
      "    *\n",
      "    *\n",
      "\n",
      "  * Topics:\n",
      "    *\n",
      "    *"
     ]
    },
    {
     "cell_type": "heading",
     "level": 2,
     "metadata": {},
     "source": [
      "Class6"
     ]
    }
   ],
   "metadata": {}
  }
 ]
}