{
 "metadata": {
  "name": "",
  "signature": "sha256:3555475396038a1278393e6b29592749f72c40140a343f2bf0907fa224ca4bfd"
 },
 "nbformat": 3,
 "nbformat_minor": 0,
 "worksheets": [
  {
   "cells": [
    {
     "cell_type": "markdown",
     "metadata": {},
     "source": [
      "<div align=\"left\">\n",
      "<h4><a href=\"index.ipynb\">RETURN TO INDEX</a></h4>\n",
      "</div>\n",
      "<div align=\"center\">\n",
      "<h1><a href=\"index.ipynb\">DH3501: Advanced Social Networks</a><br/><br/>*Final Project:* </h1>\n",
      "</div>"
     ]
    },
    {
     "cell_type": "markdown",
     "metadata": {},
     "source": [
      "<div style=\"float:left\">\n",
      "<b>Western University</b><br/>\n",
      "<b>Department of Modern Languages and Literatures</b><br/>\n",
      "<b>Digital Humanities \u2013 DH 3501</b><br/>\n",
      "<br/>\n",
      "<b>Instructor</b>: David Brown<br/>\n",
      "<b>E-mail</b>: <a href=\"mailto:dbrow52@uwo.ca\">dbrow52@uwo.ca</a><br/>\n",
      "<b>Office</b>: AHB 1R14<br/>\n",
      "</div>\n",
      "<div style=\"float:left\">\n",
      "<img style=\"width:200px; margin-left:100px\" src=\"http://www.bsr.org/images/blog/networks.jpg\" />\n",
      "</div>"
     ]
    },
    {
     "cell_type": "heading",
     "level": 2,
     "metadata": {},
     "source": [
      "Description"
     ]
    },
    {
     "cell_type": "markdown",
     "metadata": {},
     "source": [
      "Well you got the job. You're chief analyst now and you're company wants to expand its analytics into new frontiers. It's time for you to build your own project from scratch. Here's what you need to do:\n",
      "\n",
      "**1. Find a data set. A big, bad data set.**\n",
      "\n",
      "This is kind of like the first assignment but big. You need to go out and find a huge data set, with at the very least edges on the order of $10^6$, preferably much bigger, with millions of nodes and tens or hundreds of millions of edges. Also, the graph must have attributes! This is the crux, you will probably have to find a data set that is not already prepared as a graph, and creatively model the data.\n",
      "\n",
      "**2. Model the data.**\n",
      "\n",
      "You **always** need a data model. Make a nice image of your model using a computer drawing program or tool of your choice. With the model you will need to provide a detailed explanation of node types, relationships, and properties. \n",
      "\n",
      "**3. Load it into a graph database.**\n",
      "\n",
      "Process the data and load it into a database. There are no rules here, you can use whatever technology that you want--*as long as it makes sense.*\n",
      "\n",
      "**4. Write a series of queries against the data.**\n",
      "\n",
      "Demonstrate the property graph structure by writing a series of queries and traversals against your database.\n",
      "\n",
      "**5. Export a subgraph projection to NetworkX and perform analysis.**\n",
      "\n",
      "Find a relevant subsection of the graph to project into memory for more detailed analysis using NetworkX.\n",
      "\n",
      "**6. Create a series of visualizations of the subgraph with Gephi.**\n",
      "\n",
      "Highlight import parts of your analysis of your analysis with visualizations.\n",
      "\n",
      "**7. Prepare a detailed write up of your research.**\n",
      "\n",
      "This should explain your entire process and include:\n",
      "\n",
      "* A description of the data set.\n",
      "* A description of the technology used in the project.\n",
      "* A write up of the analysis.\n",
      "* Explanation of the visualizations.\n",
      "\n",
      "**8. Prepare a presentation of your project.**\n",
      "\n",
      "**9. Turn in your work.**\n",
      "\n",
      "Turn in **all materials** used in the final project including:\n",
      "\n",
      "* The data set you used.\n",
      "* The image and description of the data model.~300 words.\n",
      "* All scripts used in data processing and database import.\n",
      "* The queries and traversals used to demonstrate the structure of your database.\n",
      "* The actual database files.\n",
      "* A flat file version of the projected subgraph, with the accompanying scripts and analysis results.\n",
      "* All generated visualizations.\n",
      "* Write up.~350-700 words.\n",
      "* Presentation materials."
     ]
    },
    {
     "cell_type": "heading",
     "level": 2,
     "metadata": {},
     "source": [
      "Evaluation"
     ]
    }
   ],
   "metadata": {}
  }
 ]
}