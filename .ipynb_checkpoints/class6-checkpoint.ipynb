{
 "metadata": {
  "name": "",
  "signature": "sha256:47f29d3ca1a2ae8a05c3763a610175a15cbaefe54fd492546ae45056670aed25"
 },
 "nbformat": 3,
 "nbformat_minor": 0,
 "worksheets": [
  {
   "cells": [
    {
     "cell_type": "markdown",
     "metadata": {},
     "source": [
      "<div align=\"left\">\n",
      "<h4><a href=\"index.ipynb\">RETURN TO INDEX</a></h4>\n",
      "</div>\n",
      "<div align=\"center\">\n",
      "<h1><a href=\"index.ipynb\">DH3501: Advanced Social Networks</a><br/><br/><em>Class 6</em>: Formal Definitions and the Jackson Text</h1>\n",
      "</div>"
     ]
    },
    {
     "cell_type": "markdown",
     "metadata": {},
     "source": [
      "<div style=\"float:left\">\n",
      "<b>Western University</b><br/>\n",
      "<b>Department of Modern Languages and Literatures</b><br/>\n",
      "<b>Digital Humanities \u2013 DH 3501</b><br/>\n",
      "<br/>\n",
      "<b>Instructor</b>: David Brown<br/>\n",
      "<b>E-mail</b>: <a href=\"mailto:dbrow52@uwo.ca\">dbrow52@uwo.ca</a><br/>\n",
      "<b>Office</b>: AHB 1R14<br/>\n",
      "</div>\n",
      "<div style=\"float:left\">\n",
      "<img style=\"width:200px; margin-left:100px\" src=\"http://www.bsr.org/images/blog/networks.jpg\" />\n",
      "</div>"
     ]
    },
    {
     "cell_type": "heading",
     "level": 2,
     "metadata": {},
     "source": [
      "So, what do you think of the Jackson text?"
     ]
    },
    {
     "cell_type": "markdown",
     "metadata": {},
     "source": [
      "* The Jackson text may seem a bit **mathy** or **formal**...but if you are going to study networks, you have to get used to a bit of **math**.  \n",
      "\n",
      "* The most important thing is to **take your time** and  **remain calm** when you read it:  \n",
      "\n",
      "<img style=\"float:left; height:300px;\" src=\"img/calm_math.png\" />"
     ]
    },
    {
     "cell_type": "heading",
     "level": 2,
     "metadata": {},
     "source": [
      "Formal representation of networks"
     ]
    },
    {
     "cell_type": "markdown",
     "metadata": {},
     "source": [
      "Graph theory uses a variety of symbols, including [set-builder notation](http://en.wikipedia.org/wiki/Set-builder_notation):\n",
      "\n",
      "* $\\{i | i \\in g\\}$\n",
      "\n",
      "Set of all i such that i is an element in g...  \n",
      "\n",
      "* A [set](http://en.wikipedia.org/wiki/Set_%28mathematics%29) is an unordered collection of unique elements.\n",
      "* Python implements a set data structure.\n",
      "\n",
      "** How is a set different from a Python list???**"
     ]
    },
    {
     "cell_type": "code",
     "collapsed": false,
     "input": [
      "set([1,2,3,4])"
     ],
     "language": "python",
     "metadata": {},
     "outputs": [
      {
       "metadata": {},
       "output_type": "pyout",
       "prompt_number": 1,
       "text": [
        "{1, 2, 3, 4}"
       ]
      }
     ],
     "prompt_number": 1
    },
    {
     "cell_type": "heading",
     "level": 2,
     "metadata": {},
     "source": [
      "Some common symbols we will see in this class:"
     ]
    },
    {
     "cell_type": "markdown",
     "metadata": {},
     "source": [
      "Set:\n",
      "\n",
      "* $\\{1,...,n\\}$\n",
      "\n",
      "Matrix:\n",
      "\n",
      "* $g = \\begin{bmatrix}0 & 1\\\\1 & 0\\end{bmatrix}$\n",
      "\n",
      "Membership:\n",
      "\n",
      "* $ij \\in g$\n",
      "\n",
      "Owns, has member:\n",
      "\n",
      "* $g \\ni ij$\n",
      "\n",
      "Set such that:\n",
      "\n",
      "* $\\{x | x \\in \\mathbb{R} \\}$\n",
      "* **or**\n",
      "* $\\{x : x \\in \\mathbb{R} \\}$\n",
      "\n",
      "Subset, subset or equal set:\n",
      "\n",
      "* $g' \\subset g$\n",
      "* $g' \\subseteq g$\n",
      "\n",
      "Superset, superset or equal set:\n",
      "\n",
      "* $g \\supset g'$\n",
      "* $g \\supseteq g'$\n",
      "\n",
      "Union:\n",
      "\n",
      "* $a \\cup b$\n",
      "\n",
      "Intersect:\n",
      "\n",
      "* $a \\cap b$\n",
      "  \n",
      "**Anyone remember what the difference between a set union and a set intersect is?**"
     ]
    },
    {
     "cell_type": "heading",
     "level": 2,
     "metadata": {},
     "source": [
      "Summation"
     ]
    },
    {
     "cell_type": "markdown",
     "metadata": {},
     "source": [
      "**Stats class anyone?** \n",
      "\n",
      "$\\sum\\limits_{i=1}^ni=1 + 2 + 3 + \\dots + n$\n",
      "\n",
      "* [Summation](http://en.wikipedia.org/wiki/Summation) is the operation of adding a sequence of numbers."
     ]
    },
    {
     "cell_type": "heading",
     "level": 2,
     "metadata": {},
     "source": [
      "Anyone freaking yet?"
     ]
    },
    {
     "cell_type": "markdown",
     "metadata": {},
     "source": [
      "<img style=\"float:left; width: 500px\" src=\"img/eyes_popped_out.png\">"
     ]
    },
    {
     "cell_type": "markdown",
     "metadata": {},
     "source": [
      "\n",
      "**IT'S OK! We've still got Python to help us**. Let's put all of this in terms we understand."
     ]
    },
    {
     "cell_type": "heading",
     "level": 2,
     "metadata": {},
     "source": [
      "Coding challenge: Translation to Python"
     ]
    },
    {
     "cell_type": "markdown",
     "metadata": {},
     "source": [
      "All of the above statements can be expressed in Python. **Translate** them!\n",
      "\n",
      "For example:\n",
      "\n",
      "```python\n",
      "# 1\n",
      "N = set(range(1, 11))\n",
      "```\n",
      "\n",
      "Translate the following:\n",
      "\n",
      "1. N = $\\{1,\\dots,10\\}$\n",
      "2. $5 \\in N$\n",
      "3. $\\{4 | 4 \\in N \\}$\n",
      "4. $\\{1, 3, 4\\} \\subset N$\n",
      "5. $a = \\{1, 2, 3\\}$\n",
      "6. $b = \\{3, 4, 5\\}$\n",
      "7. $a \\cap b$\n",
      "8. $a \\cup b$\n",
      " \n",
      "**Hint:** Ever looked at the Python docs for [set](https://docs.python.org/2/library/sets.html)?"
     ]
    },
    {
     "cell_type": "code",
     "collapsed": false,
     "input": [
      "# Translate here. Add as many new cells as you like."
     ],
     "language": "python",
     "metadata": {},
     "outputs": [],
     "prompt_number": 2
    },
    {
     "cell_type": "heading",
     "level": 3,
     "metadata": {},
     "source": [
      "Everyone knows how to do a summation in Python right?"
     ]
    },
    {
     "cell_type": "code",
     "collapsed": false,
     "input": [
      "sum(range(5))"
     ],
     "language": "python",
     "metadata": {},
     "outputs": [
      {
       "metadata": {},
       "output_type": "pyout",
       "prompt_number": 3,
       "text": [
        "10"
       ]
      }
     ],
     "prompt_number": 3
    },
    {
     "cell_type": "markdown",
     "metadata": {},
     "source": [
      "**What if we need to apply an operation to each element in the summation first?**\n",
      "    \n",
      "$\\sum\\limits_{i=1}^ni^2=1^2 + 2^2 + 3^2 + \\dots + n^2$\n",
      "\n",
      "Implement a one liner in Python that performs the above summation with n = 4."
     ]
    },
    {
     "cell_type": "code",
     "collapsed": false,
     "input": [
      "# One liner here :)\n",
      "sum(map(lambda x: x * x, range(5)))"
     ],
     "language": "python",
     "metadata": {},
     "outputs": [
      {
       "metadata": {},
       "output_type": "pyout",
       "prompt_number": 4,
       "text": [
        "30"
       ]
      }
     ]
    },
    {
     "cell_type": "heading",
     "level": 2,
     "metadata": {},
     "source": [
      "Ok down to business: Formal representations of graphs a la Jackson"
     ]
    },
    {
     "cell_type": "markdown",
     "metadata": {},
     "source": [
      "**pp. 41-44**\n",
      "\n",
      "Jackson defines a graph as a set $N = \\{1,...,n\\}$ of n nodes involved in a network of relationships defined as a real valued $n x n$ matrix $g$, where $g_{ij}$ represents the relation between $i$ and $j$.\n",
      "\n",
      "* $graph = (N,g)$\n",
      "\n",
      "\n",
      "* $N = \\{1, 2, 3\\}$\n",
      "\n",
      "\n",
      "* $g = \\begin{bmatrix}0 & 1 & 0\\\\1 & 0 & 1\\\\0 & 1 & 0\\end{bmatrix}$\n",
      "\n",
      "A network is **directed** if if it is possible that:\n",
      "\n",
      "* $g_{ij} \\ne g_{ji}$ \n",
      "\n",
      "Edges can also be represented as a **set of tuples**:\n",
      "    \n",
      "* $g = \\{(1,2), (2,3)\\}$\n",
      "\n",
      "A **subset** of edges:\n",
      "\n",
      "* $g' \\subset g = \\{ij | ij \\in g' \\} \\subset \\{ij | ij \\in g\\}$\n",
      "\n",
      "The network created by deleting all edges except those that are between nodes in the set $S$ where $S \\subset N$:\n",
      " \n",
      "* $[g|s]_{ij} = \\begin{cases} 1\\ \\text{if}\\ i \\in S, j \\in S, g_{ij} = 1,\\ \\text{else}\\ \\\\ 0  \\end{cases}$\n",
      "\n",
      "The set of **all undirected and unweighted networks** on $N$:\n",
      "\n",
      "* $G(N)$\n",
      "\n",
      "The **set of nodes** that have **at least one link** in the network $g$:\n",
      "\n",
      "* $N(g) = \\{i|\\exists j\\  \\text{s.t.}\\ ij \\in g,\\ \\text{or}\\ ji \\in g\\}$\n",
      "\n",
      "**Can you translate that to set builder speak?**"
     ]
    },
    {
     "cell_type": "heading",
     "level": 2,
     "metadata": {},
     "source": [
      "Isomorphism"
     ]
    },
    {
     "cell_type": "markdown",
     "metadata": {},
     "source": [
      "[Isomorphism](http://en.wikipedia.org/wiki/Graph_isomorphism) is a mapping (bijection) that preserves edge structure.\n",
      "\n",
      "Jackson p. 43 one line at a time:\n",
      "\n",
      "* $(N, g)$ and $(N', g')$ are isomorphic if there exists a bijection \n",
      "\n",
      "* $f : N \\to N'$  such that \n",
      "\n",
      "* $ij \\in g$  if and only if \n",
      "\n",
      "* $f(i)f(j) \\in g'$"
     ]
    },
    {
     "cell_type": "heading",
     "level": 2,
     "metadata": {},
     "source": [
      "Paths and Cycles"
     ]
    },
    {
     "cell_type": "markdown",
     "metadata": {},
     "source": [
      "**Page 44-45**\n",
      "\n",
      "Definitions:\n",
      "\n",
      "* A walk is a sequence of links connecting a sequence of nodes.\n",
      "\n",
      "* A cycle is a walk that starts and ends at the same node, with all nodes appearing once except the starting node which also appears as the ending node.\n",
      "\n",
      "* A path is a walk where a node appears at most once in the sequence.\n",
      "\n",
      "* A geodesic between two nodes is a shortest path between them.\n",
      "\n",
      "**Formally...**\n",
      "\n",
      "\n",
      "A **path** in a network  $g \\in G(N)$ betgween nodes $i$ and $j$ is a sequence of links\n",
      "\n",
      "* $i_1,i_2,\\dots,i_{K-1},i_K$ such that \n",
      "\n",
      "* $i_ki_{k+1} \\in g$ for each\n",
      "\n",
      "* $k \\in \\{1,\\dots,K-1\\}$, with \n",
      "\n",
      "* $i_1 = i$ and $i_K = j$, and such that each node in the sequence\n",
      "\n",
      "* $i_1,\\dots,i_K$ is distinct.\n",
      "\n",
      "\n",
      "\n",
      "A **walk** in a network  $g \\in G(N)$ betgween nodes $i$ and $j$ is a sequence of links\n",
      "\n",
      "* $i_1,i_2,\\dots,i_{K-1},i_K$ such that \n",
      "\n",
      "* $i_kI_{k+1} \\in g$ for each\n",
      "\n",
      "* $k \\in \\{1,\\dots,K-1\\}$, with \n",
      "\n",
      "* $i_1 = i$ and $i_K = j$\n",
      "\n",
      "**WAIT! WHAT'S THE DIFFERENCE BETWEEN A PATH AND A WALK AGAIN?**"
     ]
    },
    {
     "cell_type": "heading",
     "level": 2,
     "metadata": {},
     "source": [
      "Components and connectivity"
     ]
    },
    {
     "cell_type": "markdown",
     "metadata": {},
     "source": [
      "**Remember** that a network is connected (path connected) if every two nodes in the network are connected by some path in the network.\n",
      "\n",
      "* $(N,g)$ is connected if for each $i \\in N$ and $j \\in N$ there exists a path in $(N,g)$ between $i$ and $j$\n",
      "\n",
      "A component of a network $(N,g)$, is a nonempty subnetwork $(N',g')$ such that $\\emptyset \\ne N' \\subset N, g' \\subset g, $ and\n",
      "\n",
      "* $(N',g')$ is connected, and\n",
      "* if $i \\in N'$ and $ij \\in g,$ then $j \\in N'$ and $ij \\in g'$\n",
      "\n",
      "Set of components of a network $(N,g)$ is denoted $C(N,g)$"
     ]
    },
    {
     "cell_type": "heading",
     "level": 2,
     "metadata": {},
     "source": [
      "Node neighborhoods"
     ]
    },
    {
     "cell_type": "markdown",
     "metadata": {},
     "source": [
      "**pp. 50-51**\n",
      "\n",
      "The **neighborhood** of a node i is the set of nodes that i is linked to.\n",
      "\n",
      "* $N_i(g)=\\{j: g_{ij} = 1\\}$\n",
      "\n",
      "Given some set of nodes $S$, the neighborhood of $S$ is the union of the neighborhoods of its members:\n",
      "\n",
      "* $N_S(g) = \\bigcup\\limits_{i \\in S} N_i(g) = \\{j: \\exists i \\in S, g_{ij}=1\\}$\n",
      "\n",
      "We can also extend the neighborhood of a node, remember we tried to do this in class 4...\n",
      "\n",
      "* $N_i^k(g) = N_i(g) \\cup \\bigg( \\bigcup\\limits_{j \\in N_i(g)} N_j^{k-1}(g) \\bigg)$"
     ]
    },
    {
     "cell_type": "heading",
     "level": 2,
     "metadata": {},
     "source": [
      "Degree"
     ]
    },
    {
     "cell_type": "markdown",
     "metadata": {},
     "source": [
      "**pp. 51**\n",
      "\n",
      "The **degree** of node is the number of links that are connected to it.\n",
      "\n",
      "A node $i$'s degree in a network $g$, denoted $d_i(g)$ is:\n",
      "\n",
      "  - $d_i(g) = \\# \\{j: g_{ji} = 1 \\} = \\# N_i(g)$"
     ]
    },
    {
     "cell_type": "heading",
     "level": 2,
     "metadata": {},
     "source": [
      "Phew, that was exhausting"
     ]
    },
    {
     "cell_type": "markdown",
     "metadata": {},
     "source": [
      "<img style=\"float:left; width: 500px\" src=\"img/ren-tired-eyes.jpg\">"
     ]
    },
    {
     "cell_type": "heading",
     "level": 2,
     "metadata": {},
     "source": [
      "I know, let's play with some graphs!"
     ]
    },
    {
     "cell_type": "markdown",
     "metadata": {},
     "source": [
      "<img style=\"float:left; width: 500px\" src=\"img/ren_idea.jpg\">"
     ]
    },
    {
     "cell_type": "heading",
     "level": 2,
     "metadata": {},
     "source": [
      "Degree Distribution"
     ]
    },
    {
     "cell_type": "markdown",
     "metadata": {},
     "source": [
      "**Degree distribution** is one of the fundamental ways to describe a graph. It describes the relative frequencies of the nodes that have different degrees in the graph.\n",
      "\n",
      "* Two famous degree distributions, resulting from two kinds of networks:\n",
      "  - Scale free network\n",
      "  - Random network\n",
      "* Lot's more on this later this term...\n",
      "  \n",
      "**Look at the following examples. Is their anything about the structure of the two graphs that strikes you as different?**"
     ]
    },
    {
     "cell_type": "code",
     "collapsed": false,
     "input": [
      "# Config environment for code examples.\n",
      "%matplotlib inline\n",
      "import networkx as nx\n",
      "import matplotlib as plt\n",
      "plt.rcParams['figure.figsize'] = 17, 12"
     ],
     "language": "python",
     "metadata": {},
     "outputs": []
    },
    {
     "cell_type": "code",
     "collapsed": false,
     "input": [
      "g = nx.scale_free_graph(40).to_undirected()\n",
      "nx.draw_networkx(g)"
     ],
     "language": "python",
     "metadata": {},
     "outputs": []
    },
    {
     "cell_type": "code",
     "collapsed": false,
     "input": [
      "g = nx.gnp_random_graph(40, 0.1)\n",
      "nx.draw_networkx(g)"
     ],
     "language": "python",
     "metadata": {},
     "outputs": []
    },
    {
     "cell_type": "heading",
     "level": 2,
     "metadata": {},
     "source": [
      "Measures of centrality"
     ]
    },
    {
     "cell_type": "markdown",
     "metadata": {},
     "source": [
      "**pp. 61-65**\n",
      "\n",
      "**Degree centrality** - a normalized measure of a node's connectivity:\n",
      "\n",
      "* $\\frac{d_i(g)}{n - 1}$\n",
      "\n",
      "**Closeness centrality** - a the inverse of the average distance between $i$ and any other node:\n",
      "\n",
      "* $\\frac{n-1}{\\sum\\limits_{j \\ne i}\\ell(i,j)}$ , where \n",
      "* $\\ell(i,j)$ is the number of links in the shortest path between $i$ and $j$\n",
      "\n",
      "**Betweenness centrality** - the proportion of how many shortest paths a node lies on averaged across all pairs of nodes in a network:\n",
      "\n",
      "* $Ce_i^B(g)= \\sum\\limits_{k \\ne j: i \\notin \\{k,j\\}} \\frac{P_i(kj)/P(kj)}{(n-1)(n-2)/2}$"
     ]
    },
    {
     "cell_type": "heading",
     "level": 2,
     "metadata": {},
     "source": [
      "Coding challenge: Plotting degree distribution"
     ]
    },
    {
     "cell_type": "markdown",
     "metadata": {},
     "source": [
      "Use NetworkX to generate a [scale free graph]() and a [gnp random graph](), then plot the degree distribution of each graph...\n",
      "\n",
      "**HINTS:**\n",
      "\n",
      "* Degree distribution plots the probability $P(k)$ that a node has the degree $k$\n",
      "* You calculate $P(k)$ by dividing the number of nodes in the network with degree $k$ by the total number of nodes $n$ in the graph.\n",
      "  - $P(k) = \\frac{\\# nodes\\ with\\ degree\\ k} {\\# nodes}$\n",
      "* On the x axis of the graph you plot the degree, $k$\n",
      "* On the y-axis of the graph you plot the probability $P(k)$\n",
      "* Some useful functions:\n",
      "\n",
      "```python\n",
      "nx.degree(graph)\n",
      "plt.scatter(xvals, yvals)\n",
      "plt.yscale(\"log\")\n",
      "plt.xscale(\"log\")\n",
      "```"
     ]
    },
    {
     "cell_type": "code",
     "collapsed": false,
     "input": [
      "def degree_distribution(g):\n",
      "    \"\"\"\n",
      "    :param g: networkx.Graph\n",
      "    :returns ?: whatever you need to plot the degree distribution.\n",
      "    \"\"\"\n",
      "    pass\n",
      "\n",
      "# Here you can either script or write a function to plot the degree distributions.\n",
      "# Use as many cells as you need."
     ],
     "language": "python",
     "metadata": {},
     "outputs": []
    }
   ],
   "metadata": {}
  }
 ]
}