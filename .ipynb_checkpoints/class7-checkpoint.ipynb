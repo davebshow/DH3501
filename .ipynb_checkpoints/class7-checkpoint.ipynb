{
 "metadata": {
  "name": "",
  "signature": "sha256:f51f28a59d27241840975d026c6410aee83e00469a26c6fb688b1a89d4e5b2e5"
 },
 "nbformat": 3,
 "nbformat_minor": 0,
 "worksheets": [
  {
   "cells": [
    {
     "cell_type": "markdown",
     "metadata": {},
     "source": [
      "<div align=\"left\">\n",
      "<h4><a href=\"index.ipynb\">RETURN TO INDEX</a></h4>\n",
      "</div>\n",
      "<div align=\"center\">\n",
      "<h1><a href=\"index.ipynb\">DH3501: Advanced Social Networks</a><br/><br/><em>Class 7</em>: Triadic Closure and the Strength of Ties</h1>\n",
      "</div>"
     ]
    },
    {
     "cell_type": "markdown",
     "metadata": {},
     "source": [
      "<div style=\"float:left\">\n",
      "<b>Western University</b><br/>\n",
      "<b>Department of Modern Languages and Literatures</b><br/>\n",
      "<b>Digital Humanities \u2013 DH 3501</b><br/>\n",
      "<br/>\n",
      "<b>Instructor</b>: David Brown<br/>\n",
      "<b>E-mail</b>: <a href=\"mailto:dbrow52@uwo.ca\">dbrow52@uwo.ca</a><br/>\n",
      "<b>Office</b>: AHB 1R14<br/>\n",
      "</div>\n",
      "<div style=\"float:left\">\n",
      "<img style=\"width:200px; margin-left:100px\" src=\"http://www.bsr.org/images/blog/networks.jpg\" />\n",
      "</div>"
     ]
    },
    {
     "cell_type": "heading",
     "level": 2,
     "metadata": {},
     "source": [
      "So...how did it go? Let's start by talking about the famous study performed by Mark Granovetter."
     ]
    },
    {
     "cell_type": "markdown",
     "metadata": {},
     "source": [
      "* What was Granovetter interested in?\n",
      "\n",
      "* How did he gather his data?\n",
      "\n",
      "* What were his results?\n",
      "\n",
      "* Why is this signifigant for network studies?"
     ]
    },
    {
     "cell_type": "heading",
     "level": 2,
     "metadata": {},
     "source": [
      "Triadic closure"
     ]
    },
    {
     "cell_type": "markdown",
     "metadata": {},
     "source": [
      "Triadic closure represents our first approach to studying the **dynamics of networks**. While measures like centrality consider a network as a snapshot, frozen in time, triadic closure focuses on the mechanisms of new edge formation over time.\n",
      "\n",
      "An aphoristic description of triadic closure:\n",
      "\n",
      "* If two people in a social network have a friend in common, then there is an increased likelihood that they will become friends themselves at some point in the future - Anatole Rapoport, 1953"
     ]
    },
    {
     "cell_type": "markdown",
     "metadata": {},
     "source": [
      "<img style=\"width:600px; float:left;\" src=\"img/triadic_closure.png\" />"
     ]
    },
    {
     "cell_type": "markdown",
     "metadata": {},
     "source": [
      "**Edge formation over time**"
     ]
    },
    {
     "cell_type": "heading",
     "level": 3,
     "metadata": {},
     "source": [
      "Clustering coefficient"
     ]
    },
    {
     "cell_type": "markdown",
     "metadata": {},
     "source": [
      "The probability that two randomly selected neighbors of a node will have an edge in common. \n",
      "\n",
      "* $C=\\frac{\\#\\ of\\ complete\\ triangles}{\\#\\ of\\ possible\\ triangles}$\n",
      "\n",
      "**or**\n",
      "\n",
      "* $Cl_i(g) = \\frac{\\#\\{jk \\in g | k \\ne j, j \\in N_i(g) k \\in N_i(g) \\}}{d_i(g)(d_i(g) - 1)/2}$\n",
      "\n",
      "\n",
      "* $Cl^{Avg}(g)=\\sum \\limits_{i}Cl_i(g)/n$\n",
      "\n",
      "Can someone read the set builder notation?\n",
      "\n",
      "What are some of the reasons behind triadic closure and clustering?"
     ]
    },
    {
     "cell_type": "heading",
     "level": 2,
     "metadata": {},
     "source": [
      "Bridges and the strength of weak ties"
     ]
    },
    {
     "cell_type": "markdown",
     "metadata": {},
     "source": [
      "<img style=\"width:600px; float:left;\" src=\"img/Indy_cuts_bridge.jpg\" />"
     ]
    },
    {
     "cell_type": "markdown",
     "metadata": {},
     "source": [
      "**What's in a bridge?**\n",
      "\n",
      "<img style=\"width:600px; float:left;\" src=\"img/bridge.png\" />"
     ]
    },
    {
     "cell_type": "heading",
     "level": 3,
     "metadata": {},
     "source": [
      "Bridges in real world networks"
     ]
    },
    {
     "cell_type": "markdown",
     "metadata": {},
     "source": [
      "Based on what we've read about bridges, giant components, and networks in general, do you think that bridges are rare or common? Why?\n",
      "\n",
      "Were might you be likely to find a bridge in a real world network?"
     ]
    },
    {
     "cell_type": "heading",
     "level": 3,
     "metadata": {},
     "source": [
      "Local Bridges"
     ]
    },
    {
     "cell_type": "markdown",
     "metadata": {},
     "source": [
      "<img style=\"width:600px; float:left;\" src=\"img/local_bridges.png\" />"
     ]
    },
    {
     "cell_type": "markdown",
     "metadata": {},
     "source": [
      "A **local bridge** is an edge connecting A and B where A and B have no friends in common. Can you write that in set builder notation?\n",
      "\n",
      "* This structure is much more prevalent in real world networks than a true bridge.\n",
      "\n",
      "* **But**, for all intents and purposes, **local bridges** play a **similar role** in the network as a true bridge.\n",
      "\n",
      "**HEY WAIT A MINUTE!!!** How does a local bridge relate to the concept of triadic closure?"
     ]
    },
    {
     "cell_type": "heading",
     "level": 2,
     "metadata": {},
     "source": [
      "Strong Triadic Closure Property"
     ]
    },
    {
     "cell_type": "markdown",
     "metadata": {},
     "source": [
      "Relationships can have a *strength*.\n",
      "\n",
      "* For our purposes here, we will simply define a relationship as either  strong, representing a close relationship, and weak, representing a more distant relationship (something like *friends vs. acquaintances*).\n",
      "\n",
      "* How do you think that strength of ties interacts with triadic closure? \n",
      "\n",
      "**Strong Triadic Closure Property** as defined by Granovetter:\n",
      "\n",
      "* We say that a node A violates the Strong Triadic Closure Property if it has strong ties to two other nodes B and C, and there is no edge at all (either a strong or weak tie) between B and C. We say that a node A satisfies the Strong Triadic Closure Property if it does not violate it.\n",
      "\n",
      "\n",
      "What do you think about this model? Do you think it holds true in an empirical setting?"
     ]
    },
    {
     "cell_type": "markdown",
     "metadata": {},
     "source": [
      "<img style=\"width:600px; float:left;\" src=\"img/strong_triadic.png\" />"
     ]
    },
    {
     "cell_type": "heading",
     "level": 4,
     "metadata": {},
     "source": [
      "Does the above image satisfy the Strong Triadic Closure Property?"
     ]
    },
    {
     "cell_type": "heading",
     "level": 2,
     "metadata": {},
     "source": [
      "Thought experiment: Evaluate the following claim"
     ]
    },
    {
     "cell_type": "markdown",
     "metadata": {},
     "source": [
      "Is the following claim true? **Prove it**!\n",
      "\n",
      "If a node A in a network satisfies the Strong Triadic Closure Property and is involved in at least two strong ties, then any local bridge it is involved in must be a weak tie.\n",
      "\n",
      "**Wait a minute**...is this reality, or just a model? Can it be useful anyway? "
     ]
    },
    {
     "cell_type": "heading",
     "level": 2,
     "metadata": {},
     "source": [
      "Neighborhood overlap"
     ]
    },
    {
     "cell_type": "markdown",
     "metadata": {},
     "source": [
      "Onnela et al.\n",
      "\n",
      "* Who-talks-to-whom cell phone data.\n",
      "\n",
      "* Uses total time spent talking as proxy for edge strength.\n",
      "\n",
      "* Instead of a strong weak dichotomy, edges display a gradient of strength. \n",
      "\n",
      "* Certain edges are \"alomst\" local bridges.\n",
      "\n",
      "* Neighborhood overlap:\n",
      "\n",
      "$\\frac{\\# N_A(g) \\cap N_B(g)}{\\# N_A(g) \\cup N_B(g)}$\n",
      "\n",
      "Who can read it?\n",
      "\n",
      "Are the results from Onnela consistent with the priciples that we've seen today?"
     ]
    },
    {
     "cell_type": "heading",
     "level": 2,
     "metadata": {},
     "source": [
      "Analysis: Tie Strength on Facebook"
     ]
    },
    {
     "cell_type": "markdown",
     "metadata": {},
     "source": [
      "* Thinking about the study described in E & K, how did the researchers determine tie strength? \n",
      "\n",
      "* Do you think that these represent a well chosen \"proxy\" for edge strength?\n",
      "\n",
      "* Based on your experience with Facebook, how well do you think the results presented in this study translate to the real world?"
     ]
    },
    {
     "cell_type": "heading",
     "level": 2,
     "metadata": {},
     "source": [
      "Structure and social capital"
     ]
    },
    {
     "cell_type": "markdown",
     "metadata": {},
     "source": [
      "An embedded edge has certain, interesting properties:\n",
      "\n",
      "* Embeddedness of an edge $=\\# N_A(g) \\cap N_B(g)$\n",
      "\n",
      "* Involved nodes are \"on display\", and at high risk of social sanctions. \n",
      "\n",
      "* Interactions across non-embedded edge are considered to be more consequence free..\n",
      "\n",
      "Structural holes are spanned by local bridges...\n",
      "\n",
      "* Can you think of an example of a structural hole?\n",
      "\n",
      "* What kinds of advantages are incurred by nodes on that form local bridges?\n",
      "\n",
      "Social capital:\n",
      "\n",
      "* \"Consensus is growing in the literature that social capital stands for the ability of actors to secure benefits by virtue of membership in social networks or other social structures\" Porte in E & K, 68"
     ]
    },
    {
     "cell_type": "heading",
     "level": 2,
     "metadata": {},
     "source": [
      "Coding challenge: Local bridges"
     ]
    },
    {
     "cell_type": "markdown",
     "metadata": {},
     "source": [
      "Implement an algorithm that iterates over all of a graphs edges, determines which of them are local bridges, and returns these bridges as a list of tuples.\n",
      "\n",
      "**Hints** \n",
      "\n",
      "* Try to implement something similar to what we created in set builder notation.\n",
      "\n",
      "* Start by programming on paper. Come up with an algorithm, all of the steps you will need to complete the task, and write it out before you implement it in Python.\n",
      "\n",
      "* Some useful callables:\n",
      "\n",
      "```python\n",
      "networkx.neighbors\n",
      "set.union\n",
      "set.intersection\n",
      "```\n",
      "...are there **other ways** to access neighbors using the NetworkX internal data structures...? You may prefer to use these..."
     ]
    },
    {
     "cell_type": "code",
     "collapsed": false,
     "input": [
      "# Challenge code goes here..."
     ],
     "language": "python",
     "metadata": {},
     "outputs": []
    }
   ],
   "metadata": {}
  }
 ]
}