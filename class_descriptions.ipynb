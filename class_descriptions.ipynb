{
 "metadata": {
  "name": "",
  "signature": "sha256:2a2083f33cda3576bbf3bdeb1f534b6aed3fe55ed49fc252f3f45eabbf1c36ef"
 },
 "nbformat": 3,
 "nbformat_minor": 0,
 "worksheets": [
  {
   "cells": [
    {
     "cell_type": "markdown",
     "metadata": {},
     "source": [
      "<div align=\"left\">\n",
      "    <h4>[RETURN TO INDEX](index.ipynb)</h4>\n",
      "</div>"
     ]
    },
    {
     "cell_type": "heading",
     "level": 3,
     "metadata": {},
     "source": [
      "Class4"
     ]
    },
    {
     "cell_type": "markdown",
     "metadata": {},
     "source": [
      "Intro sent.\n",
      "\n",
      "  * Goals:\n",
      "    *\n",
      "    *\n",
      "\n",
      "  * Topics:\n",
      "    *\n",
      "    *"
     ]
    },
    {
     "cell_type": "heading",
     "level": 2,
     "metadata": {},
     "source": [
      "Class6"
     ]
    }
   ],
   "metadata": {}
  }
 ]
}