{
 "metadata": {
  "name": "",
  "signature": "sha256:8956d291b2e5c2c8bad17a9c578145afb2565f558262b434bbde3f967ce06eea"
 },
 "nbformat": 3,
 "nbformat_minor": 0,
 "worksheets": [
  {
   "cells": [
    {
     "cell_type": "heading",
     "level": 3,
     "metadata": {},
     "source": [
      "Class4"
     ]
    },
    {
     "cell_type": "markdown",
     "metadata": {},
     "source": [
      "Intro sent.\n",
      "\n",
      "  * Goals:\n",
      "    *\n",
      "    *\n",
      "\n",
      "  * Topics:\n",
      "    *\n",
      "    *"
     ]
    },
    {
     "cell_type": "heading",
     "level": 2,
     "metadata": {},
     "source": [
      "Class6"
     ]
    }
   ],
   "metadata": {}
  }
 ]
}