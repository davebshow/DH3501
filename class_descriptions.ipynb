{
 "metadata": {
  "name": "",
  "signature": "sha256:ae8982a811ed2317f3dccf735366b18e9870238b6e7bcf1d722b7bf2a176ae45"
 },
 "nbformat": 3,
 "nbformat_minor": 0,
 "worksheets": [
  {
   "cells": [
    {
     "cell_type": "markdown",
     "metadata": {},
     "source": [
      "<div align=\"left\">\n",
      "<h4><a href=\"index.ipynb\">RETURN TO INDEX</a></h4>\n",
      "</div>\n",
      "<div align=\"center\">\n",
      "<h1><a href=\"index.ipynb\">DH3501: Advanced Social Networks</a><br/>"
     ]
    },
    {
     "cell_type": "heading",
     "level": 3,
     "metadata": {},
     "source": [
      "Class4"
     ]
    },
    {
     "cell_type": "markdown",
     "metadata": {},
     "source": [
      "Intro sent.\n",
      "\n",
      "  * Goals:\n",
      "    *\n",
      "    *\n",
      "\n",
      "  * Topics:\n",
      "    *\n",
      "    *"
     ]
    },
    {
     "cell_type": "heading",
     "level": 2,
     "metadata": {},
     "source": [
      "Class6"
     ]
    }
   ],
   "metadata": {}
  }
 ]
}