{
 "cells": [
  {
   "cell_type": "markdown",
   "metadata": {},
   "source": [
    "# Graph Databases and the Humanities"
   ]
  },
  {
   "cell_type": "code",
   "execution_count": 2,
   "metadata": {
    "collapsed": false
   },
   "outputs": [
    {
     "name": "stdout",
     "output_type": "stream",
     "text": [
      "The gremlin extension is already loaded. To reload it, use:\n",
      "  %reload_ext gremlin\n"
     ]
    }
   ],
   "source": [
    "%matplotlib inline\n",
    "%load_ext gremlin\n",
    "import asyncio\n",
    "import aiogremlin\n",
    "import networkx as nx"
   ]
  },
  {
   "cell_type": "markdown",
   "metadata": {},
   "source": [
    "##What's a graph?"
   ]
  },
  {
   "cell_type": "markdown",
   "metadata": {},
   "source": [
    "A binary mathematical structure consisting of nodes and edges:\n",
    "\n",
    "$g = \\begin{bmatrix}0 & 1\\\\1 & 0\\end{bmatrix}$\n",
    "\n"
   ]
  },
  {
   "cell_type": "code",
   "execution_count": 8,
   "metadata": {
    "collapsed": false
   },
   "outputs": [
    {
     "data": {
      "image/png": "[encoded data removed]",
      "text/plain": [
       "<matplotlib.figure.Figure at 0x7fa3bb465240>"
      ]
     },
     "metadata": {},
     "output_type": "display_data"
    }
   ],
   "source": [
    "g = nx.scale_free_graph(10)\n",
    "nx.draw_networkx(g)"
   ]
  },
  {
   "cell_type": "markdown",
   "metadata": {},
   "source": [
    "## Graphs are everywhere these days!\n",
    "\n",
    "* Facebook\n",
    "\n",
    "* Twitter\n",
    "\n",
    "* LinkedIn"
   ]
  },
  {
   "cell_type": "markdown",
   "metadata": {},
   "source": [
    "<img src=\"img/linkedin.jpg\" style=\"width: 800px; float: left;\" /><br> "
   ]
  },
  {
   "cell_type": "markdown",
   "metadata": {},
   "source": [
    "But **wait**...these graphs are more than ones and zeros...\n",
    "\n",
    "<img style=\"float: left\" src=\"http://i.guim.co.uk/static/w-620/h--/q-95/sys-images/Film/Pix/pictures/2009/5/8/1241793515016/Keanu-Reeves-in-Bill-and--001.jpg\" />"
   ]
  },
  {
   "cell_type": "markdown",
   "metadata": {},
   "source": [
    "## Property graph model\n",
    "\n",
    "<img src=\"img/property_graph.jpg\" style=\"width: 800px; float: left;\" /><br> "
   ]
  },
  {
   "cell_type": "markdown",
   "metadata": {},
   "source": [
    "##Why graphs?\n",
    "\n",
    "Graphs are very good at representing complex interrelations between entities...\n",
    "\n",
    "<img src=\"img/flavors.png\" style=\"width: 800px; float: left;\" /><br> "
   ]
  },
  {
   "cell_type": "markdown",
   "metadata": {},
   "source": [
    "Ahn, Y. Y., Ahnert, S. E., Bagrow, J. P., & Barabási, A. L. (2011). Flavor network and the principles of food pairing. Scientific reports, 1."
   ]
  },
  {
   "cell_type": "markdown",
   "metadata": {},
   "source": [
    "<img src=\"img/cultural.png\" style=\"width: 800px; float: left;\" />"
   ]
  },
  {
   "cell_type": "markdown",
   "metadata": {},
   "source": [
    "Schich, M., Song, C., Ahn, Y. Y., Mirsky, A., Martino, M., Barabási, A. L., & Helbing, D. (2014). A network framework of cultural history. Science, 345(6196), 558-562."
   ]
  },
  {
   "cell_type": "markdown",
   "metadata": {
    "collapsed": true
   },
   "source": [
    "## The CulturePlex Lab: Our research\n",
    "\n",
    "* The production and diffusion of cultural objects.\n",
    "\n",
    "###Towards a Digital Geography of Hispanic Baroque Art\n",
    "\n",
    "<img src=\"img/dig_geo.png\" style=\"width: 800px; float: left;\" />"
   ]
  },
  {
   "cell_type": "markdown",
   "metadata": {},
   "source": [
    "### The Art Space of a Global Community\n",
    "\n",
    "<img src=\"img/global.png\" style=\"width: 800px; float: left;\" />"
   ]
  },
  {
   "cell_type": "markdown",
   "metadata": {},
   "source": [
    "### Why GraphDBs?\n",
    "\n",
    "* Relational databases:\n",
    "\n",
    "  - Inflexible\n",
    "  - Bad at relationships\n",
    "  - Lacking in semantic richness\n",
    "  \n",
    "#### Neo4j\n",
    "\n",
    "<img src=\"img/neo4jlogo.png\" style=\"width: 800px; float: left;\" />\n"
   ]
  },
  {
   "cell_type": "markdown",
   "metadata": {},
   "source": [
    "* Neo4jrestclient by versae - 58977 downloads\n",
    "\n",
    "* SylvaDB"
   ]
  },
  {
   "cell_type": "markdown",
   "metadata": {},
   "source": [
    "### SylvaDB\n",
    "\n",
    "<img src=\"img/sylva.png\" style=\"width: 800px; float: left;\" />"
   ]
  },
  {
   "cell_type": "markdown",
   "metadata": {},
   "source": [
    "* Landscapes of Castas Painting - Masters Thesis/DH2014\n",
    "* Preliminaries Project - DH2013/Congress 2015\n",
    "\n",
    "**Interested in SylvaDB? Check out Javier de la Rosa's talk tomorrow at 11:00 in Colonel By E015**\n",
    "\n",
    "**Interested in the Preliminaries Project? Check out my talk on Wednesday at 1:15 in Colonel By C03**"
   ]
  },
  {
   "cell_type": "markdown",
   "metadata": {},
   "source": [
    "### projx\n",
    "\n",
    "* Preliminaries Projections required a wide variety of schema transformations and projections.\n",
    "\n",
    "* A tedious task to be sure.\n",
    "\n",
    "* Enter projx - a graph transformation library written in Python with a Cypher based DSL\n",
    "\n",
    "```python\n",
    "subgraph = projection.execute(\"\"\"\n",
    "    MATCH   (p1:Person)-(wild)-(p2:Person)\n",
    "    PROJECT (p1)-(p2)\n",
    "    METHOD NEWMAN Institution, City\n",
    "    SET     label = wild.label\n",
    "    DELETE  wild\n",
    "\"\"\")\n",
    "```"
   ]
  },
  {
   "cell_type": "markdown",
   "metadata": {},
   "source": [
    "### aiogremlin"
   ]
  },
  {
   "cell_type": "markdown",
   "metadata": {},
   "source": [
    "#### Tinkerpop/Gremlin Ecosystem\n",
    "\n",
    "* A standard API for graph databases\n",
    "\n",
    "* Gremlin traversal language\n",
    "\n",
    "* Tinkerpop enabled backends:\n",
    "\n",
    "  - Titan\n",
    "  - Neo4j\n",
    "  - Gremlin-Elastic\n",
    "  - Hadoop (Spark/Giraph)\n",
    "  \n",
    "* All accessed using the Gremlin Server"
   ]
  },
  {
   "cell_type": "markdown",
   "metadata": {},
   "source": [
    "<img style=\"float:left; width: 500px\" src=\"img/gremlin-server.png\">"
   ]
  },
  {
   "cell_type": "code",
   "execution_count": 9,
   "metadata": {
    "collapsed": false
   },
   "outputs": [],
   "source": [
    "@asyncio.coroutine\n",
    "def stream(gc):\n",
    "    results = []\n",
    "    resp = yield from gc.submit(\"x + x\", bindings={\"x\": 1})\n",
    "    while True:\n",
    "        result = yield from resp.stream.read()\n",
    "        if result is None:\n",
    "            break\n",
    "        results.append(result)\n",
    "    return results\n",
    "loop = asyncio.get_event_loop()\n",
    "gc = aiogremlin.GremlinClient()\n",
    "results = loop.run_until_complete(stream(gc))"
   ]
  },
  {
   "cell_type": "code",
   "execution_count": 10,
   "metadata": {
    "collapsed": false
   },
   "outputs": [
    {
     "data": {
      "text/plain": [
       "[Message(status_code=200, data=[2], message={}, metadata='')]"
      ]
     },
     "execution_count": 10,
     "metadata": {},
     "output_type": "execute_result"
    }
   ],
   "source": [
    "results"
   ]
  },
  {
   "cell_type": "code",
   "execution_count": 11,
   "metadata": {
    "collapsed": true
   },
   "outputs": [],
   "source": [
    "loop.run_until_complete(gc.close())  # Explicitly close client!!!"
   ]
  },
  {
   "cell_type": "markdown",
   "metadata": {},
   "source": [
    "###ipython-gremlin"
   ]
  },
  {
   "cell_type": "code",
   "execution_count": 12,
   "metadata": {
    "collapsed": false
   },
   "outputs": [
    {
     "data": {
      "text/plain": [
       "['vadas', 'josh']"
      ]
     },
     "execution_count": 12,
     "metadata": {},
     "output_type": "execute_result"
    }
   ],
   "source": [
    "%%gremlin\n",
    "\n",
    "graph = TinkerFactory.createModern()\n",
    "g = graph.traversal(standard())\n",
    "g.V().has('name','marko').out('knows').values('name')"
   ]
  },
  {
   "cell_type": "markdown",
   "metadata": {},
   "source": [
    "### 10 Million Spanish Books"
   ]
  },
  {
   "cell_type": "markdown",
   "metadata": {},
   "source": [
    "Identify statistical regularities in the production and diffusion of Spanish literature.\n",
    "\n",
    "* 13,188,245 records from OCLC\n",
    "\n",
    "* Neo4j/Tinkerpop/Apache Spark\n",
    "\n",
    "**Interested? Check out my talk on Wednesday at 11:00 in Louis-Pasteur 155**"
   ]
  },
  {
   "cell_type": "markdown",
   "metadata": {
    "collapsed": true
   },
   "source": [
    "### Conclusion: Graphs are cool!"
   ]
  },
  {
   "cell_type": "markdown",
   "metadata": {},
   "source": [
    "<img style=\"float: left\" src=\"img/gremlin-without-a-cause.png\" />"
   ]
  }
 ],
 "metadata": {
  "kernelspec": {
   "display_name": "Python 3",
   "language": "python",
   "name": "python3"
  },
  "language_info": {
   "codemirror_mode": {
    "name": "ipython",
    "version": 3
   },
   "file_extension": ".py",
   "mimetype": "text/x-python",
   "name": "python",
   "nbconvert_exporter": "python",
   "pygments_lexer": "ipython3",
   "version": "3.4.0"
  }
 },
 "nbformat": 4,
 "nbformat_minor": 0
}
