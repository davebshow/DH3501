{
 "cells": [
  {
   "cell_type": "markdown",
   "metadata": {},
   "source": [
    "<div align=\"left\">\n",
    "<h4><a href=\"index.ipynb\">RETURN TO INDEX</a></h4>\n",
    "</div>\n",
    "<div align=\"center\">\n",
    "<h1><a href=\"index.ipynb\">DH3501: Advanced Social Networks</a><br/><br/><em>Presentation</em></h1>\n",
    "</div>"
   ]
  },
  {
   "cell_type": "markdown",
   "metadata": {},
   "source": [
    "<div style=\"float:left\">\n",
    "<b>Western University</b><br/>\n",
    "<b>Department of Modern Languages and Literatures</b><br/>\n",
    "<b>Digital Humanities – DH 3501</b><br/>\n",
    "<br/>\n",
    "<b>Instructor</b>: David Brown<br/>\n",
    "<b>E-mail</b>: <a href=\"mailto:dbrow52@uwo.ca\">dbrow52@uwo.ca</a><br/>\n",
    "<b>Office</b>: AHB 1R14<br/>\n",
    "</div>\n",
    "<div style=\"float:left\">\n",
    "<img style=\"width:200px; margin-left:30px\" src=\"http://www.bsr.org/images/blog/networks.jpg\" />\n",
    "</div>"
   ]
  },
  {
   "cell_type": "markdown",
   "metadata": {},
   "source": [
    "<img style=\"width:300px; float:right; margin-right:200px\" src=\"img/network2.gif\" />\n",
    "## The Structure and Function of Networks\n",
    "\n",
    "* ####Fundamentals of graph theory and network analysis\n",
    "\n",
    "\n",
    "* ####Application of graph theory in data storage and analysis\n",
    "\n",
    "\n",
    "* ####Introduction to advanced topics in graph theory\n",
    "\n",
    "  * Random graphs\n",
    "  \n",
    "  * Strategy and interaction\n",
    "  \n",
    "  * Diffusion\n",
    "  \n",
    "* ####Innovative Research in Graph Theory"
   ]
  },
  {
   "cell_type": "markdown",
   "metadata": {},
   "source": [
    "<img style=\"width:300px; float:right; margin-right:150px\" src=\"img/western.gif\" />\n",
    "## DH at Western\n",
    "\n",
    "* ####IDI in Digital Humanities - “mastering high levels of digital literacy” and “formalizing and storing of cultural and historical data in complex relations”\n",
    "\n",
    "\n",
    "* ####Tooling/pedagological ecosystem\n",
    "\n",
    "  * Python based*\n",
    "\n",
    "\n",
    "* ####Integrated at third year level\n",
    "\n",
    "  * DH3501\n",
    "\n",
    "\n",
    "* ####Attract students from social/biological sciences\n",
    "\n",
    "*This course can also be offered without Python prereq..."
   ]
  },
  {
   "cell_type": "markdown",
   "metadata": {},
   "source": [
    "<img style=\"width:400px; float:right; margin-right:150px\" src=\"img/wals.jpg\" />\n",
    "## Theory and Practice\n",
    "\n",
    "* ####Core readings\n",
    "\n",
    "\n",
    "* ####Applied classroom activity\n",
    "\n",
    "\n",
    "* ####WALS classrooms\n",
    "\n",
    "\n",
    "* ####\"Real\" assignments"
   ]
  },
  {
   "cell_type": "markdown",
   "metadata": {},
   "source": [
    "## Open Source Course\n",
    "\n",
    "* #### All software is FREE\n",
    "  \n",
    "* #### Texts/readings are all available freely (at least for Western Students)\n",
    "\n",
    "#### Python\n",
    "\n",
    "```python\n",
    "@asyncio.coroutine\n",
    "def recv_coro(gc):\n",
    "    yield from gc.send(\"g.V().has(n, val).values(n)\",\n",
    "        bindings={\"n\": \"name\", \"val\": \"gremlin\"})\n",
    "    while True:\n",
    "        f = yield from gc.recv()\n",
    "        if f is None:\n",
    "            break\n",
    "        self.assertEqual(f[0], \"gremlin\")\n",
    "\n",
    "\n",
    ">>> gc.run_until_complete(recv_coro(gc))\n",
    "```\n",
    "\n",
    "#### Gephi\n",
    "\n",
    "<img style=\"width:400px; float:left;\" src=\"img/gephi.jpg\" />\n",
    "\n"
   ]
  },
  {
   "cell_type": "markdown",
   "metadata": {},
   "source": [
    "#### Neo4j Graph Database\n",
    "\n",
    "<img style=\"width:400px; float:left\" src=\"img/neo4j.png\" />"
   ]
  },
  {
   "cell_type": "markdown",
   "metadata": {},
   "source": [
    "#### Gremlin Ecosystem\n",
    "<img style=\"width:400px; float:left\" src=\"img/gremlin-server.png\" />"
   ]
  },
  {
   "cell_type": "markdown",
   "metadata": {},
   "source": [
    "<img style=\"width:150px; float:right; margin:10px;\" src=\"img/snas.jpg\" />\n",
    "<img style=\"width:150px; float:right; margin:10px;\" src=\"img/gdb.png\" />\n",
    "<img style=\"width:150px; float:right; margin:10px;\" src=\"img/sen.gif\" />\n",
    "<img style=\"width:150px; float:right; margin:10px;\" src=\"img/ncm.jpg\" />\n",
    "\n",
    "* ####Networks, Crowds, and Markets\n",
    "  * David Easley and John Kleinberg\n",
    "\n",
    "* #### Social and Economic Networks\n",
    "  * Matthew O. Jackson\n",
    "\n",
    "* #### Graph Databases\n",
    "  * Ian Robinson, Jim Webber and Emil Eifren\n",
    "\n",
    "* #### SNA for Startups\n",
    "  * Alexander Kouznetsov and Maksim Tsvetovat \n",
    "\n",
    "\n"
   ]
  },
  {
   "cell_type": "markdown",
   "metadata": {},
   "source": [
    "## Course Content\n",
    "\n",
    "* Intro.\n",
    "\n",
    "* Core graph theory/network analysis\n",
    "\n",
    "* Tooling and Techniques\n",
    "\n",
    "* Advanced topics"
   ]
  },
  {
   "cell_type": "markdown",
   "metadata": {},
   "source": [
    "## Final Project\n",
    "\n",
    "* Data processing pipeline."
   ]
  }
 ],
 "metadata": {
  "kernelspec": {
   "display_name": "Python 2",
   "language": "python",
   "name": "python2"
  },
  "language_info": {
   "codemirror_mode": {
    "name": "ipython",
    "version": 2
   },
   "file_extension": ".py",
   "mimetype": "text/x-python",
   "name": "python",
   "nbconvert_exporter": "python",
   "pygments_lexer": "ipython2",
   "version": "2.7.6"
  }
 },
 "nbformat": 4,
 "nbformat_minor": 0
}
