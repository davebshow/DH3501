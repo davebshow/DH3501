{
 "metadata": {
  "name": "",
  "signature": "sha256:010599467137d615dc3132136ad6d7b00fbb27467f9b7a42685efd69300e419b"
 },
 "nbformat": 3,
 "nbformat_minor": 0,
 "worksheets": [
  {
   "cells": [
    {
     "cell_type": "markdown",
     "metadata": {},
     "source": [
      "<div align=\"left\">\n",
      "    <h4>[RETURN TO INDEX](index.ipynb)</h4>\n",
      "</div>\n",
      "<div align=\"center\">\n",
      "<h1>[DH3501: Advanced Social Networks](index.ipynb)<br/><br/>*Class 15*: Graph Data Modelling and the Cypher Query Language </h1>\n",
      "</div>"
     ]
    },
    {
     "cell_type": "markdown",
     "metadata": {},
     "source": [
      "<div style=\"float:left\">\n",
      "**Western University**<br/>\n",
      "**Department of Modern Languages and Literatures**<br/>\n",
      "**Digital Humanities \u2013 DH 3501**<br/>\n",
      "<br/>\n",
      "**Instructor**: David Brown<br/>\n",
      "**E-mail**: [dbrow52@uwo.ca](mailto:dbrow52@uwo.ca)<br/>\n",
      "**Office**: AHB 1R14<br/>\n",
      "</div>\n",
      "<div style=\"float:left\">\n",
      "<img style=\"width:200px; margin-left:100px\" src=\"http://www.bsr.org/images/blog/networks.jpg\" />\n",
      "</div>"
     ]
    },
    {
     "cell_type": "code",
     "collapsed": false,
     "input": [],
     "language": "python",
     "metadata": {},
     "outputs": []
    }
   ],
   "metadata": {}
  }
 ]
}