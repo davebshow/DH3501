{
 "metadata": {
  "name": "",
  "signature": "sha256:ecb9268eaa8f6de99c9bb1140f8f88af088f4dff820d0d493d867ca04da17f29"
 },
 "nbformat": 3,
 "nbformat_minor": 0,
 "worksheets": [
  {
   "cells": [
    {
     "cell_type": "markdown",
     "metadata": {},
     "source": [
      "<div align=\"left\">\n",
      "<h4><a href=\"index.ipynb\">RETURN TO INDEX</a></h4>\n",
      "</div>\n",
      "<div align=\"center\">\n",
      "<h1><a href=\"index.ipynb\">DH3501: Advanced Social Networks</a><br/><em>Class 15</em>: Graph Data Modelling and the Cypher Query Language </h1>\n",
      "</div>"
     ]
    },
    {
     "cell_type": "markdown",
     "metadata": {},
     "source": [
      "<div style=\"float:left\">\n",
      "**Western University**<br/>\n",
      "**Department of Modern Languages and Literatures**<br/>\n",
      "**Digital Humanities \u2013 DH 3501**<br/>\n",
      "<br/>\n",
      "**Instructor**: David Brown<br/>\n",
      "**E-mail**: [dbrow52@uwo.ca](mailto:dbrow52@uwo.ca)<br/>\n",
      "**Office**: AHB 1R14<br/>\n",
      "</div>\n",
      "<div style=\"float:left\">\n",
      "<img style=\"width:200px; margin-left:100px\" src=\"http://www.bsr.org/images/blog/networks.jpg\" />\n",
      "</div>"
     ]
    },
    {
     "cell_type": "code",
     "collapsed": false,
     "input": [],
     "language": "python",
     "metadata": {},
     "outputs": []
    }
   ],
   "metadata": {}
  }
 ]
}