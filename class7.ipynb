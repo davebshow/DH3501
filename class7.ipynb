{
 "metadata": {
  "name": "",
  "signature": "sha256:6c2a74bdef3724770e4f4ee490a127fd459cc2ef0d2ebd50442e016dce2183a1"
 },
 "nbformat": 3,
 "nbformat_minor": 0,
 "worksheets": [
  {
   "cells": [
    {
     "cell_type": "markdown",
     "metadata": {},
     "source": [
      "<div align=\"left\">\n",
      "    <h4>[RETURN TO INDEX](index.ipynb)</h4>\n",
      "</div>\n",
      "<div align=\"center\">\n",
      "<h1>[DH3501: Advanced Social Networks](index.ipynb)<br/><br/>*Class 7*: Triadic Closure and the Strength of Ties</h1>\n",
      "</div>"
     ]
    },
    {
     "cell_type": "markdown",
     "metadata": {},
     "source": [
      "<div style=\"float:left\">\n",
      "**Western University**<br/>\n",
      "**Department of Modern Languages and Literatures**<br/>\n",
      "**Digital Humanities \u2013 DH 3501**<br/>\n",
      "<br/>\n",
      "**Instructor**: David Brown<br/>\n",
      "**E-mail**: [dbrow52@uwo.ca](mailto:dbrow52@uwo.ca)<br/>\n",
      "**Office**: AHB 1R14<br/>\n",
      "</div>\n",
      "<div style=\"float:left\">\n",
      "<img style=\"width:200px; margin-left:100px\" src=\"http://www.bsr.org/images/blog/networks.jpg\" />\n",
      "</div>"
     ]
    },
    {
     "cell_type": "heading",
     "level": 2,
     "metadata": {},
     "source": [
      "So...how did it go? Let's start by talking about the famous study performed by Mark Granovetter."
     ]
    },
    {
     "cell_type": "markdown",
     "metadata": {},
     "source": [
      "* What was Granovetter interested in?\n",
      "\n",
      "* How did he gather his data?\n",
      "\n",
      "* What were his results?\n",
      "\n",
      "* Why is this signifigant for network studies?"
     ]
    },
    {
     "cell_type": "heading",
     "level": 2,
     "metadata": {},
     "source": [
      "Triadic closure"
     ]
    },
    {
     "cell_type": "markdown",
     "metadata": {},
     "source": [
      "Triadic closure represents our first approach to studying the **dynamics of networks**. While measures like centrality consider a network as a snapshot, frozen in time, triadic closure focuses on the mechanisms of new edge formation over time.\n",
      "\n",
      "An aphoristic description of triadic closure:\n",
      "\n",
      "* If two people in a social network have a friend in common, then there is an increased likelihood that they will become friends themselves at some point in the future - Anatole Rapoport, 1953"
     ]
    },
    {
     "cell_type": "markdown",
     "metadata": {},
     "source": [
      "<img style=\"width:600px; float:left;\" src=\"img/triadic_closure.png\" />"
     ]
    },
    {
     "cell_type": "markdown",
     "metadata": {},
     "source": [
      "**Edge formation over time**"
     ]
    },
    {
     "cell_type": "heading",
     "level": 3,
     "metadata": {},
     "source": [
      "Clustering coefficient"
     ]
    },
    {
     "cell_type": "markdown",
     "metadata": {},
     "source": [
      "The probability that two randomly selected neighbors of a node will have an edge in common. \n",
      "\n",
      "* $C=\\frac{\\#\\ of\\ complete\\ triangles}{\\#\\ of\\ possible\\ triangles}$\n",
      "\n",
      "**or**\n",
      "\n",
      "* $Cl_i(g) = \\frac{\\#\\{jk \\in g | k \\ne j, j \\in N_i(g) k \\in N_i(g) \\}}{d_i(g)(d_i(g) - 1)/2}$\n",
      "\n",
      "\n",
      "* $Cl^{Avg}(g)=\\sum \\limits_{i}Cl_i(g)/n$\n",
      "\n",
      "Can someone read the set builder notation?\n",
      "\n",
      "What are some of the reasons behind triadic closure and clustering?"
     ]
    },
    {
     "cell_type": "heading",
     "level": 2,
     "metadata": {},
     "source": [
      "Bridges and the strength of weak ties"
     ]
    },
    {
     "cell_type": "markdown",
     "metadata": {},
     "source": [
      "<img style=\"width:600px; float:left;\" src=\"img/Indy_cuts_bridge.jpg\" />"
     ]
    },
    {
     "cell_type": "markdown",
     "metadata": {},
     "source": [
      "**What's in a bridge?**\n",
      "\n",
      "<img style=\"width:600px; float:left;\" src=\"img/bridge.png\" />"
     ]
    },
    {
     "cell_type": "heading",
     "level": 3,
     "metadata": {},
     "source": [
      "Bridges in real world networks"
     ]
    },
    {
     "cell_type": "markdown",
     "metadata": {},
     "source": [
      "Based on what we've read about bridges, giant components, and networks in general, do you think that bridges are rare or common? Why?\n",
      "\n",
      "Were might you be likely to find a bridge in a real world network?"
     ]
    },
    {
     "cell_type": "heading",
     "level": 3,
     "metadata": {},
     "source": [
      "Local Bridges"
     ]
    },
    {
     "cell_type": "markdown",
     "metadata": {},
     "source": [
      "<img style=\"width:600px; float:left;\" src=\"img/local_bridges.png\" />"
     ]
    },
    {
     "cell_type": "markdown",
     "metadata": {},
     "source": [
      "A **local bridge** is an edge connecting A and B where A and B have no friends in common. Can you write that in set builder notation?\n",
      "\n",
      "* This structure is much more prevalent in real world networks than a true bridge.\n",
      "\n",
      "* **But**, for all intents and purposes, **local bridges** play a **similar role** in the network as a true bridge.\n",
      "\n",
      "**HEY WAIT A MINUTE!!!** How does a local bridge relate to the concept of triadic closure?"
     ]
    },
    {
     "cell_type": "heading",
     "level": 2,
     "metadata": {},
     "source": [
      "Strong triadic closure property"
     ]
    },
    {
     "cell_type": "markdown",
     "metadata": {},
     "source": []
    },
    {
     "cell_type": "heading",
     "level": 2,
     "metadata": {},
     "source": [
      "Neighborhood overlap"
     ]
    },
    {
     "cell_type": "code",
     "collapsed": false,
     "input": [],
     "language": "python",
     "metadata": {},
     "outputs": []
    },
    {
     "cell_type": "heading",
     "level": 2,
     "metadata": {},
     "source": [
      "Coding challenge: Local bridges"
     ]
    },
    {
     "cell_type": "markdown",
     "metadata": {},
     "source": [
      "Implement an algorithm that iterates over all of a graphs edges, determines which of them are local bridges, and returns these bridges as a list of tuples.\n",
      "\n",
      "**Hints** \n",
      "\n",
      "* Try to implement something similar to what we created in set builder notation.\n",
      "\n",
      "* Start by programming on paper. Come up with an algorithm, all of the steps you will need to complete the task, and write it out before you implement it in Python.\n",
      "\n",
      "* Some useful callables:\n",
      "\n",
      "```python\n",
      "networkx.neighbors\n",
      "set.union\n",
      "set.intersection\n",
      "```\n",
      "...are there **other ways** to access neighbors using the NetworkX internal data structures...? You may prefer to use these..."
     ]
    },
    {
     "cell_type": "code",
     "collapsed": false,
     "input": [
      "# Challenge code goes here..."
     ],
     "language": "python",
     "metadata": {},
     "outputs": []
    }
   ],
   "metadata": {}
  }
 ]
}