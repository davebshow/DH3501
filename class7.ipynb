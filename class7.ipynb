{
 "metadata": {
  "name": "",
  "signature": "sha256:c843536d582aaf3af72638a1b8ed7e24d07a06ae55f94159588effeb39a8da6a"
 },
 "nbformat": 3,
 "nbformat_minor": 0,
 "worksheets": [
  {
   "cells": [
    {
     "cell_type": "markdown",
     "metadata": {},
     "source": [
      "<div align=\"center\">\n",
      "<h1>[DH3501: Advanced Social Networks](index.ipynb)<br/><br/>*Class 5*: Triadic Closure and the Strength of Ties</h1>\n",
      "</div>"
     ]
    },
    {
     "cell_type": "markdown",
     "metadata": {},
     "source": [
      "<div style=\"float:left\">\n",
      "**Western University**<br/>\n",
      "**Department of Modern Languages and Literatures**<br/>\n",
      "**Digital Humanities \u2013 DH 3501**<br/>\n",
      "<br/>\n",
      "**Instructor**: David Brown<br/>\n",
      "**E-mail**: [dbrow52@uwo.ca](mailto:dbrow52@uwo.ca)<br/>\n",
      "**Office**: AHB 1R14<br/>\n",
      "</div>\n",
      "<div style=\"float:left\">\n",
      "<img style=\"width:200px; margin-left:100px\" src=\"http://www.bsr.org/images/blog/networks.jpg\" />\n",
      "</div>"
     ]
    },
    {
     "cell_type": "heading",
     "level": 2,
     "metadata": {},
     "source": [
      "So...how did it go? Let's start by talking about the famous study performed by Mark Granovetter."
     ]
    },
    {
     "cell_type": "markdown",
     "metadata": {},
     "source": [
      "* What was Granovetter interested in?\n",
      "\n",
      "* How did he gather his data?\n",
      "\n",
      "* What were his results?\n",
      "\n",
      "* Why is this signifigant for network studies?"
     ]
    },
    {
     "cell_type": "heading",
     "level": 2,
     "metadata": {},
     "source": [
      "Triadic Closure"
     ]
    },
    {
     "cell_type": "markdown",
     "metadata": {},
     "source": [
      "Triadic closure represents our first approach to studying the **dynamics of networks**. While measures like centrality consider a network as a snapshot, frozen in time, triadic closure focuses on the mechanisms of new edge formation over time.\n",
      "\n",
      "An aphoristic description of triadic closure:\n",
      "\n",
      "* If two people in a social network have a friend in common, then there is an increased likelihood that they will become friends themselves at some point in the future - Anatole Rapoport, 1953"
     ]
    },
    {
     "cell_type": "markdown",
     "metadata": {},
     "source": [
      "<img style=\"width:600px; float:left;\" src=\"img/triadic_closure.png\" />"
     ]
    },
    {
     "cell_type": "markdown",
     "metadata": {},
     "source": [
      "**Edge formation over time**"
     ]
    },
    {
     "cell_type": "heading",
     "level": 2,
     "metadata": {},
     "source": [
      "Clustering Coefficient"
     ]
    },
    {
     "cell_type": "markdown",
     "metadata": {},
     "source": [
      "What are some of the reasons behind triadic closure and clustering?"
     ]
    },
    {
     "cell_type": "heading",
     "level": 2,
     "metadata": {},
     "source": [
      "The Strength of Weak Ties"
     ]
    },
    {
     "cell_type": "markdown",
     "metadata": {},
     "source": [
      "**What's in a bridge?**\n",
      "\n",
      "<img style=\"width:600px; float:left;\" src=\"img/bridge.png\" />"
     ]
    },
    {
     "cell_type": "markdown",
     "metadata": {},
     "source": [
      "**A local bridge?**\n",
      "\n",
      "<img style=\"width:600px; float:left;\" src=\"img/local_bridge.png\" />"
     ]
    },
    {
     "cell_type": "code",
     "collapsed": false,
     "input": [],
     "language": "python",
     "metadata": {},
     "outputs": []
    }
   ],
   "metadata": {}
  }
 ]
}