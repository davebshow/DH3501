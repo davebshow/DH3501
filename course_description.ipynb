{
 "metadata": {
  "name": "",
  "signature": "sha256:3c5437a0adb8221836f0e553b1f4b09baff9d8461cb1c02cd477334c7f145f04"
 },
 "nbformat": 3,
 "nbformat_minor": 0,
 "worksheets": [
  {
   "cells": [
    {
     "cell_type": "markdown",
     "metadata": {},
     "source": [
      "<div align=\"center\">\n",
      "<h1>[Advanced Social Networks](index.ipynb)<br/>*Extended Course Description*</h1>\n",
      "</div>"
     ]
    },
    {
     "cell_type": "markdown",
     "metadata": {},
     "source": [
      "<div style=\"float:left\">\n",
      "**Western University**<br/>\n",
      "**Department of Modern Languages and Literatures**<br/>\n",
      "**Digital Humanities \u2013 DH 3501**<br/>\n",
      "<br/>\n",
      "**Instructor**: David Brown<br/>\n",
      "**E-mail**: [dbrow52@uwo.ca](mailto:dbrow52@uwo.ca)<br/>\n",
      "**Office**: AHB 1R14<br/>\n",
      "</div>\n",
      "<div style=\"float:left\">\n",
      "<img style=\"width:200px; margin-left:100px\" src=\"http://www.bsr.org/images/blog/networks.jpg\" />\n",
      "</div>"
     ]
    },
    {
     "cell_type": "heading",
     "level": 2,
     "metadata": {},
     "source": [
      "Overview"
     ]
    },
    {
     "cell_type": "markdown",
     "metadata": {},
     "source": [
      "This course introduces students to the ubiquitous and rapidly growing fields of graph theory and network analysis. Using a wide variety of real world examples from current events and empirical research, students will obtain a broad knowledge of the theory behind network analysis and its application to understanding human behaviour and cultural systems. This knowledge will then be applied hands on as students process network data using a variety of up-to-date graph storage, analysis, and visualization software. Based around a solid core of reading, discussion, and Python programming, students will extend their knowledge into the realm of graph databases and the application frameworks used for storing and processing the \"big data\" produced by social networking sites like Facebook and Twitter. Finally, this course provides an introduction to advanced topics in graph theory such as dynamics, random models, strategy and interaction, and diffusion that can serve as a springboard for future work in this exciting new field.\n",
      "\n",
      "The course material is largely drawn from four texts and two technological platforms, which are presented in 4 units over the course of the semester. \n",
      "\n",
      "**Texts**\n",
      "\n",
      "\n",
      "* <i>Social network analysis for startups: Finding connections on the social web</i> (Tsvetovat & Kouznetsov, 2011), provides a wide range of high level examples of the application of social network analysis to current events as well as classic network studies. The text includes a wide variety of practical thought experiments and coding examples using Python\u2019s NetworkX library. This is definitely a text for beginners. \n",
      "\n",
      "\n",
      "* <i>Networks, crowds, and markets</i> (Easley & Kleinberg, 2010), offers a more theoretical approach to graph theory and network analysis, focusing on canonical examples and studies. This text presents more advanced concepts in a relatively approachable manner, and contains a wide variety of supplementary material. This is our intermediate text. \n",
      "\n",
      "\n",
      "* <i>Social and economic networks</i> (Jackson, 2010), is a more formal approach to network studies that addresses many advanced topics in graph theory. This text provides formal definitions for the representation of graphs, and thus is a good introduction to the mathematical notations such as set builder notations used in graph theory. A large portion of this course\u2019s advanced material is drawn from this text.\n",
      "\n",
      "\n",
      "<i>Graph databases</i> (Robinson, Webber, & Eifrem,  2013), deals with the implementation of concepts from graph theory in terms of data storage, specifically in the context of the Neo4j graph database. This book provides an introduction to the property graph model of data storage, and the use and implementation of Neo4j graph database. It is our practical introduction to graph databases.\n",
      "\n",
      "**Technology**\n",
      "\n",
      "\n",
      "* **Python programming language** will be the primary software utilized in this course. The pre-requisite specifies that students already be familiar with the basics of Python upon entering the course. This course builds on this knowledge, training the students in the use of the NetworkX library for network analysis. NetworkX allows students to perform complicated graph algorithms, manipulations, and statistics using a familiar Python API. Furthermore, Python drivers will also by the primary means of interaction with external software, such as database systems. \n",
      "\n",
      "\n",
      "* **Neo4j graph database** will be the primary database technology introduced in this class. It will serve as a foundation to teach the property graph model for data storage and as a backend to store and analyze large quantities of graph data. Students will learn how to model their data as a graph, access Neo4j using a Python driver, and execute queries using the Cypher query language. \n",
      "\n",
      "**Units** \n",
      "\n",
      "\n",
      "* **Unit 1**, <i>A networked world</i>, is really just an introduction: we will be installing software, verifying the class roster, and getting everything ready to go. We will start with some light reading here, and watch an interesting talk by the influential physicist Albert Laslo Barabasi. Perhaps most importantly, we\u2019ll make sure that everyone has their computing environment ready to go: we have to be ready to go with an IPython scientific computing environment and Java up and running to support Neo4j. Hopefully, by class 4 the roster will set, and everyone will be ready to go.\n",
      "\n",
      "\n",
      "* Starting with class 4, we begin **Unit 2**, <i>Graph theory and social network analysis</i>. Unit 2 is the real meat of the class: we focus on defining the fundamental concepts in graph theory: nodes, edges, dyads, triads, paths, cycles, walks, components, clusters, communities, centrality, degree distribution. In terms of technology, this unit focuses on using Python to process graph data, build graphs in NetworkX, and perform analysis. The vast majority of the readings in Unit 2 is drawn from the first three texts listed above, and class time will be spent reviewing core concepts, going over examples drawn from the book, and implementing statistical algorithms for graph in NetworkX. Considerable effort is placed on understanding the implication of graph analysis techniques in real world studies, and students will become familiar with canonical empirical research as it relates to core graph theory concepts. Furthermore, a strong focus on comprehension of formal representations of graph theoretic concepts is present throughout this unit, both as they are presented in text and formulaically. There is a consistent emphasis placed on the development of methodology for modelling networks. Topics such as edge proxying and weighting are of particular importance as they are fundamental to modelling topics that emerge later in the course. This unit culminates with a directed reading of several articles discussed in the texts, with an emphasis on full comprehension of the implications of methodological choices and interpretation of results. \n",
      "\n",
      "\n",
      "* **Unit 3**,  <i>Hacking on graphs: Tooling and analysis at scale</i>, introduces students to models of storage for graph data that is too big for storage in flat files. In particular, this unit focuses on the property graph model, and its implementation in the Neo4j graph database. Students will install and run Neo4j, build property graph models that correspond to real data, and use the Cypher query language to populate and query a database. The majority of readings in this unit come from the 4th text, and focus on both the theoretical and practical underpinnings of using a graph database. Furthermore, this unit surveys the current landscape of graph and big data processing software, data sources, and databases, and discusses the technical requirements and knowledge necessary to use them. \n",
      "\n",
      "\n",
      "* **Unit 4**, <i>Models and theory: Advanced topics in network analysis</i>, presents topics such as: models and structure, strategic interaction, and diffusion and dynamics. Using a selection of readings from E & K and Jackson, students will become engaged in more advanced topics in network analysis. This unit also presents the opportunity for students to peruse some of the more classic studies in graph theory (Barabasi 1999) and some of the most exciting new research in cultural studies (Max 2014). Unit 4 also focuses on the integration of Python and Neo4j with other software for graph storage and analytics. \n"
     ]
    },
    {
     "cell_type": "heading",
     "level": 2,
     "metadata": {},
     "source": [
      "Justification"
     ]
    },
    {
     "cell_type": "markdown",
     "metadata": {},
     "source": [
      "This course was designed to be incorporated into the Department of Modern Languages and Literatures Digital Humanities Minor at the 3000+ level. It aims to broaden the scope of the upper division course offerings and thereby attract the growing number of students enrolled in courses like DH1011, DH2021, and CS2120/DH2220 to the minor. Roughly corresponding to the subject matter presented in the description of the currently unoffered DH3501 Advanced Social Networking, both the theoretical and applied content of this course is inline with the proposed goals of the Digital Humanities IDI at Western of \u201cmastering high levels of digital literacy\u201d and \u201cformalizing and storing of cultural and historical data in complex relations\u201d. Furthermore, the methodology presented in this course is designed to smoothly integrate within the ecosystem of tools and techniques presented in the current program offerings, and thereby contribute the cohesiveness and comprehensiveness of the program as a whole.\n",
      "\n",
      "Looking beyond the Minor in Digital Humanities at Western, it is important to note the growing importance of understanding networks regardless of field. The relative ubiquity of this structure, whether it be a online social network like Facebook or the physical networks that enable communication, has made it impossible to ignore. In academic work, the study of networks was once confined to the fields of math and physics, but now it has expanded to be employed to better understand recipes, ecological systems, world trade, informal economy, and even  Harry Potter (cite). This last example is especially interesting in the current context, as it refers to research carried out by Franco Moretti, the so called \u201cfather\u201d of Digital Humanities. Indeed, high profile DHers such as Elijah Meeks have indicated the importance of network analysis, identifying it as one of the four \u201cpillars of digital humanities\u201d. \n",
      "\n",
      "This statement, while possibly contentious, raises an interesting point about network analysis and its use in the the digital humanities: it is one of the primary avenues that researchers in this field have for approaching the human problems that form the core of this field. Along with the other pillars--GIS, NLP, and visualization--network analysis is definitely a focal point of this emerging field. Thus it seems that to offer a program in digital humanities without a course on network analysis would be doing any young practitioner of the field a disservice, and combined with the general ubiquity and interest in networks, this seems like more than enough to justify planning this course. If fact, I would like to take this concept to the next level, and propose that I teach this course next year."
     ]
    },
    {
     "cell_type": "heading",
     "level": 2,
     "metadata": {},
     "source": [
      "Teaching Philosophy"
     ]
    },
    {
     "cell_type": "markdown",
     "metadata": {},
     "source": [
      "* Based on my experience in both Spanish and DH minors, and what kids tell me over and over. We need skills.\n",
      "* Skills with no theory is bad!\n",
      "* Need theory and practice\n",
      "* Hands on environment - promote creativity\n",
      "* Creativity is important in the new job market"
     ]
    },
    {
     "cell_type": "heading",
     "level": 2,
     "metadata": {},
     "source": [
      "Methodology"
     ]
    },
    {
     "cell_type": "markdown",
     "metadata": {},
     "source": [
      "The overarching goal of this course is to produce students that have the theoretical background and the necessary technical skills to intelligently perform network analysis in the real world. The following paragraphs detail the methodology I will use to achieve this goal. \n",
      "\n",
      "First and foremost, this is a hands on course, interactive course. Ideally it will be carried out using a WALS classroom to take advantage of the pod seating arrangement for teamwork and screen projection capabilities. Class will be presented as micro lectures, ten to fifteen minute instructor lectors that highlight or supplement important concepts from the reading. Between micro-lectures, students will be presented with coding challenges, in which they must use Python and other software to creatively solve problems relating to the course material. For the first nine weeks of the course, every class will end with a longer coding challenge that requires a team of students to solve a computational problem, implement, and algorithm etc. The last 3 weeks of class (before the presentations), the last half an hour of class will be devoted to final project development in a semi-structured workshop environment. \n",
      "\n",
      "This hands on approach continues in the assigned work. Every assignment requires that students perform the whole pipeline of data processing analysis. They are required to locate and download real data sets, and deal with any problems of compression, formatting, and storage as they occur. Furthermore, they will be expected load the data into graph analytics software, perform analysis, create visualizations, and perhaps most importantly, intelligently interpret their results in a way that demonstrates a well reasoned approach to their analysis. This fosters the improvisation and problem solving abilities necessary for real world data processing\n",
      "\n",
      "In order to intelligently apply graph analytics technique, students require a strong background in theory. This course presents students with a rigorous and directed reading schedule that provides the comprehensive background necessary for understanding applying graph theory. Beginning with the second unit, students hit the texts hard to build the foundation necessary for the rest of the course. This unit is mainly about literacy: in order to read empirical network analysis studies, students must have a strong foundation in the basic concepts, as well as the ability to read the mathematically notation commonly used. It begins with some higher level ideas about networks, using real world examples and thought experiments to help students develop their intuitive understanding of graph theory. As students become more comfortable with the terminology and basic concepts, more formal examples are introduced to slowly lay the groundwork for more advanced work later in the course. A careful inspection of the reading from this section shows what I like to think of as complementary repetitiveness. Material is repeated throughout the texts; however, their approaches to the material differ, especially in terms of level of abstraction. For example, concepts that are approached at a very intuitive level in T & K are described very formally in Jackson. This repetition will help students solidify their understanding of these concepts by having the effect of rounding out their perspective towards them. Towards the end of this unit, students will be challenged to employ their knowledge by reading several empirical studies published in professional journals. Finally, as this unit represents what I consider to be the core knowledge focus of the course, the midterm will focus exclusively on the information presented in the three texts (T & K, E & K, Jackson) during this unit. \n",
      "\n",
      "Unit 3 is all about the application of the concepts learned in Unit 2 in the real world, especially to solve problems of storage and analysis. Its goal is to expose student to the panorama of available tools for processing graph data, and demonstrate how these tools can be integrated into the Python programming environment. As students become more confident in their ability to build more complex analysis environments, they begin to develop the adaptability necessary to cope with the rapidly changing landscape of data analysis software. This in turn opens up a broad range of possibilities to the student, thus allowing them to choose specific tools depending on their needs without feeling limited by their current skill set. The flexibility with regards to tooling, combined with the solid theoretical background presented in the first half of this class prepares students for both the final project necessary for this course and the challenges encountered in real world analytics. \n",
      "\n",
      "Finally, Unit 4 presents students with a broad introduction to more advanced topics in graph theory. Much of this material requires more complex math, and is much more difficult at a conceptual level than what was presented in the first half of the course; however, it is designed to serve more as a springboard into future indagations in the world of graph theory. While they will not be tested on this material, they will be encouraged to integrate the ideas presented in this unit with their approach to the final project. This unit will provide semi-structured class time focused on student progress, in which students can ask questions related to any concepts from the course as they relate to final projects, and the instructor can take advantage of teachable moments to provide more customized instruction.\n",
      "\n",
      "Overall, this course aims to simulate and stimulate the natural process of learning about graphs. Beginning with real world examples and coding, backed by deeper theoretical and algorithmic indagationes into the world of graph theory, students build a basis of knowledge that allows them to transition into the world of modern analytics. They learn to navigate the veritable jungle of tooling, and chose the software best suited to their needs, all the while building confidence in their abilities. Finally, they get hardcore, and start to study the math, foundations, and complex behaviour of graphs and networks as they begin their journey to a lifetime of interest in the most complex everyday data structure around: the graph."
     ]
    },
    {
     "cell_type": "heading",
     "level": 2,
     "metadata": {},
     "source": [
      "Evaluation"
     ]
    },
    {
     "cell_type": "heading",
     "level": 2,
     "metadata": {},
     "source": [
      "Class Descriptions"
     ]
    },
    {
     "cell_type": "markdown",
     "metadata": {},
     "source": [
      "**Class descriptions** can be found [here](class_descriptions.ipynb)"
     ]
    },
    {
     "cell_type": "heading",
     "level": 2,
     "metadata": {},
     "source": [
      "Instructor Bibliography"
     ]
    },
    {
     "cell_type": "markdown",
     "metadata": {},
     "source": [
      "Bibliography\n",
      "\n",
      "Easley, D., & Kleinberg, J. (2010). *Networks, crowds, and markets.* Cambridge University.\n",
      "\n",
      "Jackson, M. O. (2010). *Social and economic networks.* Princeton University Press.\n",
      "\n",
      "Robinson, I., Webber, J., & Eifrem, E. (2013). *Graph databases.* O'Reilly Media, Inc.\n",
      "\n",
      "Tsvetovat, M., & Kouznetsov, A. (2011). *Social network analysis for startups: Finding connections on the social web.* O'Reilly Media, Inc."
     ]
    }
   ],
   "metadata": {}
  }
 ]
}