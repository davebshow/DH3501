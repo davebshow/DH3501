{
 "metadata": {
  "name": "",
  "signature": "sha256:4c3a21a4977e6ae617836085e529b840b6ad56433dadf8b1d1ed89dbfea07d27"
 },
 "nbformat": 3,
 "nbformat_minor": 0,
 "worksheets": [
  {
   "cells": [
    {
     "cell_type": "markdown",
     "metadata": {},
     "source": [
      "<div align=\"center\">\n",
      "<h1>[Advanced Social Networks](index.ipynb)<br/>*Instructor materials*</h1>\n",
      "</div>"
     ]
    },
    {
     "cell_type": "raw",
     "metadata": {},
     "source": [
      "<div style=\"float:left\">\n",
      "**Western University**<br/>\n",
      "**Department of Modern Languages and Literatures**<br/>\n",
      "**Digital Humanities \u2013 DH 3501**<br/>\n",
      "<br/>\n",
      "**Instructor**: David Brown<br/>\n",
      "**E-mail**: [dbrow52@uwo.ca](mailto:dbrow52@uwo.ca)<br/>\n",
      "**Office**: AHB 1R14<br/>\n",
      "</div>\n",
      "<div style=\"float:left\">\n",
      "<img style=\"width:200px; margin-left:100px\" src=\"http://www.bsr.org/images/blog/networks.jpg\" />\n",
      "</div>"
     ]
    },
    {
     "cell_type": "heading",
     "level": 2,
     "metadata": {},
     "source": [
      "Overview"
     ]
    },
    {
     "cell_type": "markdown",
     "metadata": {},
     "source": [
      "* Overview\n",
      "* Four units - each unit discusses purpose, topic, readings, assignments, stuff like that.:\n",
      "  - A networked world\n",
      "  - Graph theory and social network analysis \n",
      "  - Hacking on graphs: Tooling and analysis at scale\n",
      "  - Models and theory: Advanced topics in network analysis"
     ]
    },
    {
     "cell_type": "heading",
     "level": 2,
     "metadata": {},
     "source": [
      "Justification"
     ]
    },
    {
     "cell_type": "markdown",
     "metadata": {},
     "source": [
      "* Corresponds to course offering in the DH minor\n",
      "  - Has not yet been offered\n",
      "  - Designed to fit with current courses (Python)\n",
      "* Networks are ubiquitous\n",
      "  - Seen in many fields, online, they are part of our lives\n",
      "* One of the primary interests of DH\n",
      "* Hands on - Students are learning **skills and theory**."
     ]
    },
    {
     "cell_type": "heading",
     "level": 2,
     "metadata": {},
     "source": [
      "Teaching Philosophy"
     ]
    },
    {
     "cell_type": "markdown",
     "metadata": {},
     "source": [
      "* Based on my experience in both Spanish and DH minors, and what kids tell me over and over. We need skills.\n",
      "* Skills with no theory is bad!\n",
      "* Need theory and practice\n",
      "* Hands on environment - promote creativity\n",
      "* Creativity is important in the new job market"
     ]
    },
    {
     "cell_type": "heading",
     "level": 2,
     "metadata": {},
     "source": [
      "Methodology"
     ]
    },
    {
     "cell_type": "markdown",
     "metadata": {},
     "source": [
      "Overarching goal - someone that is competent in and comfortable with network analysis that has both the theoretical background to intelligently approach problems in this field and the necessary technical skills to apply their knowledge and perform network analysis in the real world.\n",
      "\n",
      "* Hands on - students write code\n",
      "* Instructor will present micro lecture style material. Basic information interspersed with questons for the students and mini-coding challenges/exercises.\n",
      "* Instructor content/exercises is designed to highlight the important parts of the readings, and guide students through the more difficult concepts.\n",
      "* Each class ends with a team coding challenge that allows students the chance to exercise their problem solving and teamwork skills while broadening their understanding of the Python programming language.\n",
      "* First half of course is just building the basic literacy students need about graph in order to move on to higher level concepts of analysis, instrumentation, and advanced theory.\n",
      "  - Each unit starts with higher level example, thought experiments, etc.\n",
      "  - Moves on to more theoretical/formal material.\n",
      "  - Guides students through several researched articles involving itermediate/advanced graph theory.\n",
      "  - This is the material the students will be tested on...it represents the basic level skills students need to begin to study netwoks.\n",
      "* The second half of the course is designed to expose students to the panaroma of tools used for processing graph data (and large data in general) while building the competency required for the final project. Shows how first half material has been implemented at scale.\n",
      "  - Here the focus will be on industry grade software/databases that are accessible to students using their current skill set, or attainable with a relatively small investment of time.\n",
      "  - The instructor will present students with options/introduction to software/tools, and challenge them to work with them hands on, thus building a working knowledge. \n",
      "* Finally, the instructor will introduce the students to more advanced topics in graph theory, that will become the building blocks of future studies.\n",
      "  - These classes will be short lectures, and students will have time to work on their final projects."
     ]
    },
    {
     "cell_type": "heading",
     "level": 2,
     "metadata": {},
     "source": [
      "Evaluation"
     ]
    },
    {
     "cell_type": "heading",
     "level": 2,
     "metadata": {},
     "source": [
      "Class Descriptions"
     ]
    },
    {
     "cell_type": "markdown",
     "metadata": {},
     "source": [
      "**Class descriptions** can be found [here](class_descriptions.ipynb)"
     ]
    },
    {
     "cell_type": "heading",
     "level": 2,
     "metadata": {},
     "source": [
      "Instructor Bibliography"
     ]
    },
    {
     "cell_type": "markdown",
     "metadata": {},
     "source": [
      "Bibliography\n",
      "\n",
      "Easley, D., & Kleinberg, J. (2010). *Networks, crowds, and markets.* Cambridge University.\n",
      "\n",
      "Jackson, M. O. (2010). *Social and economic networks.* Princeton University Press.\n",
      "\n",
      "Robinson, I., Webber, J., & Eifrem, E. (2013). *Graph databases.* O'Reilly Media, Inc.\n",
      "\n",
      "Tsvetovat, M., & Kouznetsov, A. (2011). *Social network analysis for startups: Finding connections on the social web.* O'Reilly Media, Inc."
     ]
    },
    {
     "cell_type": "code",
     "collapsed": false,
     "input": [],
     "language": "python",
     "metadata": {},
     "outputs": []
    }
   ],
   "metadata": {}
  }
 ]
}