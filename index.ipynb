{
 "metadata": {
  "name": "",
  "signature": "sha256:5203ad1f466b224e356b3311d72d6e96d11a29688f97ce93f6a8b709053c35b6"
 },
 "nbformat": 3,
 "nbformat_minor": 0,
 "worksheets": [
  {
   "cells": [
    {
     "cell_type": "markdown",
     "metadata": {},
     "source": [
      "<div align=\"center\">\n",
      "<h1>DH3501: Advanced Social Networks<br/>*Table of Contents*</h1>\n",
      "</div>"
     ]
    },
    {
     "cell_type": "markdown",
     "metadata": {},
     "source": [
      "<div style=\"float:left\">\n",
      "**Western University**<br/>\n",
      "**Department of Modern Languages and Literatures**<br/>\n",
      "**Digital Humanities \u2013 DH 3501**<br/>\n",
      "<br/>\n",
      "**Instructor**: David Brown<br/>\n",
      "**E-mail**: [dbrow52@uwo.ca](mailto:dbrow52@uwo.ca)<br/>\n",
      "**Office**: AHB 1R14<br/>\n",
      "</div>\n",
      "<div style=\"float:left\">\n",
      "<img style=\"width:200px; margin-left:100px\" src=\"http://www.bsr.org/images/blog/networks.jpg\" />\n",
      "</div>"
     ]
    },
    {
     "cell_type": "markdown",
     "metadata": {},
     "source": [
      "Welcome to the course *Advanced Social Networks*.\n",
      "\n",
      "- **[Syllabus](syllabus.ipynb)**\n",
      " - [Course Description](syllabus.ipynb#Description)\n",
      " - [Pre-requisites](syllabus.ipynb#Pre-requisites)\n",
      " - [Course Aims](syllabus.ipynb#Course-Aims)\n",
      " - [Learning Outcomes](syllabus.ipynb#Learning-Outcomes)\n",
      " - [Course Materials](syllabus.ipynb#Course-Materials)\n",
      " - [Texts](syllabus.ipynb#Texts)\n",
      " - [Evaluation](syllabus.ipynb#Evaluation)\n",
      " - [Plagiarism](syllabus.ipynb#Plagiarism)\n",
      " - [Absenteeism](syllabus.ipynb#Absenteeism)\n",
      " \n",
      " \n",
      "- **[Calendar](calendar.ipynb)**\n",
      "\n",
      "\n",
      "- **[Student Bibliography](bibliography.ipynb)**\n",
      "\n",
      "\n",
      "- **Graded Materials**\n",
      " - [Final Project](final_project.ipynb)\n",
      " - [Midterm](midterm.ipynb)\n",
      " - [Assignment 1](assgn1.ipynb)\n",
      " - [Assignment 2](assgn2.ipynb)\n",
      " \n",
      " \n",
      "- **[Resources](resources.ipynb)**\n",
      " \n",
      " \n",
      "- **[Extended Course Description](course_description.ipynb)**\n",
      " - [Course Overview](course_description.ipynb#Overview)\n",
      " - [Justification](course_description.ipynb#Justification)\n",
      " - [Teaching Philosophy](course_description.ipynb#Teaching-Philosophy)\n",
      " - [Methodology](course_description.ipynb#Methodology)\n",
      " - [Instructor Bibliography](course_description.ipynb#Instructor-Bibliography) \n",
      " - [Class Descriptions](course_description.ipynb#Class-Descriptions)\n",
      " \n",
      " \n",
      "- **[Class Descriptions](class_descriptions.ipynb)**\n",
      " - [Class 4](class4.ipynb) - class description [here](class_descriptions.ipynb#Class4)\n",
      " - [Class 5](class5.ipynb) - class description [here](class_descriptions.ipynb#Class5)\n",
      " - [Class 6](class6.ipynb) - class description [here](class_descriptions.ipynb#Class6)\n",
      " - [Class 7](class7.ipynb) - class description [here](class_descriptions.ipynb#Class7)\n",
      " - [Class 9](class9.ipynb) - class description [here](class_descriptions.ipynb#Class9)\n",
      " - [Class 14](class14.ipynb) - class description [here](class_descriptions.ipynb#Class14)\n",
      " - [Class 17](class17.ipynb) - class description [here](class_descriptions.ipynb#Class17)\n",
      " - [Class 18](class18.ipynb) - class description [here](class_descriptions.ipynb#Class18)\n",
      " - [Class 20](class20.ipynb) - class description [here](class_descriptions.ipynb#Class20)\n",
      " - [Class 22](class22.ipynb) - class description [here](class_descriptions.ipynb#Class22)"
     ]
    },
    {
     "cell_type": "code",
     "collapsed": false,
     "input": [],
     "language": "python",
     "metadata": {},
     "outputs": []
    }
   ],
   "metadata": {}
  }
 ]
}