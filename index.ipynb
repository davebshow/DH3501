{
 "metadata": {
  "name": "",
  "signature": "sha256:c32c5996a5d4361ca1cdfb7cda0bcbe3b1355f99a8250a6e7bb96f279f4ed604"
 },
 "nbformat": 3,
 "nbformat_minor": 0,
 "worksheets": [
  {
   "cells": [
    {
     "cell_type": "markdown",
     "metadata": {},
     "source": [
      "<div align=\"center\">\n",
      "<h1>DH3501: Advanced Social Networks<br/>*Table of Contents*</h1>\n",
      "</div>"
     ]
    },
    {
     "cell_type": "markdown",
     "metadata": {},
     "source": [
      "<div style=\"float:left\">\n",
      "**Western University**<br/>\n",
      "**Department of Modern Languages and Literatures**<br/>\n",
      "**Digital Humanities \u2013 DH 3501**<br/>\n",
      "<br/>\n",
      "**Instructor**: David Brown<br/>\n",
      "**E-mail**: [dbrow52@uwo.ca](mailto:dbrow52@uwo.ca)<br/>\n",
      "**Office**: AHB 1R14<br/>\n",
      "</div>\n",
      "<div style=\"float:left\">\n",
      "<img style=\"width:200px; margin-left:100px\" src=\"http://www.bsr.org/images/blog/networks.jpg\" />\n",
      "</div>"
     ]
    },
    {
     "cell_type": "markdown",
     "metadata": {},
     "source": [
      "Welcome to the course *Advanced Social Networks*.\n",
      "\n",
      "- **[Syllabus](syllabus.ipynb)**\n",
      " - [Course Description](syllabus.ipynb#Description)\n",
      " - [Pre-requisites](syllabus.ipynb#Pre-requisites)\n",
      " - [Course Aims](syllabus.ipynb#Course-Aims)\n",
      " - [Learning Outcomes](syllabus.ipynb#Learning-Outcomes)\n",
      " - [Course Materials](syllabus.ipynb#Course-Materials)\n",
      " - [Texts](syllabus.ipynb#Texts)\n",
      " - [Evaluation](syllabus.ipynb#Evaluation)\n",
      " - [Plagiarism](syllabus.ipynb#Plagiarism)\n",
      " - [Absenteeism](syllabus.ipynb#Absenteeism)\n",
      " \n",
      " \n",
      "- **[Calendar](calendar.ipynb)**\n",
      "\n",
      "\n",
      "- **[Student Bibliography](bibliography.ipynb)**\n",
      "\n",
      "\n",
      "- **Graded Materials**\n",
      " - [Final Project](final_project.ipynb)\n",
      " - [Midterm](midterm.ipynb)\n",
      " - [Assignment 1](assgn1.ipynb)\n",
      " - [Assignment 2](assgn2.ipynb)\n",
      " \n",
      " \n",
      "- **[Resources](resources.ipynb)**\n",
      " \n",
      " \n",
      "- **[Extended Course Description](course_description.ipynb)**\n",
      " - [Course Overview](course_description.ipynb#Overview)\n",
      " - [Justification](course_description.ipynb#Justification)\n",
      " - [Teaching Philosophy](course_description.ipynb#Teaching-Philosophy)\n",
      " - [Methodology](course_description.ipynb#Methodology)\n",
      " - [Instructor Bibliography](course_description.ipynb#Instructor-Bibliography) \n",
      " - [Class Descriptions](course_description.ipynb#Class-Descriptions)\n",
      " \n",
      " \n",
      "- **[Class Descriptions](class_descriptions.ipynb)**\n",
      " - [Class 4](class_descriptions.ipynb#Class4) - lecture notebook [here](class4.ipynb)\n",
      " - [Class 6](class_descriptions.ipynb#Class6) - lecture notebook [here](class6.ipynb)"
     ]
    },
    {
     "cell_type": "code",
     "collapsed": false,
     "input": [],
     "language": "python",
     "metadata": {},
     "outputs": [],
     "prompt_number": 0
    }
   ],
   "metadata": {}
  }
 ]
}