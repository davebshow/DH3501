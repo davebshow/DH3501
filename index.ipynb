{
 "metadata": {
  "name": "",
  "signature": "sha256:7fb3fab9e5fc46042506428ba7884c3a4588ee7b2504c2865686d6d47a60635c"
 },
 "nbformat": 3,
 "nbformat_minor": 0,
 "worksheets": [
  {
   "cells": [
    {
     "cell_type": "markdown",
     "metadata": {},
     "source": [
      "<div align=\"center\">\n",
      "<h1>DH3501: Advanced Social Networks<br/>*Table of Contents*</h1>\n",
      "</div>"
     ]
    },
    {
     "cell_type": "markdown",
     "metadata": {},
     "source": [
      "<div>\n",
      "<h4>\n",
      "David Brown<br/>\n",
      "[dbrow52@uwo.ca](mailto:dbrow52@uwo.ca)<br/>\n",
      "<br/>\n",
      "Western University<br/>\n",
      "Department of Modern Languages and Literatures<br/>\n",
      "Digital Humanities \u2013 DH 3501<br/>\n",
      "</h4>\n",
      "</div>\n",
      "\n",
      "Welcome to the course *Advanced Social Networks*.\n",
      "\n",
      "- [Syllabus](syllabus.ipynb)\n",
      " - [Course Description](syllabus.ipynb#Description)\n",
      " - [Pre-requisites](syllabus.ipynb#Pre-requisites)\n",
      " - [Course Aims](syllabus.ipynb#Course-Aims)\n",
      " - [Learning Outcomes](syllabus.ipynb#Learning-Outcomes)\n",
      " - [Course Materials](syllabus.ipynb#Course-Materials)\n",
      " - [Texts](syllabus.ipynb#Texts)\n",
      " - [Evaluation](syllabus.ipynb#Evaluation)\n",
      " - [Plagiarism](syllabus.ipynb#Plagiarism)\n",
      " - [Absenteeism](syllabus.ipynb#Absenteeism)\n",
      "- [Calendar](calendar.ipynb)\n",
      "- [Bibliography](bibliography.ipynb)\n",
      "- [Resources](resources.ipynb)\n",
      "- [Description](description.ipynb)\n",
      " - [About](description.ipynb#About)\n",
      " - [Justification](description.ipynb#Justification)\n",
      " - [Philosophy of Teaching](description.ipynb#Philosophy-of-Teaching)\n",
      " - [Methodology](description.ipynb#Methodology)\n",
      " - [Evaluation](description.ipynb#Evaluation)\n",
      " - [Course Plan](description.ipynb#Course-Plan)"
     ]
    }
   ],
   "metadata": {}
  }
 ]
}