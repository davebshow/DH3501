{
 "metadata": {
  "name": "",
  "signature": "sha256:b60c71531d88935699eb34cc486d449cd9c54f7764457764487eaea43206d013"
 },
 "nbformat": 3,
 "nbformat_minor": 0,
 "worksheets": [
  {
   "cells": [
    {
     "cell_type": "markdown",
     "metadata": {},
     "source": [
      "<div align=\"center\">\n",
      "<h1>DH3501: Advanced Social Networks<br/>*Table of Contents*</h1>\n",
      "</div>"
     ]
    },
    {
     "cell_type": "markdown",
     "metadata": {},
     "source": [
      "<div>\n",
      "<h4>\n",
      "David Brown<br/>\n",
      "[dbrow52@uwo.ca](mailto:dbrow52@uwo.ca)<br/>\n",
      "<br/>\n",
      "Western University<br/>\n",
      "Department of Modern Languages and Literatures<br/>\n",
      "Digital Humanities \u2013 DH 3501<br/>\n",
      "</h4>\n",
      "</div>\n",
      "\n",
      "Welcome to the course *Advanced Social Networks*.\n",
      "\n",
      "- [Syllabus](syllabus.ipynb)\n",
      " - [Course Description](syllabus.ipynb#Description)\n",
      " - [Pre-requisites](syllabus.ipynb#Pre-requisites)\n",
      " - [Course Aims](syllabus.ipynb#Course-Aims)\n",
      " - [Learning Outcomes](syllabus.ipynb#Learning-Outcomes)\n",
      " - [Course Materials](syllabus.ipynb#Course-Materials)\n",
      " - [Texts](syllabus.ipynb#Texts)\n",
      " - [Evaluation](syllabus.ipynb#Evaluation)\n",
      " - [Plagiarism](syllabus.ipynb#Plagiarism)\n",
      " - [Absenteeism](syllabus.ipynb#Absenteeism)\n",
      "- [Calendar](calendar.ipynb)\n",
      "- [Student Bibliography](bibliography.ipynb)\n",
      "- [Resources](resources.ipynb)\n",
      "- [Long Syllabus](long_syllabus.ipynb)\n",
      " - [Course Description](long_syllabus.ipynb#About)\n",
      " - [Justification](long_syllabus.ipynb#Justification)\n",
      " - [Philosophy of Teaching](long_syllabus.ipynb#Philosophy-of-Teaching)\n",
      " - [Methodology](long_syllabus.ipynb#Methodology)\n",
      " - [Evaluation](long_syllabus.ipynb#Evaluation)\n",
      " - [Course Plan](long_syllabus.ipynb#Course-Plan)\n",
      " - [Instructor Bibliography](long_syllabus.ipynb#Instructor-Bibliography) "
     ]
    },
    {
     "cell_type": "code",
     "collapsed": false,
     "input": [],
     "language": "python",
     "metadata": {},
     "outputs": []
    }
   ],
   "metadata": {}
  }
 ]
}