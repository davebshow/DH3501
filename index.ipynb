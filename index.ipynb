{
 "metadata": {
  "name": "",
  "signature": "sha256:be6ae6dc5e95d8c0b589987de2e5aa44e810afe85a0be9a8130d4bb2c9518c58"
 },
 "nbformat": 3,
 "nbformat_minor": 0,
 "worksheets": [
  {
   "cells": [
    {
     "cell_type": "markdown",
     "metadata": {},
     "source": [
      "<div align=\"center\">\n",
      "<h1>DH3501: Advanced Social Networks<br/>*Table of Contents*</h1>\n",
      "</div>"
     ]
    },
    {
     "cell_type": "markdown",
     "metadata": {},
     "source": [
      "<div>\n",
      "<h4>\n",
      "David Brown<br/>\n",
      "[dbrow52@uwo.ca](mailto:dbrow52@uwo.ca)<br/>\n",
      "<br/>\n",
      "Western University<br/>\n",
      "Department of Modern Languages and Literatures<br/>\n",
      "Digital Humanities \u2013 DH 3501<br/>\n",
      "</h4>\n",
      "</div>\n",
      "\n",
      "Welcome to the course *Advanced Social Networks*.\n",
      "\n",
      "- [Syllabus](syllabus.ipynb)\n",
      " - [Course Description](syllabus.ipynb#Description)\n",
      " - [Pre-requisites](syllabus.ipynb#Pre-requisites)\n",
      " - [Course Aims](syllabus.ipynb#Course-Aims)\n",
      " - [Learning Outcomes](syllabus.ipynb#Learning-Outcomes)\n",
      " - [Course Materials](syllabus.ipynb#Course-Materials)\n",
      " - [Texts](syllabus.ipynb#Texts)\n",
      " - [Evaluation](syllabus.ipynb#Evaluation)\n",
      " - [Plagiarism](syllabus.ipynb#Plagiarism)\n",
      " - [Absenteeism](syllabus.ipynb#Absenteeism)\n",
      "- [Calendar](calendar.ipynb)\n",
      "- [Midterm](midterm.ipynb)\n",
      "- [Assignment 1](assgn1.ipynb)\n",
      "- [Assignment 2](assgn2.ipynb)\n",
      "- [Final Project](final_project.ipynb)\n",
      "- [Student Bibliography](bibliography.ipynb)\n",
      "- [Resources](resources.ipynb)\n",
      "- [Long Syllabus](long_syllabus.ipynb)\n",
      " - [Course Description](long_syllabus.ipynb#About)\n",
      " - [Justification](long_syllabus.ipynb#Justification)\n",
      " - [Teaching Philosophy](long_syllabus.ipynb#Teaching-Philosophy)\n",
      " - [Methodology](long_syllabus.ipynb#Methodology)\n",
      " - [Evaluation](long_syllabus.ipynb#Evaluation)\n",
      " - [Instructor Bibliography](long_syllabus.ipynb#Instructor-Bibliography) \n",
      "- [Class Descriptions](class_descriptions.ipynb)\n",
      " - [Class 4](class_descriptions.ipynb#Class4) - lecture notes [here](class4.ipynb)\n",
      " - [Class 6](class_descriptions.ipynb#Class6) - lecture notes [here](class6.ipynb)"
     ]
    },
    {
     "cell_type": "code",
     "collapsed": false,
     "input": [],
     "language": "python",
     "metadata": {},
     "outputs": []
    }
   ],
   "metadata": {}
  }
 ]
}