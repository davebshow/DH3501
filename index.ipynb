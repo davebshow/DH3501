{
 "cells": [
  {
   "cell_type": "markdown",
   "metadata": {},
   "source": [
    "<div align=\"center\">\n",
    "<h1>DH3501: Advanced Social Networks<br/><br/><em>Table of Contents</em></h1>\n",
    "</div>"
   ]
  },
  {
   "cell_type": "markdown",
   "metadata": {},
   "source": [
    "<div style=\"float:left\">\n",
    "<b>Western University</b><br/>\n",
    "<b>Department of Modern Languages and Literatures</b><br/>\n",
    "<b>Digital Humanities – DH 3501</b><br/>\n",
    "<br/>\n",
    "<b>Instructor</b>: David Brown<br/>\n",
    "<b>E-mail</b>: <a href=\"mailto:dbrow52@uwo.ca\">dbrow52@uwo.ca</a><br/>\n",
    "<b>Office</b>: AHB 1R14<br/>\n",
    "</div>\n",
    "<div style=\"float:left\">\n",
    "<img style=\"width:200px; margin-left:100px\" src=\"http://www.bsr.org/images/blog/networks.jpg\" />\n",
    "</div>"
   ]
  },
  {
   "cell_type": "markdown",
   "metadata": {},
   "source": [
    "Welcome to the course *Advanced Social Networks*.\n",
    "\n",
    "- **[Syllabus](syllabus.ipynb)**\n",
    " - [Course Description](syllabus.ipynb#Description)\n",
    " - [Pre-requisites](syllabus.ipynb#Pre-requisites)\n",
    " - [Course Aims](syllabus.ipynb#Course-Aims)\n",
    " - [Learning Outcomes](syllabus.ipynb#Learning-Outcomes)\n",
    " - [Course Materials](syllabus.ipynb#Course-Materials)\n",
    " - [Texts](syllabus.ipynb#Texts)\n",
    " - [Evaluation](syllabus.ipynb#Evaluation)\n",
    " - [Plagiarism](syllabus.ipynb#Plagiarism)\n",
    " - [Absenteeism](syllabus.ipynb#Absenteeism)\n",
    " \n",
    " \n",
    "- **[Calendar](calendar.ipynb)**\n",
    "\n",
    "\n",
    "- **[Student Bibliography](bibliography.ipynb)**\n",
    "\n",
    "\n",
    "- **Graded Materials**\n",
    " - [Final Project](final_project.ipynb)\n",
    " - [Midterm](midterm.ipynb)\n",
    " - [Assignment 1](assgn1.ipynb)\n",
    " - [Assignment 2](assgn2.ipynb)\n",
    " \n",
    " \n",
    "- **[Resources](resources.ipynb)**\n",
    " \n",
    " \n",
    "- **[Extended Course Description](course_description.ipynb)**\n",
    " - [Course Overview](course_description.ipynb#Overview)\n",
    " - [Justification](course_description.ipynb#Justification)\n",
    " - [Methodology](course_description.ipynb#Methodology)\n",
    " - [Teaching Philosophy](course_description.ipynb#Teaching-Philosophy)\n",
    " - [Instructor Bibliography](course_description.ipynb#Instructor-Bibliography) \n",
    " - [Class Descriptions](course_description.ipynb#Class-Descriptions)\n",
    " \n",
    " \n",
    "- **[Class Descriptions](class_descriptions.ipynb)**\n",
    " - [Class 4](class4.ipynb) - class description [here](class_descriptions.ipynb#Class4)\n",
    " - [Class 5](class5.ipynb) - class description [here](class_descriptions.ipynb#Class5)\n",
    " - [Class 6](class6.ipynb) - class description [here](class_descriptions.ipynb#Class6)\n",
    " - [Class 7](class7.ipynb) - class description [here](class_descriptions.ipynb#Class7)\n",
    " - [Class 9](class9.ipynb) - class description [here](class_descriptions.ipynb#Class9)\n",
    " - [Class 14](class14.ipynb) - class description [here](class_descriptions.ipynb#Class14)\n",
    " - [Class 15](class15.ipynb) - class description [here](class_descriptions.ipynb#Class15)\n",
    " - [Class 16](class16.ipynb) - class description [here](class_descriptions.ipynb#Class16)\n",
    " - [Class 19](class19.ipynb) - class description [here](class_descriptions.ipynb#Class19)\n",
    " - [Class 21](class21.ipynb) - class description [here](class_descriptions.ipynb#Class21)"
   ]
  }
 ],
 "metadata": {
  "kernelspec": {
   "display_name": "Python 2",
   "language": "python",
   "name": "python2"
  },
  "language_info": {
   "codemirror_mode": {
    "name": "ipython",
    "version": 2
   },
   "file_extension": ".py",
   "mimetype": "text/x-python",
   "name": "python",
   "nbconvert_exporter": "python",
   "pygments_lexer": "ipython2",
   "version": "2.7.6"
  }
 },
 "nbformat": 4,
 "nbformat_minor": 0
}
