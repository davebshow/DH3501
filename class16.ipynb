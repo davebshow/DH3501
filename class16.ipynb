{
 "metadata": {
  "name": "",
  "signature": "sha256:f4067fbd0355387f8e2be4bce361c3ae57b8e4cd5f97b992b94e7f6ff947c8d0"
 },
 "nbformat": 3,
 "nbformat_minor": 0,
 "worksheets": [
  {
   "cells": [
    {
     "cell_type": "markdown",
     "metadata": {},
     "source": [
      "<div align=\"left\">\n",
      "<h4><a href=\"index.ipynb\">RETURN TO INDEX</a></h4>\n",
      "</div>\n",
      "<div align=\"center\">\n",
      "<h1><a href=\"index.ipynb\">DH3501: Advanced Social Networks</a><br/><em>Class 16</em>: Alternative GraphDBs and distributed computing</h1>\n",
      "</div>"
     ]
    },
    {
     "cell_type": "markdown",
     "metadata": {},
     "source": [
      "<div style=\"float:left\">\n",
      "**Western University**<br/>\n",
      "**Department of Modern Languages and Literatures**<br/>\n",
      "**Digital Humanities \u2013 DH 3501**<br/>\n",
      "<br/>\n",
      "**Instructor**: David Brown<br/>\n",
      "**E-mail**: [dbrow52@uwo.ca](mailto:dbrow52@uwo.ca)<br/>\n",
      "**Office**: AHB 1R14<br/>\n",
      "</div>\n",
      "<div style=\"float:left\">\n",
      "<img style=\"width:200px; margin-left:100px\" src=\"http://www.bsr.org/images/blog/networks.jpg\" />\n",
      "</div>"
     ]
    },
    {
     "cell_type": "markdown",
     "metadata": {},
     "source": [
      "**Beware the TinkerPop my son!**\n",
      "\n",
      "<img style=\"float:left; width: 300px\" src=\"img/tinkerpop-character.png\">"
     ]
    },
    {
     "cell_type": "markdown",
     "metadata": {},
     "source": [
      "**Neo4j is killer**, but it isn't the only option if you want to use GraphDBs. Furthermore, if you want to take advantage of modern distributed processing techniques with graphs, you need a different toolkit. In this class, we will discuss:\n",
      "\n",
      "\n",
      "* Titan, TinkerPop3 and the Gremlin Server\n",
      "* Apache Spark with GraphX\n",
      "\n",
      "We'll also breifly introduce Python's new [Asyncio](https://docs.python.org/3/library/asyncio.html) module, available as part of the standard library starting with Python 3.4."
     ]
    },
    {
     "cell_type": "heading",
     "level": 2,
     "metadata": {},
     "source": [
      "What's a Tinkerpop?"
     ]
    },
    {
     "cell_type": "markdown",
     "metadata": {},
     "source": [
      "<img style=\"float:left; width: 500px\" src=\"img/tinkerpop3-splash.png\"><img style=\"float:left; width: 500px\" src=\"img/gremlintron.png\">"
     ]
    },
    {
     "cell_type": "markdown",
     "metadata": {},
     "source": []
    },
    {
     "cell_type": "heading",
     "level": 3,
     "metadata": {},
     "source": [
      "Gremlin traversal language"
     ]
    },
    {
     "cell_type": "markdown",
     "metadata": {},
     "source": [
      "[Gremlin]() is a subset of the Groovy programming language that provides an API designed specifically for graph traversals. Groovy is a language that runs on the Java Virtual Machine, like Java or Scala, but it is made for scripting. In some ways, Gremlin's syntax is similar to Python's.\n",
      "\n",
      "Gremlin uses method chaining to compose graph traversals [from the docs](http://www.tinkerpop.com/docs/3.0.0.M7/#_the_graph_process):\n",
      "\n",
      "```bash\n",
      "$ bin/gremlin.sh\n",
      "\n",
      "         \\,,,/\n",
      "         (o o)\n",
      "-----oOOo-(3)-oOOo-----\n",
      "gremlin> g = TinkerFactory.createModern()\n",
      "==>tinkergraph[vertices:6 edges:6]\n",
      "gremlin> g.V().has('name','marko').out('knows').values('name')\n",
      "==>vadas\n",
      "==>josh\n",
      "```\n",
      "\n",
      "The above can be can be broken down into the following:\n",
      "\n",
      "```bash\n",
      "gremlin> marko = g.V().has('name','marko').next()\n",
      "==>v[1]\n",
      "gremlin> marko.out('knows')\n",
      "==>v[2]\n",
      "==>v[4]\n",
      "gremlin> marko.out('knows').values('name')\n",
      "==>vadas\n",
      "==>josh\n",
      "```\n",
      "\n",
      "The Gremlin graph traversal API is huge, with all kinds of steps (methods), but **all of the steps are composed from the five basic steps of the ...**<h3>TinkerPop3 process API</h3>\n",
      "\n",
      "* `map`: transform the incoming traverser\u2019s object to another object (S \u2192 E).\n",
      "\n",
      "* `flatMap`: transform the incoming traverser\u2019s object to an iterator of other objects (S \u2192 E*).\n",
      "\n",
      "* `filter`: allow or disallow the traverser from proceeding to the next step (S \u2192 S \u222a \u2205).\n",
      "\n",
      "* `sideEffect`: allow the traverser to proceed unchanged, but yield some computational sideEffect in the process (S \u21ac S).\n",
      "\n",
      "* `branch`: split the traverser and send each to an arbitrary location in the traversal (S \u21d2 S1, S2, \u2026, Sn).\n",
      "\n",
      "Let's take some time to think about this..."
     ]
    },
    {
     "cell_type": "markdown",
     "metadata": {},
     "source": [
      "<img style=\"float:left; width: 300px\" src=\"img/ralph.jpg\">"
     ]
    },
    {
     "cell_type": "heading",
     "level": 3,
     "metadata": {},
     "source": [
      "Five basic traversal steps...nearly unlimited possibilities!"
     ]
    },
    {
     "cell_type": "markdown",
     "metadata": {},
     "source": [
      "<img style=\"float:left; width: 500px\" src=\"img/step-types.png\">"
     ]
    },
    {
     "cell_type": "markdown",
     "metadata": {},
     "source": [
      "Here's is the example from the docs using the five basic steps to compose the traversal shown above:\n",
      "\n",
      "```bash\n",
      "gremlin> g.V().\n",
      "  filter{it.get().value('name') == 'marko'}.\n",
      "  flatMap{it.get().out('knows')}.\n",
      "  map{it.get().value('name')}\n",
      "==>vadas\n",
      "==>josh\n",
      "```\n",
      "\n",
      "And here is a crafty (academic) example using only flatMap:\n",
      "\n",
      "```bash\n",
      "gremlin> g.V().\n",
      "  flatMap{it.get().value('name') == 'marko' ? [it.get()].iterator() : [].iterator()}.\n",
      "  flatMap{it.get().out('knows')}.\n",
      "  flatMap{[it.get().value('name')].iterator()}\n",
      "==>vadas\n",
      "==>josh\n",
      "\n",
      "```"
     ]
    },
    {
     "cell_type": "heading",
     "level": 2,
     "metadata": {},
     "source": [
      "Gremlin Server"
     ]
    },
    {
     "cell_type": "markdown",
     "metadata": {},
     "source": [
      "<img style=\"float:left; width: 500px\" src=\"img/gremlin-server.png\">"
     ]
    },
    {
     "cell_type": "markdown",
     "metadata": {},
     "source": [
      "The Gremlin server allows you to remotely execute Gremlin scripts against any Gremlin enabled graph hosted in the server. You can execute scripts using the Gremlin Console, as shown above, or use a driver writen in another language to submit scripts to the server through a [websocket](http://en.wikipedia.org/wiki/WebSocket) connection. There are a variety of drivers in various languages that you can use, we'll be using Python."
     ]
    },
    {
     "cell_type": "heading",
     "level": 3,
     "metadata": {},
     "source": [
      "Accessing the Gremlin Server with Python"
     ]
    },
    {
     "cell_type": "markdown",
     "metadata": {},
     "source": [
      "**First** we need the Gremlin Server. Let's download and unpack:\n",
      "\n",
      "```bash\n",
      "$ wget http://tinkerpop.com/downloads/3.0.0.M7/gremlin-server-3.0.0.M7.zip\n",
      "$ unzip gremlin-server-3.0.0.M7.zip\n",
      "$ rm rm gremlin-server-3.0.0.M7.zip\n",
      "$ mv gremlin-server-3.0.0.M7 gremlin-server\n",
      "```\n",
      "\n",
      "The server comes with a variety of basic config templates, they live in the conf/ directory:\n",
      "\n",
      "```bash\n",
      "$ cd gremlin-server/conf\n",
      "$ ls\n",
      "gremlin-server-classic.yaml      gremlin-server.yaml\n",
      "gremlin-server-min.yaml          log4j-server.properties\n",
      "gremlin-server-modern.yaml       neo4j-empty.properties\n",
      "gremlin-server-neo4j.yaml        tinkergraph-empty.properties\n",
      "gremlin-server-rest-modern.yaml\n",
      "```\n",
      "\n",
      "As you can see, there is a rest server option, but we'll be using **gizmo**, a Python library that provides bindings for the Gremlin Server websockets communication. For this example, we'll use the gremlin-server-modern.yaml config file.\n",
      "\n",
      "```bash\n",
      "$ ./bin/gremlin-server.sh conf/gremlin-server-modern.yaml\n",
      "```"
     ]
    },
    {
     "cell_type": "heading",
     "level": 3,
     "metadata": {},
     "source": [
      "Async what?"
     ]
    },
    {
     "cell_type": "heading",
     "level": 2,
     "metadata": {},
     "source": [
      "Titan GDB"
     ]
    },
    {
     "cell_type": "markdown",
     "metadata": {},
     "source": [
      "Roll the Gremlin Server with a distributed transactional graphdb backend!"
     ]
    },
    {
     "cell_type": "heading",
     "level": 2,
     "metadata": {},
     "source": [
      "Apache Spark"
     ]
    },
    {
     "cell_type": "heading",
     "level": 3,
     "metadata": {},
     "source": [
      "GraphX"
     ]
    },
    {
     "cell_type": "markdown",
     "metadata": {},
     "source": [
      "Coming soon in Python..."
     ]
    }
   ],
   "metadata": {}
  }
 ]
}