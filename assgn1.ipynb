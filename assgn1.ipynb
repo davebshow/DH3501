{
 "metadata": {
  "name": "",
  "signature": "sha256:6d9e8bcf0611d951065ff6408ffb3fd84301fc432d7cbf1273298adfd1ba58f2"
 },
 "nbformat": 3,
 "nbformat_minor": 0,
 "worksheets": [
  {
   "cells": [
    {
     "cell_type": "markdown",
     "metadata": {},
     "source": [
      "<div align=\"center\">\n",
      "<h1>[Advanced Social Networks](index.ipynb)<br/>*Assignment 1:* Analytics Demo Day</h1>\n",
      "</div>"
     ]
    },
    {
     "cell_type": "markdown",
     "metadata": {},
     "source": [
      "<div style=\"float:left\">\n",
      "**Western University**<br/>\n",
      "**Department of Modern Languages and Literatures**<br/>\n",
      "**Digital Humanities \u2013 DH 3501**<br/>\n",
      "<br/>\n",
      "**Instructor**: David Brown<br/>\n",
      "**E-mail**: [dbrow52@uwo.ca](mailto:dbrow52@uwo.ca)<br/>\n",
      "**Office**: AHB 1R14<br/>\n",
      "</div>\n",
      "<div style=\"float:left\">\n",
      "<img style=\"width:200px; margin-left:100px\" src=\"http://www.bsr.org/images/blog/networks.jpg\" />\n",
      "</div>"
     ]
    },
    {
     "cell_type": "heading",
     "level": 2,
     "metadata": {},
     "source": [
      "Description"
     ]
    },
    {
     "cell_type": "markdown",
     "metadata": {},
     "source": [
      "It's Monday in what is looking to be a mellow week at work. You get back from lunch and see email from the Chief Developer marked **URGENT** in your inbox:\n",
      "\n",
      "\n",
      "from: **Chief Developer**\n",
      "\n",
      "to: DevTeamList\n",
      "\n",
      "cc: CTO\n",
      "\n",
      "subject: **URGENT** Analytics Demo Day\n",
      "\n",
      "Happy monday! We've just found out that we'll be demoing our analytics tomorrow morning for the board, so we've got all the Junior Developers putting together demo datasets. They'll be a trial run today at 5 p.m, all dev staff is required to attend, and the CTO will be there, so I'd cancel your dinner plans :D\n",
      "\n",
      "Here's what we need: \n",
      "\n",
      "**1. Find a data set.**\n",
      "\n",
      "Locate a data set that can be modeled as a graph. \n",
      "\n",
      "  * I would recommend using one of the data sets available from the [Gephi Wiki](https://wiki.gephi.org/index.php/Datasets). They should be formatted for easy import into NetworkX using one of the built in functions. Furthermore, many of the data sets contain nodes with attributes, which will be important in the analysis phase.\n",
      "  \n",
      "  * Things to keep in mind:\n",
      "  \n",
      "    * The data set **must** contain nodes with attributes that can be used to measure assortativity.\n",
      "    \n",
      "    * Big graphs are cool, but remember, we will be analyzing this data in memory, so it has to fit in the RAM. I will run these on a computer with 16 gigs of RAM, so if it runs on your laptop it should be fine.\n",
      "  \n",
      "**2. Load the data into NetworkX.**\n",
      "\n",
      "Depending on its format, you can use one of NetworkX's built in data loading function, or write their own code to import the data into memory for analysis. Remember to import all relavent node and edge attributes for use in the analysis phase.\n",
      "\n",
      "**3. Use NetworkX to analyze the data.**\n",
      "\n",
      "Below you will find a variety of unfinished functions that you need to complete. They will help you perform analysis and create visualizations. You will be expected to provide the following types of analysis:\n",
      "\n",
      "  * General description: number of nodes and edges, directed vs. undirected.\n",
      "  \n",
      "  * Structure: degree distribtion, triangle, transitivity, clustering.\n",
      "  \n",
      "  * Paths: average shortest path, diameter.\n",
      "  \n",
      "  * Centrality: degree (in- and out-), closeness, betweenness, eigenvector...\n",
      "  \n",
      "  * Assortativity: contextual homophily based on relavant node attributes.\n",
      "  \n",
      "  * Mystery function: **VERY IMPORTANT**! Write a function(s) that demonstrates your skill and creativity.\n",
      "\n",
      "**4. Use Gephi to visualize the network.**\n",
      "\n",
      "Experiment with a variety of layouts, sizing, and coloring schemes to create 3-4 visualizations that are complimentary to visualization other parts of your analysis. For example, if your graph has a heavy tailed degree distribution, you can use Gephi to create visualization that highlights the large hubs in the network.\n",
      "\n",
      "**5. Interpret the results.**\n",
      "\n",
      "Using what they know about graph theory and social network analysis, all developers will be expected to provide a brief (500-750 word) interpretation of the results of the analysis. This must take into account the idiosyncracies of the network. For example, degree in a Facebook network means something different than degree in a power grid. Also, you should explain your visualizations here. What settings did you you use to make them and why?\n",
      "\n",
      "Thanks guys! I appreciate the effort. See you soon!\n",
      "\n",
      "CD"
     ]
    },
    {
     "cell_type": "heading",
     "level": 2,
     "metadata": {},
     "source": [
      "Grading"
     ]
    },
    {
     "cell_type": "markdown",
     "metadata": {},
     "source": [
      "**This assignment will be evaluated as follows:**"
     ]
    },
    {
     "cell_type": "markdown",
     "metadata": {},
     "source": [
      "**Percentage of Final Grade: 10%**\n",
      "\n",
      "* **Analysis: 50%** - Analysis will be graded based upon the completeness and efficacy of the code written by the student. Students should complete all provided functions so that they run without throwing errors, and properly use the NetworkX API to produce the desired metric. Considerations of style and optimality of the solution will be secondary; however, students are encourage to try to write readable, idomatic Python and follow [PEP 8 guidlines](https://www.python.org/dev/peps/pep-0008/).\n",
      "\n",
      "\n",
      "* **Visualization (Gephi): 20%** - Visualizations will be graded on their relevance with regards to the analysis and interpretation. Each visualization produced with Gephi must be designed to highlight a particular aspect of the analysis, such as the previously mentioned example of degree distributions, homophily, clustering, etc. \n",
      "\n",
      "\n",
      "* **Interpretation: 30%** - The interpretation will be graded on the students ability to pick out interesting measures and explain why they are important to understanding the network. This section must also explain the reasoning behind the visualizations, clearly stating how they help the viewer understand key aspects of the analysis."
     ]
    },
    {
     "cell_type": "heading",
     "level": 2,
     "metadata": {},
     "source": [
      "Analysis"
     ]
    },
    {
     "cell_type": "code",
     "collapsed": false,
     "input": [
      "# Set up environment.\n",
      "%matplotlib inline\n",
      "import networkx as nx\n",
      "import matplotlib as plt\n",
      "plt.rcParams['figure.figsize'] = 14, 7"
     ],
     "language": "python",
     "metadata": {},
     "outputs": [],
     "prompt_number": 5
    },
    {
     "cell_type": "code",
     "collapsed": false,
     "input": [
      "########## FUNCTIONS ##########\n",
      "\n",
      "# Use NetworkX combined with any other Python libraries to complete the following functions:\n",
      "\n",
      "def load_data(filename):\n",
      "    \"\"\"\n",
      "    Load your graph data into NetworkX.\n",
      "    \n",
      "    :param filename: str.\n",
      "    :returns: networkx.Graph or subclass\n",
      "    \"\"\"\n",
      "    pass\n",
      "\n",
      "\n",
      "def metrics(g):\n",
      "    \"\"\"\n",
      "    Returns the following metrics in a container of your choice:\n",
      "    \n",
      "    * Number of nodes\n",
      "    \n",
      "    * Number of edges\n",
      "    \n",
      "    * Density\n",
      "    \n",
      "    * Number of triangle\n",
      "    \n",
      "    * Transitivity\n",
      "    \n",
      "    * Average clustering coefficient\n",
      "    \n",
      "    * Average shortest path\n",
      "    \n",
      "    * Diameter\n",
      "    \n",
      "    :param g: networkx.Graph or subclass\n",
      "    :returns: A collection of stats.\n",
      "    \"\"\"\n",
      "    pass\n",
      "\n",
      "\n",
      "def deg_dist(g):\n",
      "    \"\"\"\n",
      "    Calculate the degree distribution of the graph.\n",
      "    \n",
      "    :param g: networkx.Graph or subclass\n",
      "    :returns: A collection of degree values the corresponding number of nodes\n",
      "    \"\"\"\n",
      "    pass\n",
      "\n",
      "\n",
      "def plot_deg_dist(col):\n",
      "    \"\"\"\n",
      "    Plot the degree distribution using Matplotlib. \n",
      "    \n",
      "    :param col: a collection containing the degree values and their probablities.\n",
      "    :returns: matplotlib object\n",
      "    \"\"\"\n",
      "    pass\n",
      "\n",
      "\n",
      "def assortativity(g):\n",
      "    \"\"\"\n",
      "    Returns the following stats in a container of your choice:\n",
      "    \n",
      "    * Degree Assortativity\n",
      "    \n",
      "    * Assortativity based on any relevant node attribute\n",
      "    \n",
      "    :param g: networkx.Graph or subclass\n",
      "    :returns: A collection of stats\n",
      "    \"\"\"\n",
      "    pass\n",
      "\n",
      "\n",
      "def centrality(g):\n",
      "    \"\"\"\n",
      "    Returns the following stats in a container of your choice:\n",
      "    \n",
      "    * Degree\n",
      "    \n",
      "    * Degree centrality\n",
      "    \n",
      "    * Betweenness centrality\n",
      "    \n",
      "    * Closeness centrality\n",
      "    \n",
      "    * Eigenvector centrality\n",
      "    \n",
      "    If directed:\n",
      "    \n",
      "    * In-degree\n",
      "    \n",
      "    * Out-degree\n",
      "    \n",
      "    :param g: networkx.Graph or subclass\n",
      "    :returns: A collection of stats\n",
      "    \"\"\"\n",
      "    pass\n",
      "\n",
      "\n",
      "def centrality_hist(cents):\n",
      "    \"\"\"\n",
      "    This function produces a series of histograms, showing the probability distribution\n",
      "    for all of the centrality measures. \n",
      "    \n",
      "    \n",
      "    :param cents: a collection containing all centrality measures\n",
      "    :returns: matplotlib object\n",
      "    \"\"\"\n",
      "    pass\n",
      "\n",
      "\n",
      "def mystery_function():\n",
      "    \"\"\"\n",
      "    This one is up to you. Do a different kind of analysis, a traversal, a visualization.\n",
      "    Try to WOW your instructor :D\n",
      "    \"\"\"\n",
      "    pass"
     ],
     "language": "python",
     "metadata": {},
     "outputs": [],
     "prompt_number": 6
    },
    {
     "cell_type": "code",
     "collapsed": false,
     "input": [
      "########## SCRIPTING ##########\n",
      "\n",
      "# Use as many cells as you need to run ALL of the\n",
      "# functions and generate ALL the metrics and visualizations:"
     ],
     "language": "python",
     "metadata": {},
     "outputs": [],
     "prompt_number": 7
    },
    {
     "cell_type": "code",
     "collapsed": false,
     "input": [],
     "language": "python",
     "metadata": {},
     "outputs": [],
     "prompt_number": 7
    },
    {
     "cell_type": "code",
     "collapsed": false,
     "input": [],
     "language": "python",
     "metadata": {},
     "outputs": [],
     "prompt_number": 7
    },
    {
     "cell_type": "code",
     "collapsed": false,
     "input": [],
     "language": "python",
     "metadata": {},
     "outputs": [],
     "prompt_number": 7
    },
    {
     "cell_type": "heading",
     "level": 2,
     "metadata": {},
     "source": [
      "Results"
     ]
    },
    {
     "cell_type": "markdown",
     "metadata": {},
     "source": [
      "**The write up of your results goes here (please embed visualizations created with Gephi):**"
     ]
    },
    {
     "cell_type": "markdown",
     "metadata": {},
     "source": []
    }
   ],
   "metadata": {}
  }
 ]
}