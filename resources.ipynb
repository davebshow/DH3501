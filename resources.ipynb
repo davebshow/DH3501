{
 "metadata": {
  "name": "",
  "signature": "sha256:cc74288d5505c05289dcd9ee9a17af7dbda9fe8960e3ae20226d065ad10950d9"
 },
 "nbformat": 3,
 "nbformat_minor": 0,
 "worksheets": [
  {
   "cells": [
    {
     "cell_type": "markdown",
     "metadata": {},
     "source": [
      "<div align=\"left\">\n",
      "<h4><a href=\"index.ipynb\">RETURN TO INDEX</a></h4>\n",
      "</div>\n",
      "<div align=\"center\">\n",
      "<h1><a href=\"index.ipynb\">DH3501: Advanced Social Networks</a><br/>"
     ]
    },
    {
     "cell_type": "markdown",
     "metadata": {},
     "source": [
      "* Network datasets:\n",
      "  - [KONECT](http://konect.uni-koblenz.de/)\n",
      "  - [SNAP](http://snap.stanford.edu/data/)\n",
      "  - [UCI](https://networkdata.ics.uci.edu/resources.php)\n",
      "  - [Gephi](https://wiki.gephi.org/index.php/Datasets)"
     ]
    }
   ],
   "metadata": {}
  }
 ]
}