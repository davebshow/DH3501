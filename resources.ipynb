{
 "metadata": {
  "name": "",
  "signature": "sha256:4480af334d969224a45a1bd5a90667bb3e448f1d56b9bb30bc940d8163e62e47"
 },
 "nbformat": 3,
 "nbformat_minor": 0,
 "worksheets": [
  {
   "cells": [
    {
     "cell_type": "markdown",
     "metadata": {},
     "source": [
      "* Network datasets:\n",
      "  - [KONECT](http://konect.uni-koblenz.de/)\n",
      "  - [SNAP](http://snap.stanford.edu/data/)\n",
      "  - [UCI](https://networkdata.ics.uci.edu/resources.php)\n",
      "  - [Gephi](https://wiki.gephi.org/index.php/Datasets)"
     ]
    },
    {
     "cell_type": "code",
     "collapsed": false,
     "input": [],
     "language": "python",
     "metadata": {},
     "outputs": []
    }
   ],
   "metadata": {}
  }
 ]
}