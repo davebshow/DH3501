{
 "metadata": {
  "name": "",
  "signature": "sha256:6ec63c85dfda413de6ce20962142f2af9c79caa3e35544961e83be58554ce61c"
 },
 "nbformat": 3,
 "nbformat_minor": 0,
 "worksheets": [
  {
   "cells": [
    {
     "cell_type": "markdown",
     "metadata": {},
     "source": [
      "<div align=\"left\">\n",
      "    <h4>[RETURN TO INDEX](index.ipynb)</h4>\n",
      "</div>"
     ]
    },
    {
     "cell_type": "markdown",
     "metadata": {},
     "source": [
      "* Network datasets:\n",
      "  - [KONECT](http://konect.uni-koblenz.de/)\n",
      "  - [SNAP](http://snap.stanford.edu/data/)\n",
      "  - [UCI](https://networkdata.ics.uci.edu/resources.php)\n",
      "  - [Gephi](https://wiki.gephi.org/index.php/Datasets)"
     ]
    }
   ],
   "metadata": {}
  }
 ]
}