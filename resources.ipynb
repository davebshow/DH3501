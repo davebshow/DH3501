{
 "metadata": {
  "name": "",
  "signature": "sha256:e36ce1fb329578c3ead7b67bdb5f11b7d5b8aab116dba5a73aa1476219923031"
 },
 "nbformat": 3,
 "nbformat_minor": 0,
 "worksheets": [
  {
   "cells": [
    {
     "cell_type": "code",
     "collapsed": false,
     "input": [],
     "language": "python",
     "metadata": {},
     "outputs": []
    }
   ],
   "metadata": {}
  }
 ]
}