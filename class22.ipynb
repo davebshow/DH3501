{
 "metadata": {
  "name": "",
  "signature": "sha256:04bda1bf62154d2d6954f5c6fb9f187e301dd3241a9d1abe4bc2c80fef216ba5"
 },
 "nbformat": 3,
 "nbformat_minor": 0,
 "worksheets": [
  {
   "cells": [
    {
     "cell_type": "markdown",
     "metadata": {},
     "source": [
      "<div align=\"center\">\n",
      "<h1>[DH3501: Advanced Social Networks](index.ipynb)<br/><br/>*Class 22*: Information Cascades and Diffusion</h1>\n",
      "</div>"
     ]
    },
    {
     "cell_type": "markdown",
     "metadata": {},
     "source": [
      "<div style=\"float:left\">\n",
      "**Western University**<br/>\n",
      "**Department of Modern Languages and Literatures**<br/>\n",
      "**Digital Humanities \u2013 DH 3501**<br/>\n",
      "<br/>\n",
      "**Instructor**: David Brown<br/>\n",
      "**E-mail**: [dbrow52@uwo.ca](mailto:dbrow52@uwo.ca)<br/>\n",
      "**Office**: AHB 1R14<br/>\n",
      "</div>\n",
      "<div style=\"float:left\">\n",
      "<img style=\"width:200px; margin-left:100px\" src=\"http://www.bsr.org/images/blog/networks.jpg\" />\n",
      "</div>"
     ]
    },
    {
     "cell_type": "code",
     "collapsed": false,
     "input": [],
     "language": "python",
     "metadata": {},
     "outputs": []
    }
   ],
   "metadata": {}
  }
 ]
}