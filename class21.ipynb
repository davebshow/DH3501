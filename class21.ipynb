{
 "metadata": {
  "name": "",
  "signature": "sha256:fe669843d865327c96a3ee094bf29b79fd6228206dba7d445d550d43974e21a1"
 },
 "nbformat": 3,
 "nbformat_minor": 0,
 "worksheets": [
  {
   "cells": [
    {
     "cell_type": "markdown",
     "metadata": {},
     "source": [
      "<div align=\"left\">\n",
      "<h4><a href=\"index.ipynb\">RETURN TO INDEX</a></h4>\n",
      "</div>\n",
      "<div align=\"center\">\n",
      "<h1><a href=\"index.ipynb\">DH3501: Advanced Social Networks</a><br/><br/><em>Class 21</em>: Information Cascades and Diffusion</h1>\n",
      "</div>"
     ]
    },
    {
     "cell_type": "markdown",
     "metadata": {},
     "source": [
      "<div style=\"float:left\">\n",
      "<b>Western University</b><br/>\n",
      "<b>Department of Modern Languages and Literatures</b><br/>\n",
      "<b>Digital Humanities \u2013 DH 3501</b><br/>\n",
      "<br/>\n",
      "<b>Instructor</b>: David Brown<br/>\n",
      "<b>E-mail</b>: <a href=\"mailto:dbrow52@uwo.ca\">dbrow52@uwo.ca</a><br/>\n",
      "<b>Office</b>: AHB 1R14<br/>\n",
      "</div>\n",
      "<div style=\"float:left\">\n",
      "<img style=\"width:200px; margin-left:100px\" src=\"http://www.bsr.org/images/blog/networks.jpg\" />\n",
      "</div>"
     ]
    },
    {
     "cell_type": "markdown",
     "metadata": {},
     "source": [
      "How does network structure affect individuals at a local level? Do our decisions reflect population values at an aggregate level, or are they based on the local values of our friends and acquiantances? \n",
      "\n",
      "This class explores these questions through the concept of **adoption of innovation.**"
     ]
    },
    {
     "cell_type": "heading",
     "level": 2,
     "metadata": {},
     "source": [
      "Adoption and innovation"
     ]
    },
    {
     "cell_type": "markdown",
     "metadata": {},
     "source": [
      "Adoption is generally driven by a **social structure** in which individuals can observe the decsions of their neighbors.\n",
      "\n",
      "* Informational effects result from peoples observing the choices made by others, from which they glean indirect information about what they know.\n",
      "\n",
      "* Direct benefit effects result from some sort of direct payoff by copying others behaviours.\n",
      "\n",
      "According to Everett Rogers, the success of innovation (even if the innovation conveys a relative advantage) depends on 4 factors:\n",
      "\n",
      "* Complexity for people to understand and implement.\n",
      "\n",
      "* Observability, so that people can become aware that others are using it.\n",
      "\n",
      "* Trialability, so that people can mitigate its risks by adopting it gradually and incrementally.\n",
      "\n",
      "* Compatibility with the social system that it is entering. - E & K, 565\n",
      "\n",
      "What are some possible **barriers to innovation**?"
     ]
    },
    {
     "cell_type": "heading",
     "level": 2,
     "metadata": {},
     "source": [
      "Coordination game"
     ]
    },
    {
     "cell_type": "markdown",
     "metadata": {},
     "source": [
      "Players: v, w\n",
      "Strategies: A, B\n",
      "\n",
      "* If v and w both adopt A, they get $a > 0$\n",
      "* If v and w both adopt B, they get $b > 0$\n",
      "* If they adopt opposite behaviours, they get 0"
     ]
    },
    {
     "cell_type": "markdown",
     "metadata": {},
     "source": [
      "<img style=\"float:left; width: 200px\" src=\"img/ab_game.png\" />"
     ]
    },
    {
     "cell_type": "markdown",
     "metadata": {},
     "source": [
      "How can this be applied for a group of neighbors?\n",
      "\n",
      "* A $p$ fraction of v's neighbors have behavior A, and a $(1-p)$ faction have behavior B;\n",
      "* if v has $d$ neighbors, then $pd$ adopt A and $(1-p)d$ adopt B\n",
      "* if v chooses A, it gets a payoff of $pda$,\n",
      "* if v chooses B, it gets a payoff $(1-p)db$\n",
      "* therefore, a is the better choice if\n",
      "\n",
      "$pda \\geq (1-p)db$\n",
      "\n",
      "* or, more simply\n",
      "\n",
      "$p \\geq \\frac{b}{a+b}$\n",
      "\n",
      "Then, we can apply the coordination game on a network wide level. The simualation rules are simple:\n",
      "\n",
      "* At the beginning (0 time steps), every node in the network uses option B.\n",
      "* Certain nodes are determined early adopters and are marked as users of option A.\n",
      "* The game begins. At each time step, each node is checked using the coordination game. If the adoption of innovation is advantagous for a node, they adopt, if not, they do nothing.\n",
      "* The simulation runs until no node wants to adopt, or until all nodes have switched to product A.\n",
      "\n",
      "This results in what we refer to as a **cascade of adoptions.**"
     ]
    },
    {
     "cell_type": "heading",
     "level": 2,
     "metadata": {},
     "source": [
      "Information cascades"
     ]
    },
    {
     "cell_type": "markdown",
     "metadata": {},
     "source": [
      "A complete cascade occurs in the following conditions:\n",
      "\n",
      "* Consider a set of initial adoptors who start with a new behaviour A, while every other node starts with B. Nodes then repeatedly evaluate the decision to swich from B to A using a threshold of q. If the resulting cascade of options eventually causes every node to swich from B to A, then we say that the set of intial adoptors causes a complete cascade at the threshold q. - E & K, 571."
     ]
    },
    {
     "cell_type": "heading",
     "level": 2,
     "metadata": {},
     "source": [
      "Thought experiment: \"Viral marketing\""
     ]
    },
    {
     "cell_type": "markdown",
     "metadata": {},
     "source": [
      "Using the above premise of information cascades, develop a set of rules for implementing a viral marketing campaign."
     ]
    },
    {
     "cell_type": "heading",
     "level": 2,
     "metadata": {},
     "source": [
      "Cascades and clusters"
     ]
    },
    {
     "cell_type": "markdown",
     "metadata": {},
     "source": [
      "What do we mean by a densly connected community?\n",
      "\n",
      "* A cluster of density p is a set of nodes such that each node in the set has at least a p fraction of its network neighbors in the set (E & K, 574)\n",
      "\n",
      "How do clusters interact with cascades?\n",
      "\n",
      "* Claim: Consider a set of initial adopters of behaviour A, with a threshhold of q for nodes in the remaining network to adopt behaviour A.\n",
      "  * (i) if the remaining network contains a cluster of density greater than 1- q, then the set of initial adopters will not cause a complete cascade.\n",
      "  * (ii) moreover, whenever a set of intial adopters does not cause a complete cascade with threshold q, the remaining network must contain a clust of density greater than 1-q. E & K, 575+\n",
      "  \n",
      "Are the above statements true? **Demonstrate it!**\n",
      "\n",
      "How do you think that the strength of ties affects diffusion?"
     ]
    },
    {
     "cell_type": "heading",
     "level": 2,
     "metadata": {},
     "source": [
      "Extending the model"
     ]
    },
    {
     "cell_type": "markdown",
     "metadata": {},
     "source": [
      "In the real world, this model doesn't hold up. For example, some nodes are more influential than others, and some are more easily influenced than others. To compensate, we can say that payoff varies node by node:\n",
      "\n",
      "* $q_v = \\frac{b_v}{a_v + b_v}$"
     ]
    },
    {
     "cell_type": "heading",
     "level": 2,
     "metadata": {},
     "source": [
      "Knowledge and collective action"
     ]
    },
    {
     "cell_type": "markdown",
     "metadata": {},
     "source": [
      "In a collective action situation cross network collabortation is important and the underlying social network serves to transmit information about people's willingness to particpate.\n",
      "\n",
      "* Activities that present benefits only if a large quantity of people particpate.\n",
      "\n",
      "* Pluralistic ignorance is people have wildly erroneous estimates about the prevalence of certain opinions in the population at large."
     ]
    }
   ],
   "metadata": {}
  }
 ]
}