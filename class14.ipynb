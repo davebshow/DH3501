{
 "cells": [
  {
   "cell_type": "markdown",
   "metadata": {},
   "source": [
    "<div align=\"left\">\n",
    "<h4><a href=\"index.ipynb\">RETURN TO INDEX</a></h4>\n",
    "</div>\n",
    "<div align=\"center\">\n",
    "<h1><a href=\"index.ipynb\">DH3501: Advanced Social Networks</a><br/><br/><em>Class 14</em>: Graph Data and Storage</h1>\n",
    "</div>"
   ]
  },
  {
   "cell_type": "markdown",
   "metadata": {},
   "source": [
    "<div style=\"float:left\">\n",
    "<b>Western University</b><br/>\n",
    "<b>Department of Modern Languages and Literatures</b><br/>\n",
    "<b>Digital Humanities – DH 3501</b><br/>\n",
    "<br/>\n",
    "<b>Instructor</b>: David Brown<br/>\n",
    "<b>E-mail</b>: <a href=\"mailto:dbrow52@uwo.ca\">dbrow52@uwo.ca</a><br/>\n",
    "<b>Office</b>: AHB 1R14<br/>\n",
    "</div>\n",
    "<div style=\"float:left\">\n",
    "<img style=\"width:200px; margin-left:100px\" src=\"http://www.bsr.org/images/blog/networks.jpg\" />\n",
    "</div>"
   ]
  },
  {
   "cell_type": "markdown",
   "metadata": {},
   "source": [
    "Today marks the beginning of the Hacking On Graphs unit, in which we will be learning about graph databases and tools for processing big graphs. **Get ready to party!**"
   ]
  },
  {
   "cell_type": "markdown",
   "metadata": {},
   "source": [
    "<img style=\"float:left; width: 500px\" src=\"img/jeff-spicoli.gif\">"
   ]
  },
  {
   "cell_type": "markdown",
   "metadata": {},
   "source": [
    "## So up until now we've used flat files and in-memory processing to interact with graphs..."
   ]
  },
  {
   "cell_type": "markdown",
   "metadata": {},
   "source": [
    "What are some of the advantages and disadvantages of this approach? Really think about it, the **disadvantages can be obvious**, but the **incredible advantages** may not be quite as noticable until you've seen some other approaches. There are also some more subtle disadvantages...do you have any criticisms about NetworkX? What is **hard to do with NetworkX**?"
   ]
  },
  {
   "cell_type": "markdown",
   "metadata": {},
   "source": [
    "## Flat file formats"
   ]
  },
  {
   "cell_type": "markdown",
   "metadata": {},
   "source": [
    "Let's review the formats we have seen for storing graph data in flat files:\n",
    "\n",
    "* GEXF\n",
    "* GraphML\n",
    "* CSV/TSV\n",
    "* GraphSON\n",
    "* ..."
   ]
  },
  {
   "cell_type": "markdown",
   "metadata": {},
   "source": [
    "### GEXF"
   ]
  },
  {
   "cell_type": "markdown",
   "metadata": {},
   "source": [
    "```xml\n",
    "<?xml version=\"1.0\" encoding=\"UTF-8\"?>\n",
    "<gexf xmlns=\"http://www.gexf.net/1.2draft\" xmlns:xsi=\"http://www.w3.org/2001/XMLSchema-instance\" xsi:schemaLocation=\"http://www.gexf.net/1.2draft http://www.gexf.net/1.2draft/gexf.xsd\" version=\"1.2\">\n",
    "    <meta lastmodifieddate=\"2009-03-20\">\n",
    "        <creator>Gephi.org</creator>\n",
    "        <description>A Web network</description>\n",
    "    </meta>\n",
    "    <graph defaultedgetype=\"directed\">\n",
    "        <attributes class=\"node\">\n",
    "            <attribute id=\"0\" title=\"url\" type=\"string\"/>\n",
    "            <attribute id=\"1\" title=\"indegree\" type=\"float\"/>\n",
    "            <attribute id=\"2\" title=\"frog\" type=\"boolean\">\n",
    "                <default>true</default>\n",
    "            </attribute>\n",
    "        </attributes>\n",
    "        <nodes>\n",
    "            <node id=\"0\" label=\"Gephi\">\n",
    "                <attvalues>\n",
    "                    <attvalue for=\"0\" value=\"http://gephi.org\"/>\n",
    "                    <attvalue for=\"1\" value=\"1\"/>\n",
    "                </attvalues>\n",
    "            </node>\n",
    "            <node id=\"1\" label=\"Webatlas\">\n",
    "                <attvalues>\n",
    "                    <attvalue for=\"0\" value=\"http://webatlas.fr\"/>\n",
    "                    <attvalue for=\"1\" value=\"2\"/>\n",
    "                </attvalues>\n",
    "            </node>\n",
    "            <node id=\"2\" label=\"RTGI\">\n",
    "                <attvalues>\n",
    "                    <attvalue for=\"0\" value=\"http://rtgi.fr\"/>\n",
    "                    <attvalue for=\"1\" value=\"1\"/>\n",
    "                </attvalues>\n",
    "            </node>\n",
    "            <node id=\"3\" label=\"BarabasiLab\">\n",
    "                <attvalues>\n",
    "                    <attvalue for=\"0\" value=\"http://barabasilab.com\"/>\n",
    "                    <attvalue for=\"1\" value=\"1\"/>\n",
    "                    <attvalue for=\"2\" value=\"false\"/>\n",
    "                </attvalues>\n",
    "            </node>\n",
    "        </nodes>\n",
    "        <edges>\n",
    "            <edge id=\"0\" source=\"0\" target=\"1\"/>\n",
    "            <edge id=\"1\" source=\"0\" target=\"2\"/>\n",
    "            <edge id=\"2\" source=\"1\" target=\"0\"/>\n",
    "            <edge id=\"3\" source=\"2\" target=\"1\"/>\n",
    "            <edge id=\"4\" source=\"0\" target=\"3\"/>\n",
    "        </edges>\n",
    "    </graph>\n",
    "</gexf>\n",
    "```"
   ]
  },
  {
   "cell_type": "markdown",
   "metadata": {},
   "source": [
    "### GraphSON"
   ]
  },
  {
   "cell_type": "markdown",
   "metadata": {},
   "source": [
    "```json\n",
    "{\n",
    "    \"mode\":\"EXTENDED\",\n",
    "    \"vertices\": [\n",
    "        {\n",
    "            \"name\": {\n",
    "                \"type\": \"string\",\n",
    "                \"value\": \"lop\"\n",
    "            },\n",
    "            \"lang\": {\n",
    "                \"type\": \"string\",\n",
    "                \"value\": \"java\"\n",
    "            },\n",
    "            \"_id\": \"3\",\n",
    "            \"_type\": \"vertex\"\n",
    "        },\n",
    "        {\n",
    "            \"name\": {\n",
    "                \"type\": \"string\",\n",
    "                \"value\": \"vadas\"\n",
    "            },\n",
    "            \"age\": {\n",
    "                \"type\": \"integer\",\n",
    "                \"value\": 27\n",
    "            },\n",
    "            \"_id\": \"2\",\n",
    "            \"_type\": \"vertex\"\n",
    "        },\n",
    "        {\n",
    "            \"name\": {\n",
    "                \"type\": \"string\",\n",
    "                \"value\": \"marko\"\n",
    "            },\n",
    "            \"age\": {\n",
    "                \"type\": \"integer\",\n",
    "                \"value\": 29\n",
    "            },\n",
    "            \"_id\": \"1\",\n",
    "            \"_type\": \"vertex\"\n",
    "        },\n",
    "        {\n",
    "            \"name\": {\n",
    "                \"type\": \"string\",\n",
    "                \"value\": \"peter\"\n",
    "            },\n",
    "            \"age\": {\n",
    "                \"type\": \"integer\",\n",
    "                \"value\": 35\n",
    "            },\n",
    "            \"_id\": \"6\",\n",
    "            \"_type\": \"vertex\"\n",
    "        },\n",
    "        {\n",
    "            \"name\": {\n",
    "                \"type\": \"string\",\n",
    "                \"value\": \"ripple\"\n",
    "            },\n",
    "            \"lang\": {\n",
    "                \"type\": \"string\",\n",
    "                \"value\": \"java\"\n",
    "            },\n",
    "            \"_id\": \"5\",\n",
    "            \"_type\": \"vertex\"\n",
    "        },\n",
    "        {\n",
    "            \"name\": {\n",
    "                \"type\": \"string\",\n",
    "                \"value\": \"josh\"\n",
    "            },\n",
    "            \"age\": {\n",
    "                \"type\": \"integer\",\n",
    "                \"value\": 32\n",
    "            },\n",
    "            \"_id\": \"4\",\n",
    "            \"_type\": \"vertex\"\n",
    "        }\n",
    "    ],\n",
    "    \"edges\": [\n",
    "        {\n",
    "            \"weight\": {\n",
    "                \"type\": \"float\",\n",
    "                \"value\": 1\n",
    "            },\n",
    "            \"_id\": \"10\",\n",
    "            \"_type\": \"edge\",\n",
    "            \"_outV\": \"4\",\n",
    "            \"_inV\": \"5\",\n",
    "            \"_label\": \"created\"\n",
    "        },\n",
    "        {\n",
    "            \"weight\": {\n",
    "                \"type\": \"float\",\n",
    "                \"value\": 0.5\n",
    "            },\n",
    "            \"_id\": \"7\",\n",
    "            \"_type\": \"edge\",\n",
    "            \"_outV\": \"1\",\n",
    "            \"_inV\": \"2\",\n",
    "            \"_label\": \"knows\"\n",
    "        },\n",
    "        {\n",
    "            \"weight\": {\n",
    "                \"type\": \"float\",\n",
    "                \"value\": 0.4000000059604645\n",
    "            },\n",
    "            \"_id\": \"9\",\n",
    "            \"_type\": \"edge\",\n",
    "            \"_outV\": \"1\",\n",
    "            \"_inV\": \"3\",\n",
    "            \"_label\": \"created\"\n",
    "        },\n",
    "        {\n",
    "            \"weight\": {\n",
    "                \"type\": \"float\",\n",
    "                \"value\": 1\n",
    "            },\n",
    "            \"_id\": \"8\",\n",
    "            \"_type\": \"edge\",\n",
    "            \"_outV\": \"1\",\n",
    "            \"_inV\": \"4\",\n",
    "            \"_label\": \"knows\"\n",
    "        },\n",
    "        {\n",
    "            \"weight\": {\n",
    "                \"type\": \"float\",\n",
    "                \"value\": 0.4000000059604645\n",
    "            },\n",
    "            \"_id\": \"11\",\n",
    "            \"_type\": \"edge\",\n",
    "            \"_outV\": \"4\",\n",
    "            \"_inV\": \"3\",\n",
    "            \"_label\": \"created\"\n",
    "        },\n",
    "        {\n",
    "            \"weight\": {\n",
    "                \"type\": \"float\",\n",
    "                \"value\": 0.20000000298023224\n",
    "            },\n",
    "            \"_id\": \"12\",\n",
    "            \"_type\": \"edge\",\n",
    "            \"_outV\": \"6\",\n",
    "            \"_inV\": \"3\",\n",
    "            \"_label\": \"created\"\n",
    "        }\n",
    "    ]\n",
    "}\n",
    "```"
   ]
  },
  {
   "cell_type": "markdown",
   "metadata": {},
   "source": [
    "## NetworkX and memory limitations"
   ]
  },
  {
   "cell_type": "markdown",
   "metadata": {},
   "source": [
    "According to T & K, ~1% of Twitter traffic for one day would create a graph that occupies 1.5 gigs of memory space in NetworkX. **Processing real world graphs in memory quickly becomes unrealistic.**\n",
    "\n",
    "Let's check out **http://tweetping.net/**"
   ]
  },
  {
   "cell_type": "markdown",
   "metadata": {},
   "source": [
    "<img style=\"float:left; width: 500px\" src=\"img/tweetping.png\">"
   ]
  },
  {
   "cell_type": "markdown",
   "metadata": {},
   "source": [
    "## Intro. to relational databases"
   ]
  },
  {
   "cell_type": "markdown",
   "metadata": {},
   "source": [
    "So we don't focus much on relational databases (**RDBs**) in this course, but it is important to know what they are and the basics of how they work, as graph databases (**GDBs**) borrow many concepts from RDBs."
   ]
  },
  {
   "cell_type": "markdown",
   "metadata": {},
   "source": [
    "### Tables and the E-R model"
   ]
  },
  {
   "cell_type": "markdown",
   "metadata": {},
   "source": [
    "* Relational databases store data in tables...you can think about a table kind of like an excel sheet.\n",
    "\n",
    "  * MySQL\n",
    "  * PostGRESQL\n",
    "  * SQLite\n",
    "  * ...\n",
    "\n",
    "\n",
    "* Generally, a table represents an **entity**, a person, place or thing.\n",
    "\n",
    "\n",
    "* Relationships between things are stored in references to other tables.\n",
    "\n",
    "  * A foreign key stores the primary key of a related entry in another table.\n",
    "  * One-to-one relationships\n",
    "  * One-to-many relationships\n",
    "  * Many-to-many relationships"
   ]
  },
  {
   "cell_type": "markdown",
   "metadata": {},
   "source": [
    "<img style=\"float:left; width: 500px\" src=\"img/relat.gif\">"
   ]
  },
  {
   "cell_type": "markdown",
   "metadata": {},
   "source": [
    "## Challenge: Our first property graph example. "
   ]
  },
  {
   "cell_type": "markdown",
   "metadata": {},
   "source": [
    "Below you will see an [image](https://github.com/tinkerpop/blueprints/wiki/GraphSON-Reader-and-Writer-Library) representing a **property graph.** Using what we just learned about relational database and your intuitive understanding of an image to come up with an E-R diagram representing the data contained in the graph.\n",
    "\n",
    "**Hint:** Ask yourself, what are the nodes that have the names \"lop\" and \"ripple\".\n",
    "\n",
    "<img style=\"float:left; width: 500px\" src=\"img/graph-example-1.jpg\">"
   ]
  },
  {
   "cell_type": "markdown",
   "metadata": {},
   "source": [
    "### Structured Query Language"
   ]
  },
  {
   "cell_type": "markdown",
   "metadata": {},
   "source": [
    "**SQL** is a declarative DSL that allows you to compose queries against a relational database.\n",
    "\n",
    "* It allows you to perform operations such as creating tables, inserting data into tables, retrieving data and changing or deleteing data.\n",
    "\n",
    "**CRUD**: Create Read Update Delete\n",
    "\n",
    "Examples:"
   ]
  },
  {
   "cell_type": "markdown",
   "metadata": {},
   "source": [
    "```sql\n",
    "# Table creation\n",
    "CREATE TABLE TeachingAssistant (\n",
    "    firstname varchar(30) NOT NULL,\n",
    "    lastname varchar(30) NOT NULL,\n",
    "    student_number char(9) NOT NULL UNIQUE,\n",
    "    western_id varchar(8) NOT NULL UNIQUE,\n",
    "    degree varchar(7) NOT NULL,\n",
    "    image_url varchar(2083), # http://stackoverflow.com/questions/219569/best-database-field-type-for-a-url\n",
    "    head_supervisor varchar(8),\n",
    "    FOREIGN KEY (head_supervisor) REFERENCES Instructor(western_id),\n",
    "    PRIMARY KEY (western_id)\n",
    ");\n",
    "\n",
    "# Insertion\n",
    "INSERT INTO TeachingAssistant\n",
    "VALUES ('Homer', 'Simpson', '250011111', 'hsimpson', 'Masters', '', 'krabppl');\n",
    "\n",
    "INSERT INTO TeachingAssistant\n",
    "VALUES ('Ned', 'Flanders', '250000666', 'nflander', 'PhD', '', 'skinner');\n",
    "\n",
    "# Retrieval\n",
    "select * from TeachingAssistant;\n",
    "\n",
    "# Get all TeachingAssistants that have XXX as head_supervisor\n",
    "select * from TeachingAssistant WHERE head_supervisor in (SELECT western_id from Instructor where western_id=250XXXXXX)\n",
    "```"
   ]
  },
  {
   "cell_type": "markdown",
   "metadata": {},
   "source": [
    "### Cursors and lazy evaluation"
   ]
  },
  {
   "cell_type": "markdown",
   "metadata": {},
   "source": [
    "* Querysets aren't loaded into memory until they are needed."
   ]
  },
  {
   "cell_type": "markdown",
   "metadata": {},
   "source": [
    "### Transactions"
   ]
  },
  {
   "cell_type": "markdown",
   "metadata": {},
   "source": [
    "[Wikipedia](http://en.wikipedia.org/wiki/Database_transaction) provide a wonderful description of the concept of a database transaction:\n",
    "\n",
    "A transaction symbolizes a unit of work performed within a database management system (or similar system) against a database, and treated in a coherent and reliable way independent of other transactions. A transaction generally represents any change in database. Transactions in a database environment have two main purposes:\n",
    "\n",
    "* To provide reliable units of work that allow correct recovery from failures and keep a database consistent even in cases of system failure, when execution stops (completely or partially) and many operations upon a database remain uncompleted, with unclear status.\n",
    "\n",
    "* To provide isolation between programs accessing a database concurrently. If this isolation is not provided, the program's outcome are possibly erroneous."
   ]
  },
  {
   "cell_type": "markdown",
   "metadata": {},
   "source": [
    "## NoSQL databases"
   ]
  },
  {
   "cell_type": "markdown",
   "metadata": {},
   "source": [
    "* Key-value store\n",
    "* Document based\n",
    "* Column family"
   ]
  },
  {
   "cell_type": "markdown",
   "metadata": {},
   "source": [
    "## GraphDBs"
   ]
  },
  {
   "cell_type": "markdown",
   "metadata": {},
   "source": [
    "**Some graph vendors:**\n",
    "\n",
    "\n",
    "<img style=\"float:left; width: 500px\" src=\"img/graphdb.png\">"
   ]
  },
  {
   "cell_type": "markdown",
   "metadata": {},
   "source": [
    "GraphDBs are an up and coming technology...Some prominent **GraphDBs**:\n",
    "\n",
    "* Neo4j (Neo Technology)\n",
    "\n",
    "* Titan (Aurelius)\n",
    "\n",
    "* OrientDB (Orient Technologies)\n",
    "\n",
    "* ArangoDB\n",
    "\n",
    "**GraphDBs** leverage the **property graph model**. A property graph has the following characteristics (RWE, 3):\n",
    "\n",
    "* It contains nodes and relationships.\n",
    "* Nodes contain properties (key-value pairs)\n",
    "* Relationships are named and directed, and always have a start and an end node.\n",
    "* Relationships can also contain properties.\n",
    "\n",
    "GraphDB can be used fairly loosely, however we distinguish between a native and non-native storage techniques...\n",
    "\n",
    "* In a database with **native** graph storage, nodes physically point to one another."
   ]
  },
  {
   "cell_type": "markdown",
   "metadata": {},
   "source": [
    "### What are the advantages of GraphDBs...?"
   ]
  },
  {
   "cell_type": "markdown",
   "metadata": {},
   "source": [
    "* Relational databases are actually really bad with relationships (so are many NoSQLs)\n",
    "\n",
    "* In the end, the relational database is unaware of the connections in the data, and application code is responsible for creating a network out of tabular results\n",
    "\n",
    "* Graphs store connected data as, surprise surprise, **connected data**!\n",
    "\n",
    "* Optimized for traversals!!!\n",
    "  * Traversals in SQL (joins) are quite costly\n",
    "  \n",
    "* Flexible\n",
    "\n",
    "* Semantically rich"
   ]
  },
  {
   "cell_type": "markdown",
   "metadata": {},
   "source": [
    "## The big data revolution"
   ]
  },
  {
   "cell_type": "markdown",
   "metadata": {},
   "source": [
    "There are many more technologies being developed for managing large data sets including graphs...\n",
    "\n",
    "Hadoop, Spark, Cassandra...\n",
    "\n",
    "\n",
    "Over the next few classes, we will become familiar with the most common tools and techniques for working with large quantities of graph data...see you soon!"
   ]
  }
 ],
 "metadata": {
  "kernelspec": {
   "display_name": "Python 2",
   "language": "python",
   "name": "python2"
  },
  "language_info": {
   "codemirror_mode": {
    "name": "ipython",
    "version": 2
   },
   "file_extension": ".py",
   "mimetype": "text/x-python",
   "name": "python",
   "nbconvert_exporter": "python",
   "pygments_lexer": "ipython2",
   "version": "2.7.6"
  }
 },
 "nbformat": 4,
 "nbformat_minor": 0
}
