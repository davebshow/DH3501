{
 "cells": [
  {
   "cell_type": "markdown",
   "metadata": {},
   "source": [
    "<div align=\"left\">\n",
    "<h4><a href=\"index.ipynb\">RETURN TO INDEX</a></h4>\n",
    "</div>\n",
    "<div align=\"center\">\n",
    "<h1><a href=\"index.ipynb\">DH3501: Advanced Social Networks</a><br/><br/>*Syllabus*</h1>\n",
    "</div>"
   ]
  },
  {
   "cell_type": "markdown",
   "metadata": {},
   "source": [
    "<div style=\"float:left\">\n",
    "<b>Western University</b><br/>\n",
    "<b>Department of Modern Languages and Literatures</b><br/>\n",
    "<b>Digital Humanities – DH 3501</b><br/>\n",
    "<br/>\n",
    "<b>Instructor</b>: David Brown<br/>\n",
    "<b>E-mail</b>: <a href=\"mailto:dbrow52@uwo.ca\">dbrow52@uwo.ca</a><br/>\n",
    "<b>Office</b>: AHB 1R14<br/>\n",
    "</div>\n",
    "<div style=\"float:left\">\n",
    "<img style=\"width:200px; margin-left:100px\" src=\"http://www.bsr.org/images/blog/networks.jpg\" />\n",
    "</div>"
   ]
  },
  {
   "cell_type": "markdown",
   "metadata": {},
   "source": [
    "## Description"
   ]
  },
  {
   "cell_type": "markdown",
   "metadata": {},
   "source": [
    "This course introduces students to the ubiquitous and rapidly growing fields of graph theory and network analysis. Using a wide variety of real world examples from current events and empirical research, students will obtain a broad knowledge of the theory behind network analysis and its application to understanding human behaviour and cultural systems. This knowledge will then be applied hands on as students process network data using a variety of up-to-date graph storage, analysis, and visualization software. Based around a solid core of reading, discussion, and Python programming, students will extend their knowledge into the realm of graph databases and the application frameworks used for storing and processing the \"big data\" produced by social networking sites like Facebook and Twitter. Finally, this course provides an introduction to advanced topics in graph theory such as dynamics, random models, strategy and interaction, and diffusion that can serve as a springboard for future work in this exciting new field."
   ]
  },
  {
   "cell_type": "markdown",
   "metadata": {},
   "source": [
    "## Pre-requisites"
   ]
  },
  {
   "cell_type": "markdown",
   "metadata": {},
   "source": [
    "* **CS2120/DH2120**, or demonstrated programming ability and knowledge of--or the ability to quickly learn--the Python programming language (subject to instructor approval).\n",
    "\n",
    "* **Recommended:** CS2121 and/or DH2304"
   ]
  },
  {
   "cell_type": "markdown",
   "metadata": {},
   "source": [
    "## Course Aims"
   ]
  },
  {
   "cell_type": "markdown",
   "metadata": {},
   "source": [
    "This course aims to provide students with:\n",
    "\n",
    "* A broad introduction to the theory of graphy theory and network analysis that can serve as a basis for continued/more advanced studies in the field.\n",
    "* The necessary skills to acquire, process, and analyze real world network data.\n",
    "* Knowledge of the panaroma of software available for the the storage and analysis of network data.\n",
    "* An ability to indentify and learn/use the appropriate software for the task at hand.\n",
    "* Improved Python programming skills; specifically in the context of create problem solving with programming."
   ]
  },
  {
   "cell_type": "markdown",
   "metadata": {},
   "source": [
    "## Learning Outcomes"
   ]
  },
  {
   "cell_type": "markdown",
   "metadata": {},
   "source": [
    "After taking this course, students will be able to effectively:\n",
    "\n",
    "* Read and write formal graph notation.\n",
    "* Read and understand an empirical research paper involving graph theory and network analysis.\n",
    "* Describe and analyze a network using the appropriate metrics and methodology.\n",
    "* Use the Python library NetworkX for comprehensive network analysis procedures.\n",
    "* Use Gephi to analyze and visualize networks.\n",
    "* Use the Neo4j graph database to model and store network data.\n",
    "* Write queries in Neo4j's query language Cypher that effectively manipulate the state of the database.\n",
    "* Design and execute a network data analysis pipeline: Acquisiton->Processing->Storage->Analysis."
   ]
  },
  {
   "cell_type": "markdown",
   "metadata": {},
   "source": [
    "## Texts"
   ]
  },
  {
   "cell_type": "markdown",
   "metadata": {},
   "source": [
    "* Easley, D., & Kleinberg, J. (2010). *Networks, crowds, and markets.* Cambridge University.\n",
    "\n",
    "* Jackson, M. O. (2010). *Social and economic networks.* Princeton University Press.\n",
    "\n",
    "* Robinson, I., Webber, J., & Eifrem, E. (2013). *Graph databases.* O'Reilly Media, Inc.\n",
    "\n",
    "* Tsvetovat, M., & Kouznetsov, A. (2011). *Social network analysis for startups: Finding connections on the social web.* O'Reilly Media, Inc."
   ]
  },
  {
   "cell_type": "markdown",
   "metadata": {},
   "source": [
    "## Evaluation"
   ]
  },
  {
   "cell_type": "markdown",
   "metadata": {},
   "source": [
    "* **30%** - Final Project \n",
    "  - **5%** - Presentation\n",
    "  - **10%** - Write-up\n",
    "  - **15%** - Database/code\n",
    "* **30%** - Midterm \n",
    "* **25%** - Homework\n",
    "  - **10%** Assignment 1\n",
    "  - **15%** Assignment 2\n",
    "* **15%** - Notebooks  \n",
    "\n",
    "\n",
    "* **[Final Project](final_project.ipynb) 30%** - Students will acquire, process, store, and analyze a large network dataset. They will present their project during the last week of class, and are expected to turn in both a written report, and organized copies of all code/data used in the project. Details can be found [here](final_project.ipynb).\n",
    "\n",
    "\n",
    "* **Midterm 30%** - An in-class midterm will include all of the material covered in Unit 2. Midterm will include true/false, multiple choice, and lots of short answer questions. Expect to calculate various graph metrics for small example graphs and explain many of the fundamental concepts from graph theory and network analysis.\n",
    "\n",
    "\n",
    "* **Homework 30%**\n",
    "  - **[Assignment 1](assignment1.ipynb) 10%** - Hands on problem solving and network analysis with Python, NetworkX, and Gephi. Details can be found [here](assignment1.ipynb).\n",
    "  - **[Assignment 2](assignment1.ipynb) 10%** - Hands on problem solving and data storage and retrieval with Python and Neo4j. Details can be found [here](assignment2.ipynb).\n",
    " \n",
    "\n",
    "* **Notebooks 15%** - Students are expected to download the course notebooks, run code example, and complete exercises and coding challenges. Notebooks will be turned in twice during the course, once before midterms, and then again in the last week. Notebooks will not be critiqued for solution correctness or elegance. Instead, they should demonstrate your active particpation in the learning process."
   ]
  },
  {
   "cell_type": "markdown",
   "metadata": {},
   "source": [
    "## Plagiarism"
   ]
  },
  {
   "cell_type": "markdown",
   "metadata": {},
   "source": [
    "Plagiarism is a major academic offence (see [Scholastic Offense Policy in the Western Academic Calendar](http://www.westerncalendar.uwo.ca/2013/pg113.html)).  Plagiarism is the inclusion of someone else’s verbatim or paraphrased text in one’s own written work without immediate reference.  Verbatim text must be surrounded by quotation marks or identified if it is no longer that four lines.  A reference must follow right after borrowed material (usually the author’s name and page number).  Without immediate reference to borrowed material, a list of courses at the end of a written assignment does not protect a writer against the possible charge of plagiarism.  Western University Ontario uses a plagiarism-checking service called [Turnitin](http://turnitin.com/)."
   ]
  },
  {
   "cell_type": "markdown",
   "metadata": {},
   "source": [
    "## Absenteeism"
   ]
  },
  {
   "cell_type": "markdown",
   "metadata": {},
   "source": [
    "Students seeking academic accommodation on medical grounds for any missed tests, exams, participation components and/or assignments must apply to the Academic Counselling office of their home faculty and provide documentation.  Academic accommodation cannot be granted by the instructor or department.\n",
    "\n",
    "- [UWO’s Policy on Accomodation for medical illness](https://studentservices.uwo.ca/secure/index/cfm).\n",
    "- Downloadable [Student Medical Certificate (SMC)](https://studentservices.uwo.ca),  under the Medical Documentation heading. "
   ]
  },
  {
   "cell_type": "markdown",
   "metadata": {},
   "source": [
    "## Accessibility Statement"
   ]
  },
  {
   "cell_type": "markdown",
   "metadata": {},
   "source": [
    "Please contact the course instructor if you require material in an alternate format or if you require any other arrangements to make this course more accessible to you. You may also wish to contact Services for Students with Disabilities (SSD) at 661-2111 x 82147 for any specific question regarding an accommodation"
   ]
  },
  {
   "cell_type": "markdown",
   "metadata": {},
   "source": [
    "## Calendar"
   ]
  },
  {
   "cell_type": "markdown",
   "metadata": {},
   "source": [
    "For the class/reading schedule, assignment deadlines, etc., see the official [course calendar](calendar.ipynb)."
   ]
  }
 ],
 "metadata": {
  "kernelspec": {
   "display_name": "Python 2",
   "language": "python",
   "name": "python2"
  },
  "language_info": {
   "codemirror_mode": {
    "name": "ipython",
    "version": 2
   },
   "file_extension": ".py",
   "mimetype": "text/x-python",
   "name": "python",
   "nbconvert_exporter": "python",
   "pygments_lexer": "ipython2",
   "version": "2.7.6"
  }
 },
 "nbformat": 4,
 "nbformat_minor": 0
}
