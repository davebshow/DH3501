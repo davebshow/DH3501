{
 "metadata": {
  "name": "",
  "signature": "sha256:addbea1343d1d0483177dba0ad1914996336f1c341b78425a9ad03e87ed4724b"
 },
 "nbformat": 3,
 "nbformat_minor": 0,
 "worksheets": [
  {
   "cells": [
    {
     "cell_type": "heading",
     "level": 2,
     "metadata": {},
     "source": [
      "Methodology"
     ]
    },
    {
     "cell_type": "markdown",
     "metadata": {},
     "source": [
      "* Hands on - students write code\n",
      "* Instructor will present micro lecture style material. Basic information interspersed with questons for the students and mini-coding challenges/exercises.\n",
      "* Instructor content/exercises is designed to highlight the important parts of the readings, and guide students through the more difficult concepts.\n",
      "* Each class ends with a team coding challenge that allows students the chance to exercise their problem solving and teamwork skills while broadening their understanding of the Python programming language.\n",
      "* First half of course is just building the basic literacy students need about graph in order to move on to higher level concepts of analysis, instrumentation, and advanced theory.\n",
      "  - Each unit starts with higher level example, thought experiments, etc.\n",
      "  - Moves on to more theoretical/formal material.\n",
      "  - Guides students through several researched articles involving itermediate/advanced graph theory.\n",
      "  - This is the material the students will be tested on...it represents the basic level skills students need to begin to study netwoks.\n",
      "* The second half of the course is designed to expose students to the panaroma of tools used for processing graph data (and large data in general) while building the competency required for the final project. \n",
      "  - Here the focus will be on industry grade software/databases that are accessible to students using their current skill set, or attainable with a relatively small investment of time.\n",
      "  - The instructor will present students with options/introduction to software/tools, and challenge them to work with them hands on, thus building a working knowledge. \n",
      "* Finally, the instructor will introduce the students to more advanced topics in graph theory, that will become the building blocks of future studies.\n",
      "  - These classes will be short lectures, and students will have time to work on their final projects."
     ]
    },
    {
     "cell_type": "code",
     "collapsed": false,
     "input": [],
     "language": "python",
     "metadata": {},
     "outputs": []
    }
   ],
   "metadata": {}
  }
 ]
}