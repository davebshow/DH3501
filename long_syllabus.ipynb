{
 "metadata": {
  "name": "",
  "signature": "sha256:905bda882d9957e83bbd91c54f43bfdfea32df9adbc88cf7653cc285de0644b9"
 },
 "nbformat": 3,
 "nbformat_minor": 0,
 "worksheets": [
  {
   "cells": [
    {
     "cell_type": "markdown",
     "metadata": {},
     "source": [
      "<div align=\"center\">\n",
      "<h1>[Advanced Social Networks](index.ipynb)<br/>*Long Syllabus*</h1>\n",
      "</div>"
     ]
    },
    {
     "cell_type": "markdown",
     "metadata": {},
     "source": [
      "<div align=\"center\">\n",
      "<img src=\"\" width=\"350\">\n",
      "<h4>\n",
      "    Western University<br/>\n",
      "    Department of Modern Languages and Literatures<br/>\n",
      "    Digital Humanities \u2013 DH 3501\n",
      "</h4>\n",
      "</div>"
     ]
    },
    {
     "cell_type": "markdown",
     "metadata": {},
     "source": [
      "**Instructor**: David Brown<br/>\n",
      "**E-mail**: [dbrow52@uwo.ca](mailto:dbrow52@uwo.ca)<br/>\n",
      "**Office**: AHB 1R14<br/>"
     ]
    },
    {
     "cell_type": "heading",
     "level": 2,
     "metadata": {},
     "source": [
      "Description"
     ]
    },
    {
     "cell_type": "heading",
     "level": 2,
     "metadata": {},
     "source": [
      "Justification"
     ]
    },
    {
     "cell_type": "markdown",
     "metadata": {},
     "source": [
      "* Corresponds to course offering in the DH minor\n",
      "  - Has not yet been offered\n",
      "  - Designed to fit with current courses (Python)\n",
      "* Networks are ubiquitous\n",
      "  - Seen in many fields, online, they are part of our lives\n",
      "* One of the primary interests of DH\n",
      "* Hands on - Students are learning **skills and theory**."
     ]
    },
    {
     "cell_type": "heading",
     "level": 2,
     "metadata": {},
     "source": [
      "Teaching Philosophy"
     ]
    },
    {
     "cell_type": "heading",
     "level": 2,
     "metadata": {},
     "source": [
      "Methodology"
     ]
    },
    {
     "cell_type": "markdown",
     "metadata": {},
     "source": [
      "* Hands on - students write code\n",
      "* Instructor will present micro lecture style material. Basic information interspersed with questons for the students and mini-coding challenges/exercises.\n",
      "* Instructor content/exercises is designed to highlight the important parts of the readings, and guide students through the more difficult concepts.\n",
      "* Each class ends with a team coding challenge that allows students the chance to exercise their problem solving and teamwork skills while broadening their understanding of the Python programming language.\n",
      "* First half of course is just building the basic literacy students need about graph in order to move on to higher level concepts of analysis, instrumentation, and advanced theory.\n",
      "  - Each unit starts with higher level example, thought experiments, etc.\n",
      "  - Moves on to more theoretical/formal material.\n",
      "  - Guides students through several researched articles involving itermediate/advanced graph theory.\n",
      "  - This is the material the students will be tested on...it represents the basic level skills students need to begin to study netwoks.\n",
      "* The second half of the course is designed to expose students to the panaroma of tools used for processing graph data (and large data in general) while building the competency required for the final project. \n",
      "  - Here the focus will be on industry grade software/databases that are accessible to students using their current skill set, or attainable with a relatively small investment of time.\n",
      "  - The instructor will present students with options/introduction to software/tools, and challenge them to work with them hands on, thus building a working knowledge. \n",
      "* Finally, the instructor will introduce the students to more advanced topics in graph theory, that will become the building blocks of future studies.\n",
      "  - These classes will be short lectures, and students will have time to work on their final projects."
     ]
    },
    {
     "cell_type": "heading",
     "level": 2,
     "metadata": {},
     "source": [
      "Evaluation"
     ]
    },
    {
     "cell_type": "code",
     "collapsed": false,
     "input": [],
     "language": "python",
     "metadata": {},
     "outputs": []
    }
   ],
   "metadata": {}
  }
 ]
}