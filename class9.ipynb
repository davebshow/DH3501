{
 "cells": [
  {
   "cell_type": "markdown",
   "metadata": {},
   "source": [
    "<div align=\"left\">\n",
    "<h4><a href=\"index.ipynb\">RETURN TO INDEX</a></h4>\n",
    "</div>\n",
    "<div align=\"center\">\n",
    "<h1><a href=\"index.ipynb\">DH3501: Advanced Social Networks</a><br/><br/><em>Class 9</em>: Homophily and Association in Networks</h1>\n",
    "</div>"
   ]
  },
  {
   "cell_type": "markdown",
   "metadata": {},
   "source": [
    "<div style=\"float:left\">\n",
    "<b>Western University</b><br/>\n",
    "<b>Department of Modern Languages and Literatures</b><br/>\n",
    "<b>Digital Humanities – DH 3501</b><br/>\n",
    "<br/>\n",
    "<b>Instructor</b>: David Brown<br/>\n",
    "<b>E-mail</b>: <a href=\"mailto:dbrow52@uwo.ca\">dbrow52@uwo.ca</a><br/>\n",
    "<b>Office</b>: AHB 1R14<br/>\n",
    "</div>\n",
    "<div style=\"float:left\">\n",
    "<img style=\"width:200px; margin-left:100px\" src=\"http://www.bsr.org/images/blog/networks.jpg\" />\n",
    "</div>"
   ]
  },
  {
   "cell_type": "markdown",
   "metadata": {},
   "source": [
    "We have talked about structure and the dynamics of networks, but what about other factors that go beyond nodes and edges? **Contextual factors** often effect the behaviour of members of a social network.\n",
    "\n",
    "**What are some example of contextual factors?**"
   ]
  },
  {
   "cell_type": "markdown",
   "metadata": {},
   "source": [
    "<img style=\"width:400px; float:left;\" src=\"img/birds.jpg\" />"
   ]
  },
  {
   "cell_type": "markdown",
   "metadata": {},
   "source": [
    "## Homophily"
   ]
  },
  {
   "cell_type": "markdown",
   "metadata": {},
   "source": [
    "Greek - **\"the love of the similiar\"**\n",
    "\n",
    "* Intrinsic vs. contextual motivation for link formation.\n",
    "\n",
    "  * While some relationships form as the result of a network processes such as triadic closure, others are driven by other factors...**can you think of any examples**?\n",
    "  \n",
    "What factors do Easley and Klienberg mention in their discussion of Moody's famous 2001 study of American high schools?"
   ]
  },
  {
   "cell_type": "markdown",
   "metadata": {},
   "source": [
    "## Homophily: Underlying mechanisms"
   ]
  },
  {
   "cell_type": "markdown",
   "metadata": {},
   "source": [
    "**Selection**\n",
    "\n",
    "* The tendency for relationships to form amongst people who have similar immutable characteristics.\n",
    "\n",
    "  * Active <--> Implicit\n",
    " \n",
    "* How are mutable characteristics different?\n",
    "\n",
    "* Immutable/mutable charachteristics are also reffered to sometimes as status and value homophily.\n",
    "\n",
    "**Socialization** or **Social Influence**\n",
    "\n",
    "* Behavour modification that aligns an individuales characteristics with those of their relationships.\n",
    "\n",
    "**Do birds of a feather flock together? Or do they conform?** What does the research say?"
   ]
  },
  {
   "cell_type": "markdown",
   "metadata": {},
   "source": [
    "<img style=\"width:300px; float:left;\" src=\"img/sheep.jpg\" />"
   ]
  },
  {
   "cell_type": "markdown",
   "metadata": {},
   "source": [
    "## Affiliation networks"
   ]
  },
  {
   "cell_type": "markdown",
   "metadata": {},
   "source": [
    "Affiliation networks include context **within** the network!\n",
    "\n",
    "* Based on the idea that if someone shares an interest, hobby, or other activity (like a job), that the likelihood of interaction tends to be higher.\n",
    "\n",
    "* Activites serve as a focal point for interaction.\n",
    "\n",
    "* Social and affiliation networks coevolve.\n",
    "\n",
    "* In an affiliation network, there are two distinct kinds of nodes (bipartite, bimodal, two-mode).\n",
    "\n",
    "* Closure (edge formation) on an affiliation network can be viewed as one of various types of processes:\n",
    "\n",
    "  * If A, B, and C each represent a person, then the formation of the link between B and C is triadic closure.\n",
    "  * If B and C represent people, but A represents a focus, then this is something different: it is the tendency of two people to form a link when they have a focus in comon. This is an aspect of the more general principle of selection, forming links to other who share characteristics with you. To emphasize the analogy with triadic closure, this process has been called focal closure.\n",
    "  * If A and B are people, and C is a focus, then we have the formation of a new affiliation: B takes part in a focus that her friend A is already involved int. This is a kind of social influence, in which B's behavior come into closer alignment with that of her friend A. Continuing the analogy with triiadic closure, we will refer to this kind of link formation as membership closure. E & K, 96-97"
   ]
  },
  {
   "cell_type": "markdown",
   "metadata": {},
   "source": [
    "<img style=\"width:500px; float:left;\" src=\"img/assclosure.png\" />"
   ]
  },
  {
   "cell_type": "markdown",
   "metadata": {},
   "source": [
    "In order to analyze an association network, we usually use a graph compression technique called projection.\n",
    "\n",
    "* Projection compresses a multi-mode graph into a single mode graph (usually a social network).\n",
    "\n",
    "* This allows use to use measures like centrality.\n",
    "\n",
    "**Wait a second!** Why can't we use these measures with a multi-partite graph? Even after projection, can you forsee any problems? How do transformations such as projection affect the information contained within the graph?"
   ]
  },
  {
   "cell_type": "markdown",
   "metadata": {},
   "source": [
    "## Bipartite network analysis - projection"
   ]
  },
  {
   "cell_type": "markdown",
   "metadata": {},
   "source": [
    "Hmmm...it would be nice to be able to make projections in Python...**you can!!!**\n",
    "\n",
    "* NetworkX has [bipartite projection algorithms](https://networkx.github.io/documentation/latest/reference/algorithms.bipartite.html?highlight=bipartite#module-networkx.algorithms.bipartite)"
   ]
  },
  {
   "cell_type": "code",
   "execution_count": 2,
   "metadata": {
    "collapsed": false
   },
   "outputs": [],
   "source": [
    "%matplotlib inline\n",
    "import networkx as nx\n",
    "from networkx.algorithms import bipartite"
   ]
  },
  {
   "cell_type": "code",
   "execution_count": 3,
   "metadata": {
    "collapsed": false
   },
   "outputs": [],
   "source": [
    "B = nx.Graph()\n",
    "B.add_nodes_from([1,2,3,4], bipartite=0)  # Add the node attribute \"bipartite\"\n",
    "B.add_nodes_from(['a','b','c'], bipartite=1)\n",
    "B.add_edges_from([(1,'a'), (1,'b'), (2,'b'), (2,'c'), (3,'c'), (4,'a')])"
   ]
  },
  {
   "cell_type": "code",
   "execution_count": 4,
   "metadata": {
    "collapsed": false
   },
   "outputs": [
    {
     "name": "stdout",
     "output_type": "stream",
     "text": [
      "(set(['a', 'c', 'b']), set([1, 2, 3, 4]))\n"
     ]
    }
   ],
   "source": [
    "bottom_nodes, top_nodes = bipartite.sets(B)\n",
    "print(bottom_nodes, top_nodes)"
   ]
  },
  {
   "cell_type": "code",
   "execution_count": 5,
   "metadata": {
    "collapsed": false
   },
   "outputs": [
    {
     "data": {
      "image/png": "[encoded data removed]",
      "text/plain": [
       "<matplotlib.figure.Figure at 0x7f99e8af6550>"
      ]
     },
     "metadata": {},
     "output_type": "display_data"
    }
   ],
   "source": [
    "proj = bipartite.collaboration_weighted_projected_graph(B, top_nodes)\n",
    "nx.draw_networkx(proj)"
   ]
  },
  {
   "cell_type": "code",
   "execution_count": 6,
   "metadata": {
    "collapsed": false
   },
   "outputs": [
    {
     "data": {
      "text/plain": [
       "[(1, 2, {'weight': 1.0}), (1, 4, {'weight': 1.0}), (2, 3, {'weight': 1.0})]"
      ]
     },
     "execution_count": 6,
     "metadata": {},
     "output_type": "execute_result"
    }
   ],
   "source": [
    "proj.edges(data=True)"
   ]
  },
  {
   "cell_type": "markdown",
   "metadata": {},
   "source": [
    "Pretty **cool** huh? But there is a **catch**...anyone got it?\n",
    "\n",
    "...enter **projx**"
   ]
  },
  {
   "cell_type": "markdown",
   "metadata": {},
   "source": [
    "## [projx](http://davebshow.github.io/projx/)"
   ]
  },
  {
   "cell_type": "markdown",
   "metadata": {},
   "source": [
    "**projx** provides (amongst other things) a DSL for that allows the user to perform transformations on NetworkX graphs...\n",
    "\n",
    "Let's check out an **example**: [<h3>class continues with this example</h3>](http://nbviewer.ipython.org/github/davebshow/projx/blob/master/projx_demo.ipynb)"
   ]
  },
  {
   "cell_type": "markdown",
   "metadata": {},
   "source": [
    "## Coding challenge: Modelling Harry Potter House affiliation"
   ]
  },
  {
   "cell_type": "markdown",
   "metadata": {},
   "source": [
    "<img style=\"width:300px; float:left;\" src=\"img/potter.jpg\" />"
   ]
  },
  {
   "cell_type": "markdown",
   "metadata": {},
   "source": [
    "This is an intense coding challenge, so we will have a bit of extra time:\n",
    "\n",
    "* Get a list of **Harry Potter characters by house** from [this list](http://en.wikibooks.org/wiki/Muggles%27_Guide_to_Harry_Potter/Characters).\n",
    "\n",
    "* Then, generate an bipartite affiliation network where every character is connected to their house.\n",
    "\n",
    "* Use **projx** to transfer the name of the house to each character as a property, then project a social network of Harry Potter characters.\n",
    "\n",
    "* Finally, try to get a nice little visualization here in the notebook."
   ]
  },
  {
   "cell_type": "code",
   "execution_count": 7,
   "metadata": {
    "collapsed": false
   },
   "outputs": [],
   "source": [
    "# Your code goes here..."
   ]
  }
 ],
 "metadata": {
  "kernelspec": {
   "display_name": "Python 2",
   "language": "python",
   "name": "python2"
  },
  "language_info": {
   "codemirror_mode": {
    "name": "ipython",
    "version": 2
   },
   "file_extension": ".py",
   "mimetype": "text/x-python",
   "name": "python",
   "nbconvert_exporter": "python",
   "pygments_lexer": "ipython2",
   "version": "2.7.6"
  }
 },
 "nbformat": 4,
 "nbformat_minor": 0
}
