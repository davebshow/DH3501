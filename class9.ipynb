{
 "metadata": {
  "name": "",
  "signature": "sha256:d1f668d124cfbafaa2ab9b6c4154124b45eeb3e7a593d5aba5674ea2e50d79fc"
 },
 "nbformat": 3,
 "nbformat_minor": 0,
 "worksheets": [
  {
   "cells": [
    {
     "cell_type": "markdown",
     "metadata": {},
     "source": [
      "<div align=\"center\">\n",
      "<h1>[DH3501: Advanced Social Networks](index.ipynb)<br/><br/>*Class 9*: Homophily and Association in Networks</h1>\n",
      "</div>"
     ]
    },
    {
     "cell_type": "markdown",
     "metadata": {},
     "source": [
      "<div style=\"float:left\">\n",
      "**Western University**<br/>\n",
      "**Department of Modern Languages and Literatures**<br/>\n",
      "**Digital Humanities \u2013 DH 3501**<br/>\n",
      "<br/>\n",
      "**Instructor**: David Brown<br/>\n",
      "**E-mail**: [dbrow52@uwo.ca](mailto:dbrow52@uwo.ca)<br/>\n",
      "**Office**: AHB 1R14<br/>\n",
      "</div>\n",
      "<div style=\"float:left\">\n",
      "<img style=\"width:200px; margin-left:100px\" src=\"http://www.bsr.org/images/blog/networks.jpg\" />\n",
      "</div>"
     ]
    },
    {
     "cell_type": "markdown",
     "metadata": {},
     "source": [
      "We have talked about structure and the dynamics of networks, but what about other factors that go beyond nodes and edges? **Contextual factors** often effect the behaviour of members of a social network.\n",
      "\n",
      "**What are some example of contextual factors?**"
     ]
    },
    {
     "cell_type": "markdown",
     "metadata": {},
     "source": [
      "<img style=\"width:400px; float:left;\" src=\"img/birds.jpg\" />"
     ]
    },
    {
     "cell_type": "heading",
     "level": 2,
     "metadata": {},
     "source": [
      "Homophily"
     ]
    },
    {
     "cell_type": "markdown",
     "metadata": {},
     "source": [
      "Greek - **\"the love of the similiar\"**\n",
      "\n",
      "* Intrinsic vs. contextual motivation for link formation.\n",
      "\n",
      "  * While some relationships form as the result of a network processes such as triadic closure, others are driven by other factors...**can you think of any examples**?\n",
      "  \n",
      "What factors do Easley and Klienberg mention in their discussion of Moody's famous 2001 study of American high schools?"
     ]
    },
    {
     "cell_type": "heading",
     "level": 2,
     "metadata": {},
     "source": [
      "Homophily: Underlying mechanisms"
     ]
    },
    {
     "cell_type": "markdown",
     "metadata": {},
     "source": [
      "**Selection**\n",
      "\n",
      "* The tendency for relationships to form amongst people who have similar immutable characteristics.\n",
      "\n",
      "  * Active <--> Implicit\n",
      " \n",
      "    \n",
      "* How are mutable characteristics different?\n",
      "\n",
      "\n",
      "* Immutable/mutable charachteristics are also reffered to sometimes as status and value homophily.\n",
      "\n",
      "**Socialization** or **Social Influence**\n",
      "\n",
      "* Behavour modification that aligns an individuales characteristics with those of their relationships.\n",
      "\n",
      "**Do birds of a feather flock together? Or do they conform?** What does the research say?"
     ]
    },
    {
     "cell_type": "markdown",
     "metadata": {},
     "source": [
      "<img style=\"width:300px; float:left;\" src=\"img/sheep.jpg\" />"
     ]
    },
    {
     "cell_type": "heading",
     "level": 2,
     "metadata": {},
     "source": [
      "Affiliation networks"
     ]
    },
    {
     "cell_type": "heading",
     "level": 2,
     "metadata": {},
     "source": [
      "Bipartite network analysis - projection"
     ]
    },
    {
     "cell_type": "markdown",
     "metadata": {},
     "source": [
      "Hmmm...it would be nice to be able to make projections in Python...**you can!!!**\n",
      "\n",
      "* NetworkX has [bipartite projection algorithms](https://networkx.github.io/documentation/latest/reference/algorithms.bipartite.html?highlight=bipartite#module-networkx.algorithms.bipartite)"
     ]
    },
    {
     "cell_type": "code",
     "collapsed": false,
     "input": [
      "%matplotlib inline\n",
      "import networkx as nx\n",
      "from networkx.algorithms import bipartite"
     ],
     "language": "python",
     "metadata": {},
     "outputs": [],
     "prompt_number": 11
    },
    {
     "cell_type": "code",
     "collapsed": false,
     "input": [
      "B = nx.Graph()\n",
      "B.add_nodes_from([1,2,3,4], bipartite=0)  # Add the node attribute \"bipartite\"\n",
      "B.add_nodes_from(['a','b','c'], bipartite=1)\n",
      "B.add_edges_from([(1,'a'), (1,'b'), (2,'b'), (2,'c'), (3,'c'), (4,'a')])"
     ],
     "language": "python",
     "metadata": {},
     "outputs": [],
     "prompt_number": 12
    },
    {
     "cell_type": "code",
     "collapsed": false,
     "input": [
      "bottom_nodes, top_nodes = bipartite.sets(B)\n",
      "print(bottom_nodes, top_nodes)"
     ],
     "language": "python",
     "metadata": {},
     "outputs": [
      {
       "output_type": "stream",
       "stream": "stdout",
       "text": [
        "(set(['a', 'c', 'b']), set([1, 2, 3, 4]))\n"
       ]
      }
     ],
     "prompt_number": 13
    },
    {
     "cell_type": "code",
     "collapsed": false,
     "input": [
      "proj = bipartite.collaboration_weighted_projected_graph(B, top_nodes)\n",
      "nx.draw_networkx(proj)"
     ],
     "language": "python",
     "metadata": {},
     "outputs": [
      {
       "metadata": {},
       "output_type": "display_data",
       "png": "[encoded data removed]",
       "text": [
        "<matplotlib.figure.Figure at 0x7fd1c03fa0d0>"
       ]
      }
     ],
     "prompt_number": 15
    },
    {
     "cell_type": "code",
     "collapsed": false,
     "input": [
      "proj.edges(data=True)"
     ],
     "language": "python",
     "metadata": {},
     "outputs": [
      {
       "metadata": {},
       "output_type": "pyout",
       "prompt_number": 16,
       "text": [
        "[(1, 2, {'weight': 1.0}), (1, 4, {'weight': 1.0}), (2, 3, {'weight': 1.0})]"
       ]
      }
     ],
     "prompt_number": 16
    },
    {
     "cell_type": "markdown",
     "metadata": {},
     "source": [
      "Pretty **cool** huh? But there is a **catch**...anyone got it?\n",
      "\n",
      "...enter **projx**"
     ]
    },
    {
     "cell_type": "heading",
     "level": 2,
     "metadata": {},
     "source": [
      "[projx](http://davebshow.github.io/projx/)"
     ]
    },
    {
     "cell_type": "markdown",
     "metadata": {},
     "source": [
      "**projx** provides (amongst other things) a DSL for that allows the user to perform transformations on NetworkX graphs...\n",
      "\n",
      "Let's check out an **example**: [<h3>class continues with this example</h3>](http://nbviewer.ipython.org/github/davebshow/projx/blob/master/projx_demo.ipynb)"
     ]
    },
    {
     "cell_type": "heading",
     "level": 2,
     "metadata": {},
     "source": [
      "Coding challenge: Modelling Harry Potter House affiliation"
     ]
    },
    {
     "cell_type": "markdown",
     "metadata": {},
     "source": [
      "<img style=\"width:300px; float:left;\" src=\"img/potter.jpg\" />"
     ]
    },
    {
     "cell_type": "markdown",
     "metadata": {},
     "source": [
      "This is an intense coding challenge, so we will have a bit of extra time:\n",
      "\n",
      "* Get a list of **Harry Potter characters by house** from [this list](http://en.wikibooks.org/wiki/Muggles%27_Guide_to_Harry_Potter/Characters).\n",
      "\n",
      "* Then, generate an bipartite affiliation network where every character is connected to their house.\n",
      "\n",
      "* Use **projx** to transfer the name of the house to each character as a property, then project a social network of Harry Potter characters.\n",
      "\n",
      "* Finally, try to get a nice little visualization here in the notebook."
     ]
    },
    {
     "cell_type": "code",
     "collapsed": false,
     "input": [
      "# Your code goes here..."
     ],
     "language": "python",
     "metadata": {},
     "outputs": []
    }
   ],
   "metadata": {}
  }
 ]
}