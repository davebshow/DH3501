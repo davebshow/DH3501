{
 "metadata": {
  "name": "",
  "signature": "sha256:a4b37e79dbdc8c9d1372578311c13d077e05a1d3d65d485612440acac525b80a"
 },
 "nbformat": 3,
 "nbformat_minor": 0,
 "worksheets": [
  {
   "cells": [
    {
     "cell_type": "markdown",
     "metadata": {},
     "source": [
      "<div align=\"center\">\n",
      "<h1>[DH3501: Advanced Social Networks](index.ipynb)<br/><br/>*Class 6*: Formal Definitions and the Jackson Text</h1>\n",
      "</div>"
     ]
    },
    {
     "cell_type": "markdown",
     "metadata": {},
     "source": [
      "**Instructor**: David M. Brown<br/>\n",
      "**E-mail**: [dbrow52@uwo.ca](mailto:dbrow52@uwo.ca)<br/>\n",
      "**Office**: AHB 1R14<br/>"
     ]
    },
    {
     "cell_type": "heading",
     "level": 2,
     "metadata": {},
     "source": [
      "So, what do you think of the Jackson text?"
     ]
    },
    {
     "cell_type": "markdown",
     "metadata": {},
     "source": [
      "* The Jackson text may seem a bit **mathy** or **formal**...but if you are going to study networks, you have to get used to a bit of **math**.  \n",
      "\n",
      "* The most important thing is to **take your time** and  **remain calm** when you read it:  \n",
      "\n",
      "<img style=\"float:left; height:300px;\" src=\"img/calm_math.png\" />"
     ]
    },
    {
     "cell_type": "heading",
     "level": 2,
     "metadata": {},
     "source": [
      "Formal representation of networks"
     ]
    },
    {
     "cell_type": "markdown",
     "metadata": {},
     "source": [
      "Graph theory uses a variety of symbols, including [set-builder notation](http://en.wikipedia.org/wiki/Set-builder_notation):\n",
      "\n",
      "* $\\{i | i \\in g\\}$\n",
      "\n",
      "Set of all i such that i is an element in g...  \n",
      "\n",
      "* A [set](http://en.wikipedia.org/wiki/Set_%28mathematics%29) is an unordered collection of unique elements.\n",
      "* Python implements a set data structure.\n",
      "\n",
      "** How is a set different from a Python list???**"
     ]
    },
    {
     "cell_type": "code",
     "collapsed": false,
     "input": [
      "set([1,2,3,4])"
     ],
     "language": "python",
     "metadata": {},
     "outputs": [
      {
       "metadata": {},
       "output_type": "pyout",
       "prompt_number": 7,
       "text": [
        "{1, 2, 3, 4}"
       ]
      }
     ],
     "prompt_number": 7
    },
    {
     "cell_type": "heading",
     "level": 2,
     "metadata": {},
     "source": [
      "Some common symbols we will see in this class:"
     ]
    },
    {
     "cell_type": "markdown",
     "metadata": {},
     "source": [
      "Set:\n",
      "\n",
      "* $\\{1,...,n\\}$\n",
      "\n",
      "Matrix:\n",
      "\n",
      "* $g = \\begin{bmatrix}0 & 1\\\\1 & 0\\end{bmatrix}$\n",
      "\n",
      "Membership:\n",
      "\n",
      "* $ij \\in g$\n",
      "\n",
      "Owns, has member:\n",
      "\n",
      "* $g \\ni ij$\n",
      "\n",
      "Set such that:\n",
      "\n",
      "* $\\{x | x \\in \\mathbb{R} \\}$\n",
      "* **or**\n",
      "* $\\{x : x \\in \\mathbb{R} \\}$\n",
      "\n",
      "Subset, subset or equal set:\n",
      "\n",
      "* $g' \\subset g$\n",
      "* $g' \\subseteq g$\n",
      "\n",
      "Superset, superset or equal set:\n",
      "\n",
      "* $g \\supset g'$\n",
      "* $g \\supseteq g'$\n",
      "\n",
      "Union:\n",
      "\n",
      "* $a \\cup b$\n",
      "\n",
      "Intersect:\n",
      "\n",
      "* $a \\cap b$\n",
      "  \n",
      "**Anyone remember what the difference between a set union and a set intersect is?**"
     ]
    },
    {
     "cell_type": "heading",
     "level": 2,
     "metadata": {},
     "source": [
      "Summation"
     ]
    },
    {
     "cell_type": "markdown",
     "metadata": {},
     "source": [
      "**Stats class anyone?** \n",
      "\n",
      "$\\sum\\limits_{i=1}^ni=1 + 2 + 3 + \\dots + n$\n",
      "\n",
      "* [Summation](http://en.wikipedia.org/wiki/Summation) is the operation of adding a sequence of numbers."
     ]
    },
    {
     "cell_type": "heading",
     "level": 2,
     "metadata": {},
     "source": [
      "Coding challenge: Translation to Python"
     ]
    },
    {
     "cell_type": "markdown",
     "metadata": {},
     "source": [
      "All of the above statements can be expressed in Python. **Translate** them!\n",
      "\n",
      "For example:\n",
      "\n",
      "```python\n",
      "# 1\n",
      "N = set(range(1, 11))\n",
      "```\n",
      "\n",
      "Translate the following:\n",
      "\n",
      "1. N = $\\{1,\\dots,10\\}$\n",
      "2. $5 \\in N$\n",
      "3. $\\{4 | 4 \\in N \\}$\n",
      "4. $\\{1, 3, 4\\} \\subset N$\n",
      "5. $a = \\{1, 2, 3\\}$\n",
      "6. $b = \\{3, 4, 5\\}$\n",
      "7. $a \\cap b$\n",
      "8. $a \\cup b$\n",
      " \n",
      "**Hint:** Ever looked at the Python docs for [set](https://docs.python.org/2/library/sets.html)?"
     ]
    },
    {
     "cell_type": "code",
     "collapsed": false,
     "input": [
      "# Translate here. Add as many new cells as you like."
     ],
     "language": "python",
     "metadata": {},
     "outputs": [],
     "prompt_number": 11
    },
    {
     "cell_type": "heading",
     "level": 3,
     "metadata": {},
     "source": [
      "Everyone knows how to do a summation in Python right?"
     ]
    },
    {
     "cell_type": "code",
     "collapsed": false,
     "input": [
      "sum(range(5))"
     ],
     "language": "python",
     "metadata": {},
     "outputs": [
      {
       "metadata": {},
       "output_type": "pyout",
       "prompt_number": 9,
       "text": [
        "10"
       ]
      }
     ],
     "prompt_number": 9
    },
    {
     "cell_type": "markdown",
     "metadata": {},
     "source": [
      "**What if we need to apply an operation to each element in the summation first?**\n",
      "    \n",
      "$\\sum\\limits_{i=1}^ni^2=1^2 + 2^2 + 3^2 + \\dots + n^2$\n",
      "\n",
      "Implement a one liner in Python that performs the above summation with n = 4."
     ]
    },
    {
     "cell_type": "code",
     "collapsed": false,
     "input": [
      "# One liner here :)\n",
      "sum(map(lambda x: x * x, range(5)))"
     ],
     "language": "python",
     "metadata": {},
     "outputs": [
      {
       "metadata": {},
       "output_type": "pyout",
       "prompt_number": 13,
       "text": [
        "30"
       ]
      }
     ],
     "prompt_number": 13
    },
    {
     "cell_type": "heading",
     "level": 2,
     "metadata": {},
     "source": [
      "Ok down to business: Formal representations of graphs a la Jackson"
     ]
    },
    {
     "cell_type": "markdown",
     "metadata": {},
     "source": [
      "**pp. 41-44**\n",
      "\n",
      "Jackson defines a graph as a set $N = \\{1,...,n\\}$ of n nodes involved in a network of relationships defined as a real valued $n x n$ matrix $g$, where $g_{ij}$ represents the relation between $i$ and $j$.\n",
      "\n",
      "* $graph = (N,g)$\n",
      "\n",
      "\n",
      "* $N = \\{1, 2, 3\\}$\n",
      "\n",
      "\n",
      "* $g = \\begin{bmatrix}0 & 1 & 0\\\\1 & 0 & 1\\\\0 & 1 & 0\\end{bmatrix}$\n",
      "\n",
      "A network is **directed** if if it is possible that:\n",
      "\n",
      "* $g_{ij} \\ne g_{ji}$ \n",
      "\n",
      "Edges can also be represented as a **set of tuples**:\n",
      "    \n",
      "* $g = \\{(1,2), (2,3)\\}$\n",
      "\n",
      "A **subset** of edges:\n",
      "\n",
      "* $g' \\subset g = \\{ij | ij \\in g' \\} \\subset \\{ij | ij \\in g\\}$\n",
      "\n",
      "The network created by deleting all edges except those that are between nodes in the set $S$ where $S \\subset N$:\n",
      " \n",
      "\n",
      "* $[g|s]_{ij} = \\begin{cases} 1\\ \\text{if}\\ i \\in S, j \\in S, g_{ij} = 1,\\ \\text{and}\\ \\\\ 0  \\end{cases}$\n",
      "\n",
      "The set of **all undirected and unweighted networks** on $N$:\n",
      "\n",
      "* $G(N)$\n",
      "\n",
      "The **set of nodes** that have **at least one link** in the network $g$:\n",
      "\n",
      "* $N(g) = \\{i|\\exists j,\\ ij \\in g,\\ \\text{or}\\ ji \\in g\\}$\n",
      "\n",
      "**Can you translate that to set builder speak?**"
     ]
    },
    {
     "cell_type": "heading",
     "level": 2,
     "metadata": {},
     "source": [
      "Isomorphism"
     ]
    },
    {
     "cell_type": "markdown",
     "metadata": {},
     "source": [
      "[Isomorphism](http://en.wikipedia.org/wiki/Graph_isomorphism) is a mapping (bijection) that preserves edge structure.\n",
      "\n",
      "Jackson p. 43 one line at a time:\n",
      "\n",
      "* $(N, g)$ and $(N', g')$ are isomorphic if there exists a bijection \n",
      "\n",
      "* $f : N \\to N'$  such that \n",
      "\n",
      "* $ij \\in g$  if and only if \n",
      "\n",
      "* $f(i)f(j) \\in g'$"
     ]
    },
    {
     "cell_type": "heading",
     "level": 2,
     "metadata": {},
     "source": [
      "Paths and Cycles"
     ]
    },
    {
     "cell_type": "markdown",
     "metadata": {},
     "source": [
      "**Page 44-45**\n",
      "\n",
      "Definitions:\n",
      "\n",
      "* A walk is a sequence of links connecting a sequence of nodes.\n",
      "\n",
      "* A cycle is a walk that starts and ends at the same node, with all nodes appearing once except the starting node which also appears as the ending node.\n",
      "\n",
      "* A path is a walk where a node appears at most once in the sequence.\n",
      "\n",
      "* A geodesic between two nodes is a shortest path between them.\n",
      "\n",
      "**Formally...**\n",
      "\n",
      "\n",
      "A **path** in a network  $g \\in G(N)$ betgween nodes $i$ and $j$ is a sequence of links\n",
      "\n",
      "* $i_1,i_2,\\dots,i_{K-1},i_K$ such that \n",
      "\n",
      "* $i_kI_{k+1} \\in g$ for each\n",
      "\n",
      "* $k \\in \\{1,\\dots,K-1\\}$, with \n",
      "\n",
      "* $i_1 = i$ and $i_K = j$, and such that each node in the sequence\n",
      "\n",
      "* $i_1,\\dots,i_K$ is distinct.\n",
      "\n",
      "\n",
      "\n",
      "A **walk** in a network  $g \\in G(N)$ betgween nodes $i$ and $j$ is a sequence of links\n",
      "\n",
      "* $i_1,i_2,\\dots,i_{K-1},i_K$ such that \n",
      "\n",
      "* $i_kI_{k+1} \\in g$ for each\n",
      "\n",
      "* $k \\in \\{1,\\dots,K-1\\}$, with \n",
      "\n",
      "* $i_1 = i$ and $i_K = j$\n",
      "\n",
      "**WAIT! WHAT'S THE DIFFERENCE BETWEEN A PATH AND A WALK AGAIN?**"
     ]
    },
    {
     "cell_type": "heading",
     "level": 2,
     "metadata": {},
     "source": [
      "Clustering...don't worry well talk about clustering next class."
     ]
    },
    {
     "cell_type": "heading",
     "level": 2,
     "metadata": {},
     "source": [
      "Components and connectivity"
     ]
    },
    {
     "cell_type": "heading",
     "level": 2,
     "metadata": {},
     "source": [
      "Neighbors and degree"
     ]
    },
    {
     "cell_type": "code",
     "collapsed": false,
     "input": [],
     "language": "python",
     "metadata": {},
     "outputs": []
    },
    {
     "cell_type": "heading",
     "level": 2,
     "metadata": {},
     "source": [
      "Degree Distribution"
     ]
    },
    {
     "cell_type": "markdown",
     "metadata": {},
     "source": []
    },
    {
     "cell_type": "heading",
     "level": 2,
     "metadata": {},
     "source": [
      "Other measures of centrality"
     ]
    },
    {
     "cell_type": "code",
     "collapsed": false,
     "input": [],
     "language": "python",
     "metadata": {},
     "outputs": []
    },
    {
     "cell_type": "heading",
     "level": 2,
     "metadata": {},
     "source": [
      "Coding challenge: Plotting degree distribution"
     ]
    },
    {
     "cell_type": "code",
     "collapsed": false,
     "input": [],
     "language": "python",
     "metadata": {},
     "outputs": []
    }
   ],
   "metadata": {}
  }
 ]
}