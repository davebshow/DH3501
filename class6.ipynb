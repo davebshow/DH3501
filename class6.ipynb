{
 "metadata": {
  "name": "",
  "signature": "sha256:38d04d887e0d3c4bd3ffdb0c0172e65ab46d10b13662c4cfdde9c8f236f0aecf"
 },
 "nbformat": 3,
 "nbformat_minor": 0,
 "worksheets": [
  {
   "cells": [
    {
     "cell_type": "markdown",
     "metadata": {},
     "source": [
      "<div align=\"center\">\n",
      "<h1>[DH3501: Advanced Social Networks](index.ipynb)<br/><br/>*Class 6*: Formal Definitions and the Jackson Text</h1>\n",
      "</div>"
     ]
    },
    {
     "cell_type": "markdown",
     "metadata": {},
     "source": [
      "**Instructor**: David M. Brown<br/>\n",
      "**E-mail**: [dbrow52@uwo.ca](mailto:dbrow52@uwo.ca)<br/>\n",
      "**Office**: AHB 1R14<br/>"
     ]
    },
    {
     "cell_type": "heading",
     "level": 2,
     "metadata": {},
     "source": [
      "So, what do you think of the Jackson text?"
     ]
    },
    {
     "cell_type": "markdown",
     "metadata": {},
     "source": [
      "* The Jackson text may seem a bit **mathy** or **formal**...but if you are going to study networks, you have to get used to a bit of **math**.  \n",
      "\n",
      "* The most important thing is to **take your time** and  **remain calm** when you read it:  \n",
      "\n",
      "<img style=\"float:left; height:300px;\" src=\"img/calm_math.png\" />"
     ]
    },
    {
     "cell_type": "heading",
     "level": 2,
     "metadata": {},
     "source": [
      "Formal representation of networks"
     ]
    },
    {
     "cell_type": "markdown",
     "metadata": {},
     "source": [
      "* Graph theory uses a variety of symbols, including [set-builder notation](http://en.wikipedia.org/wiki/Set-builder_notation):\n",
      "  - $\\{i | i \\in g\\}$\n",
      "  - Set of all i such that i is an element in g...  \n",
      "* A [set](http://en.wikipedia.org/wiki/Set_%28mathematics%29) is an unordered collection of unique elements.\n",
      "* Python implements a set data structure.\n",
      "\n",
      "** How is a set different from a Python list???**"
     ]
    },
    {
     "cell_type": "code",
     "collapsed": false,
     "input": [
      "set([1,2,3,4])"
     ],
     "language": "python",
     "metadata": {},
     "outputs": [
      {
       "metadata": {},
       "output_type": "pyout",
       "prompt_number": 2,
       "text": [
        "{1, 2, 3, 4}"
       ]
      }
     ],
     "prompt_number": 2
    },
    {
     "cell_type": "heading",
     "level": 2,
     "metadata": {},
     "source": [
      "Some common symbols we will see in this class:"
     ]
    },
    {
     "cell_type": "markdown",
     "metadata": {},
     "source": [
      "* Set:\n",
      "  - $\\{1,...,n\\}$\n",
      "* Matrix:\n",
      "  - $g = \\begin{bmatrix}0 & 1\\\\1 & 0\\end{bmatrix}$\n",
      "* Membership:\n",
      "  - $ij \\in g$\n",
      "* Owns, has member:\n",
      "  - $g \\ni ij$\n",
      "* Set such that:\n",
      "  - $\\{x | x \\in \\mathbb{R} \\}$\n",
      "  - **or**\n",
      "  - $\\{x : x \\in \\mathbb{R} \\}$\n",
      "* Subset, subset or equal set:\n",
      "  - $g' \\subset g$\n",
      "  - $g' \\subseteq g$\n",
      "* Superset, superset or equal set:\n",
      "  - $g \\supset g'$\n",
      "  - $g \\supseteq g'$\n",
      "* Union\n",
      "  - $a \\cup b$\n",
      "* Intersect\n",
      "  - $a \\cap b$\n",
      "  \n",
      "**Anyone remember what the difference between a set union and a set intersect is?**"
     ]
    },
    {
     "cell_type": "heading",
     "level": 2,
     "metadata": {},
     "source": [
      "Summation"
     ]
    },
    {
     "cell_type": "markdown",
     "metadata": {},
     "source": [
      "**Stats class anyone?** \n",
      "\n",
      "$\\sum\\limits_{i=1}^ni=1 + 2 + 3 + \\dots + n$\n",
      "\n",
      "* [Summation](http://en.wikipedia.org/wiki/Summation) is the operation of adding a sequence of numbers."
     ]
    },
    {
     "cell_type": "code",
     "collapsed": false,
     "input": [],
     "language": "python",
     "metadata": {},
     "outputs": []
    }
   ],
   "metadata": {}
  }
 ]
}