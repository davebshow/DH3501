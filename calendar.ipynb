{
 "metadata": {
  "name": "",
  "signature": "sha256:6e335edde11e510cb01d0b60c6c242f618950f9d5956afc25e9777ac2b7a0d89"
 },
 "nbformat": 3,
 "nbformat_minor": 0,
 "worksheets": [
  {
   "cells": [
    {
     "cell_type": "markdown",
     "metadata": {},
     "source": [
      "<div align=\"left\">\n",
      "<h4><a href=\"index.ipynb\">RETURN TO INDEX</a></h4>\n",
      "</div>\n",
      "<div align=\"center\">\n",
      "<h1><a href=\"index.ipynb\">DH3501: Advanced Social Networks</a><br/><br/><em>Calendar</em></h1>\n",
      "</div>"
     ]
    },
    {
     "cell_type": "markdown",
     "metadata": {},
     "source": [
      "<div style=\"float:left\">\n",
      "<b>Western University</b><br/>\n",
      "<b>Department of Modern Languages and Literatures</b><br/>\n",
      "<b>Digital Humanities \u2013 DH 3501</b><br/>\n",
      "<br/>\n",
      "<b>Instructor</b>: David Brown<br/>\n",
      "<b>E-mail</b>: <a href=\"mailto:dbrow52@uwo.ca\">dbrow52@uwo.ca</a><br/>\n",
      "<b>Office</b>: AHB 1R14<br/>\n",
      "</div>\n",
      "<div style=\"float:left\">\n",
      "<img style=\"width:200px; margin-left:100px\" src=\"http://www.bsr.org/images/blog/networks.jpg\" />\n",
      "</div>"
     ]
    },
    {
     "cell_type": "markdown",
     "metadata": {},
     "source": [
      "**Reading abreviations:**\n",
      "    \n",
      "* **EK** - Easley, D., & Kleinberg, J. (2010). *Networks, crowds, and markets.* Cambridge University.\n",
      "* **TK** - Tsvetovat, M., & Kouznetsov, A. (2011). *Social network analysis for startups: Finding connections on the social web.* O'Reilly Media, Inc.\n",
      "* **J** - Jackson, M. O. (2010). *Social and economic networks.* Princeton University Press.\n",
      "* **RWE** - Robinson, I., Webber, J., & Eifrem, E. (2013). *Graph databases.* O'Reilly Media, Inc."
     ]
    },
    {
     "cell_type": "heading",
     "level": 3,
     "metadata": {},
     "source": [
      "Unit 1: A networked world"
     ]
    },
    {
     "cell_type": "markdown",
     "metadata": {},
     "source": [
      "* Class 01\n",
      " * Topics:\n",
      "   - **Syllabus**"
     ]
    },
    {
     "cell_type": "markdown",
     "metadata": {},
     "source": [
      "* Class 02\n",
      " * Topics:\n",
      "   - Intro. to networks.\n",
      "   - The computing environment: IPython Notebook and Beyond.\n",
      " * Readings:\n",
      "   - **TK: 1**\n",
      "   - **EK: 1**"
     ]
    },
    {
     "cell_type": "markdown",
     "metadata": {},
     "source": [
      "* Class 03\n",
      " * Topics:\n",
      "   - Why study networks?\n",
      "   - Barabasi and the New Science of Networks\n",
      "   - History of Network Studies\n",
      "   - Network studies in the real world.\n",
      " * Readings:\n",
      "   - **J: 1, pp:17 - 31**\n",
      "   - Video: **Albert-L\u00e1szl\u00f3 Barab\u00e1si** https://www.youtube.com/watch?v=ni_A2bAkUww "
     ]
    },
    {
     "cell_type": "heading",
     "level": 3,
     "metadata": {},
     "source": [
      "Unit 2: Graph Theory and Social Network Analysis (5 classes)"
     ]
    },
    {
     "cell_type": "heading",
     "level": 4,
     "metadata": {},
     "source": [
      "Introduction to graph theory, centrality, and graph measures:"
     ]
    },
    {
     "cell_type": "markdown",
     "metadata": {},
     "source": [
      "* **Readings: TK: 2, EK: 2, TK: 3 , J: 2**"
     ]
    },
    {
     "cell_type": "markdown",
     "metadata": {},
     "source": [
      "* [Class 04](class4.ipynb)\n",
      " * Topics:\n",
      "   - Basic definitions\n",
      "   - Data formats\n",
      "   - NetworkX\n",
      "   - Paths/traversals\n",
      " * Readings:\n",
      "   - **TK 2**\n",
      "   - **EK: 2**"
     ]
    },
    {
     "cell_type": "markdown",
     "metadata": {},
     "source": [
      "* [Class 05](class5.ipynb)\n",
      " * Topics:\n",
      "   - Review of the NetworkX API.\n",
      "   - Introduction to centrality measures.\n",
      "   - Intepreting centrality.\n",
      " * Readings:\n",
      "   - **TK: 3**\n",
      "   - [NetworkX docs](http://networkx.github.io/documentation/networkx-1.9.1/)"
     ]
    },
    {
     "cell_type": "markdown",
     "metadata": {},
     "source": [
      "* [Class 06](class6.ipynb)\n",
      " * Topics:\n",
      "   - Formal definitions of graph theory concepts and network statistics.\n",
      "   - How to approach the Jackson text:\n",
      "     - A guide to set symbols and set builder notation.\n",
      "     - Statistics and beyond...\n",
      "     - Centrality in detail\n",
      " * Readings:\n",
      "   - **J: 2**"
     ]
    },
    {
     "cell_type": "heading",
     "level": 4,
     "metadata": {},
     "source": [
      "Cliques, community, and introduction to structure and dynamics (Design 2):"
     ]
    },
    {
     "cell_type": "markdown",
     "metadata": {},
     "source": [
      "* [Class 07](class7.ipynb)\n",
      " * Topics:\n",
      "   * Strong and weak ties\n",
      "   * Triadic closure\n",
      "   * Clustering\n",
      "   * Structural holes\n",
      " * Readings:\n",
      "   - **EK 3**"
     ]
    },
    {
     "cell_type": "markdown",
     "metadata": {},
     "source": [
      "* Class 08\n",
      " * Topics:\n",
      "   * Applied cluster analysis\n",
      " * Readings:\n",
      "   - **TK 4**"
     ]
    },
    {
     "cell_type": "markdown",
     "metadata": {},
     "source": [
      "* [Class 09](class9.ipynb)\n",
      " * Topics:\n",
      "   * Homophily\n",
      "   * Bipartite/multipartie networks\n",
      " * Readings:\n",
      "   - **EK 4**\n",
      "   - **TK 5**"
     ]
    },
    {
     "cell_type": "markdown",
     "metadata": {},
     "source": [
      "* Class 10\n",
      " * Topics:\n",
      "   * Structural balance\n",
      "   * Local and global network effects\n",
      " * Readings:\n",
      "   - **EK 5**"
     ]
    },
    {
     "cell_type": "heading",
     "level": 4,
     "metadata": {},
     "source": [
      "Social network analysis: empirical studies"
     ]
    },
    {
     "cell_type": "markdown",
     "metadata": {},
     "source": [
      "* Class 11\n",
      " * Topics:\n",
      "   * Empirical network studies\n",
      " * Readings:\n",
      "   - **J 3**\n",
      "   - **Moretti?**"
     ]
    },
    {
     "cell_type": "markdown",
     "metadata": {},
     "source": [
      "* Class 12\n",
      " * Topics:\n",
      "   * Empirical network studies\n",
      " * Readings:\n",
      "   - **Social capital?**"
     ]
    },
    {
     "cell_type": "heading",
     "level": 4,
     "metadata": {},
     "source": [
      "Midterm:"
     ]
    },
    {
     "cell_type": "markdown",
     "metadata": {},
     "source": [
      "* Class 13\n",
      " * **Midterm!!!**"
     ]
    },
    {
     "cell_type": "heading",
     "level": 3,
     "metadata": {},
     "source": [
      "Unit 3: Graphs in the Real World: Tooling and Techniques"
     ]
    },
    {
     "cell_type": "markdown",
     "metadata": {},
     "source": [
      "**NOTE** this section will probably be extended into four classes, depending on student progress. There is an extra \"catch-up\" class scheduled at the end."
     ]
    },
    {
     "cell_type": "markdown",
     "metadata": {},
     "source": [
      "* [Class 14](class14.ipynb)\n",
      " * Topics:\n",
      "   * Graph data\n",
      "   * Relational databases\n",
      "   * The property graph model\n",
      "   * NoSQL\n",
      "   * Graph databases\n",
      " * Readings:\n",
      "   * **TK 7**\n",
      "   * **RWE 1**\n",
      "   * **RWE 2**"
     ]
    },
    {
     "cell_type": "markdown",
     "metadata": {},
     "source": [
      "* Class 15\n",
      " * Topics:\n",
      "   * Data modelling with graph databases!\n",
      " * Readings:\n",
      "   - **RWE 3**"
     ]
    },
    {
     "cell_type": "markdown",
     "metadata": {},
     "source": [
      "* [Class 16](class16.ipynb)\n",
      " * Topics:\n",
      "   * Gremlin\n",
      "   * GraphX\n",
      " * Readings:\n",
      "   - **Tinkerpop docs**\n",
      "   - **Spark/GraphX docs**"
     ]
    },
    {
     "cell_type": "heading",
     "level": 3,
     "metadata": {},
     "source": [
      "Unit 4: Models and theory: Advanced topics in network analysis (3 classes)"
     ]
    },
    {
     "cell_type": "heading",
     "level": 4,
     "metadata": {},
     "source": [
      "Structure and models (design 1):"
     ]
    },
    {
     "cell_type": "markdown",
     "metadata": {},
     "source": [
      "* Class 17\n",
      " * Topics:\n",
      "   * Power laws\n",
      "   * The rich get richer\n",
      "   * Information cascades\n",
      " * Readings:\n",
      "   - **EK 18**"
     ]
    },
    {
     "cell_type": "markdown",
     "metadata": {},
     "source": [
      "* Class 18\n",
      " * Topics:\n",
      "   * Models for graph formation.\n",
      " * Readings:\n",
      "   - **Videos: Mathew Jackson 3.1 - 3.5**: https://class.coursera.org/networksonline-003/lecture (this is an archived Coursera class, the videos can be viewed by anyone, just create a free account)"
     ]
    },
    {
     "cell_type": "heading",
     "level": 4,
     "metadata": {},
     "source": [
      "Strategy and interaction (design 1):"
     ]
    },
    {
     "cell_type": "markdown",
     "metadata": {},
     "source": [
      "* **Readings: EK: 12, J: 6, ???**"
     ]
    },
    {
     "cell_type": "markdown",
     "metadata": {},
     "source": [
      "* [Class 19](class19.ipynb)\n",
      " * Topics:\n",
      "   * Bargaining in networks\n",
      "   * Outcomes of interaction\n",
      "   * The Nash bargaining solution.\n",
      "   * Stability and balance in network outcomes.\n",
      " * Readings:\n",
      "   - **EK 12**"
     ]
    },
    {
     "cell_type": "heading",
     "level": 4,
     "metadata": {},
     "source": [
      "Diffusion and dynamics:"
     ]
    },
    {
     "cell_type": "markdown",
     "metadata": {},
     "source": [
      "* **Readings: TK: 6, EK: 19, EK: 20, EK: 21, J: 7, ???**"
     ]
    },
    {
     "cell_type": "markdown",
     "metadata": {},
     "source": [
      "* Class 20\n",
      " * Topics:\n",
      "   * Viral information diffusion on the internet.\n",
      " * Readings:\n",
      "   - **TK 6**"
     ]
    },
    {
     "cell_type": "markdown",
     "metadata": {},
     "source": [
      "* [Class 21](class21.ipynb)\n",
      " * Topics:\n",
      "   * Information cascades\n",
      "   * Diffusion in networks\n",
      " * Readings:\n",
      "   * **EK 19**"
     ]
    },
    {
     "cell_type": "heading",
     "level": 4,
     "metadata": {},
     "source": [
      "Innovative Studies in Graphs:"
     ]
    },
    {
     "cell_type": "markdown",
     "metadata": {},
     "source": [
      "* Class 22\n",
      " * Topics:\n",
      "   * Innovative studies in graph theory\n",
      " * Readings:\n",
      "   - Schich, M., Song, C., Ahn, Y. Y., Mirsky, A., Martino, M., Barab\u00e1si, A. L., & Helbing, D. (2014). A network framework of cultural history. science, 345(6196), 558-562.\n",
      "   - Ahn, Y. Y., Ahnert, S. E., Bagrow, J. P., & Barab\u00e1si, A. L. (2011). Flavor network and the principles of food pairing. Scientific reports, 1.\n",
      "   - "
     ]
    },
    {
     "cell_type": "markdown",
     "metadata": {},
     "source": [
      "* Class 23\n",
      "  * Catch up!"
     ]
    },
    {
     "cell_type": "markdown",
     "metadata": {},
     "source": [
      "* Class 24\n",
      " * Prepare for final project presentations!\n",
      " * All day workshop!"
     ]
    },
    {
     "cell_type": "heading",
     "level": 4,
     "metadata": {},
     "source": [
      "Presentations:"
     ]
    },
    {
     "cell_type": "markdown",
     "metadata": {},
     "source": [
      "* Class 25\n",
      " * Topics:\n",
      "   - **Student presentations**"
     ]
    },
    {
     "cell_type": "markdown",
     "metadata": {},
     "source": [
      "* Class 26\n",
      " * Topics:\n",
      "   - **Student presentations**"
     ]
    }
   ],
   "metadata": {}
  }
 ]
}