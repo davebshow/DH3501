{
 "metadata": {
  "name": "",
  "signature": "sha256:597f7f02add606ba68d2c94d2ae44719d4c15f659f33220eca48c47adf93e159"
 },
 "nbformat": 3,
 "nbformat_minor": 0,
 "worksheets": [
  {
   "cells": [
    {
     "cell_type": "markdown",
     "metadata": {},
     "source": [
      "<div align=\"center\">\n",
      "<h1>[DH3501: Advanced Social Networks](index.ipynb)<br/>*Calendar*</h1>\n",
      "</div>"
     ]
    },
    {
     "cell_type": "markdown",
     "metadata": {},
     "source": [
      "**Instructor**: David Brown<br/>\n",
      "**E-mail**: [dbrow52@uwo.ca](mailto:dbrow52@uwo.ca)<br/>\n",
      "**Office**: AHB 1R14<br/>"
     ]
    },
    {
     "cell_type": "heading",
     "level": 3,
     "metadata": {},
     "source": [
      "Unit 1: Why graphs?"
     ]
    },
    {
     "cell_type": "markdown",
     "metadata": {},
     "source": [
      "* Class 01\n",
      " * Topics:\n",
      "   - **Syllabus**"
     ]
    },
    {
     "cell_type": "heading",
     "level": 4,
     "metadata": {},
     "source": [
      "A networked world:"
     ]
    },
    {
     "cell_type": "markdown",
     "metadata": {},
     "source": [
      "* **Readings:TK: 1, EK: 1, J: 1, ???**"
     ]
    },
    {
     "cell_type": "markdown",
     "metadata": {},
     "source": [
      "* Class 02\n",
      " * Topics:\n",
      "   - Intro. to networks.\n",
      " * Readings:\n",
      "   - **TK: 1**\n",
      "   - **EK: 1**"
     ]
    },
    {
     "cell_type": "markdown",
     "metadata": {},
     "source": [
      "* Class 03\n",
      " * Topics:\n",
      "   - Example network studies.\n",
      " * Readings:\n",
      "   - **J: 1, pp:17 - 31**\n",
      "   - Video: **Albert-L\u00e1szl\u00f3 Barab\u00e1si** https://www.youtube.com/watch?v=ni_A2bAkUww "
     ]
    },
    {
     "cell_type": "heading",
     "level": 3,
     "metadata": {},
     "source": [
      "Unit 2: Graph Theory and Social Network Analysis"
     ]
    },
    {
     "cell_type": "heading",
     "level": 4,
     "metadata": {},
     "source": [
      "Introduction to graph theory, centrality, and graph measures:"
     ]
    },
    {
     "cell_type": "markdown",
     "metadata": {},
     "source": [
      "* **Readings: TK: 2, EK: 2, TK: 3 , J: 2**"
     ]
    },
    {
     "cell_type": "markdown",
     "metadata": {},
     "source": [
      "* [Class 04](class4.ipynb)\n",
      " * Topics:\n",
      "   - Basic definitions\n",
      "   - Data formats\n",
      "   - NetworkX\n",
      "   - Paths/traversals\n",
      " * Readings:\n",
      "   - **TK 2**\n",
      "   - **EK: 2**"
     ]
    },
    {
     "cell_type": "markdown",
     "metadata": {},
     "source": [
      "* Class 05\n",
      " * Topics:\n",
      "   - Review of the NetworkX API.\n",
      "   - Introduction to centrality measures.\n",
      " * Readings:\n",
      "   - **TK: 3**\n",
      "   - [NetworkX docs](http://networkx.github.io/documentation/networkx-1.9.1/)"
     ]
    },
    {
     "cell_type": "markdown",
     "metadata": {},
     "source": [
      "* [Class 06](class6.ipynb)\n",
      " * Topics:\n",
      "   - Formal definitions of graph theory concepts and network statistics.\n",
      "   - How to approach the Jackson text.\n",
      " * Readings:\n",
      "   - **J: 2**"
     ]
    },
    {
     "cell_type": "heading",
     "level": 4,
     "metadata": {},
     "source": [
      "Cliques, community, and introduction to structure and dynamics (Design 2):"
     ]
    },
    {
     "cell_type": "markdown",
     "metadata": {},
     "source": [
      "* **Readings: EK: 3, TK: 4, TK: 5, EK: 4, EK: 5, J: 3 ???**"
     ]
    },
    {
     "cell_type": "markdown",
     "metadata": {},
     "source": [
      "* Class 07\n",
      " * Topics:\n",
      " * Readings:\n",
      "   - Reading\n",
      "   - Reading"
     ]
    },
    {
     "cell_type": "markdown",
     "metadata": {},
     "source": [
      "* Class 08\n",
      " * Topics:\n",
      " * Readings:\n",
      "   - Reading\n",
      "   - Reading"
     ]
    },
    {
     "cell_type": "markdown",
     "metadata": {},
     "source": [
      "* Class 09\n",
      " * Topics:\n",
      " * Readings:\n",
      "   - Reading\n",
      "   - Reading"
     ]
    },
    {
     "cell_type": "markdown",
     "metadata": {},
     "source": [
      "* Class 10\n",
      " * Topics:\n",
      " * Readings:\n",
      "   - Reading\n",
      "   - Reading"
     ]
    },
    {
     "cell_type": "heading",
     "level": 4,
     "metadata": {},
     "source": [
      "Social network analysis: empirical studies"
     ]
    },
    {
     "cell_type": "markdown",
     "metadata": {},
     "source": [
      "* Class 11\n",
      " * Topics:\n",
      " * Readings:\n",
      "   - Reading\n",
      "   - Reading"
     ]
    },
    {
     "cell_type": "markdown",
     "metadata": {},
     "source": [
      "* Class 12\n",
      " * Topics:\n",
      " * Readings:\n",
      "   - Reading\n",
      "   - Reading"
     ]
    },
    {
     "cell_type": "heading",
     "level": 4,
     "metadata": {},
     "source": [
      "Midterm:"
     ]
    },
    {
     "cell_type": "markdown",
     "metadata": {},
     "source": [
      "* Class 13\n",
      " * **Midterm!!!**"
     ]
    },
    {
     "cell_type": "heading",
     "level": 3,
     "metadata": {},
     "source": [
      "Unit 3: Hacking on Graphs"
     ]
    },
    {
     "cell_type": "heading",
     "level": 4,
     "metadata": {},
     "source": [
      "Graph data: acquisition, storage, and analysis (Design 1):"
     ]
    },
    {
     "cell_type": "markdown",
     "metadata": {},
     "source": [
      "* **Readings: TK: 7, RWE: 1, RWE: 2, RWE: 3, ???**"
     ]
    },
    {
     "cell_type": "markdown",
     "metadata": {},
     "source": [
      "* Class 14\n",
      " * Topics:\n",
      " * Readings:\n",
      "   - Reading\n",
      "   - Reading"
     ]
    },
    {
     "cell_type": "markdown",
     "metadata": {},
     "source": [
      "* Class 15\n",
      " * Topics:\n",
      " * Readings:\n",
      "   - Reading\n",
      "   - Reading"
     ]
    },
    {
     "cell_type": "markdown",
     "metadata": {},
     "source": [
      "* Class 16\n",
      " * Topics:\n",
      " * Readings:\n",
      "   - Reading\n",
      "   - Reading"
     ]
    },
    {
     "cell_type": "markdown",
     "metadata": {},
     "source": [
      "* Class 17\n",
      " * Topics:\n",
      " * Readings:\n",
      "   - Reading\n",
      "   - Reading"
     ]
    },
    {
     "cell_type": "heading",
     "level": 3,
     "metadata": {},
     "source": [
      "Unit 4: Advanced Topics in Network Analysis"
     ]
    },
    {
     "cell_type": "heading",
     "level": 4,
     "metadata": {},
     "source": [
      "Structure and models (design 1):"
     ]
    },
    {
     "cell_type": "markdown",
     "metadata": {},
     "source": [
      "* **Readings: EK: 18, J: 4, J: 5, ???**"
     ]
    },
    {
     "cell_type": "markdown",
     "metadata": {},
     "source": [
      "* Class 18\n",
      " * Topics:\n",
      " * Readings:\n",
      "   - Reading\n",
      "   - Reading"
     ]
    },
    {
     "cell_type": "markdown",
     "metadata": {},
     "source": [
      "* Class 19\n",
      " * Topics:\n",
      " * Readings:\n",
      "   - Reading\n",
      "   - Reading"
     ]
    },
    {
     "cell_type": "heading",
     "level": 4,
     "metadata": {},
     "source": [
      "Strategy and interaction (design 1):"
     ]
    },
    {
     "cell_type": "markdown",
     "metadata": {},
     "source": [
      "* **Readings: EK: 12, J: 6, ???**"
     ]
    },
    {
     "cell_type": "markdown",
     "metadata": {},
     "source": [
      "* Class 20\n",
      " * Topics:\n",
      " * Readings:\n",
      "   - Reading\n",
      "   - Reading"
     ]
    },
    {
     "cell_type": "markdown",
     "metadata": {},
     "source": [
      "* Class 21\n",
      " * Topics:\n",
      " * Readings:\n",
      "   - Reading\n",
      "   - Reading"
     ]
    },
    {
     "cell_type": "heading",
     "level": 4,
     "metadata": {},
     "source": [
      "Diffusion and dynamics (design 1):"
     ]
    },
    {
     "cell_type": "markdown",
     "metadata": {},
     "source": [
      "* **Readings: TK: 6, EK: 19, EK: 20, EK: 21, J: 7, ???**"
     ]
    },
    {
     "cell_type": "markdown",
     "metadata": {},
     "source": [
      "* Class 22\n",
      " * Topics:\n",
      " * Readings:\n",
      "   - Reading\n",
      "   - Reading"
     ]
    },
    {
     "cell_type": "markdown",
     "metadata": {},
     "source": [
      "* Class 23\n",
      " * Topics:\n",
      " * Readings:\n",
      "   - Reading\n",
      "   - Reading"
     ]
    },
    {
     "cell_type": "markdown",
     "metadata": {},
     "source": [
      "* Class 24\n",
      " * Topics:\n",
      " * Readings:\n",
      "   - Reading\n",
      "   - Reading"
     ]
    },
    {
     "cell_type": "heading",
     "level": 4,
     "metadata": {},
     "source": [
      "Presentations:"
     ]
    },
    {
     "cell_type": "markdown",
     "metadata": {},
     "source": [
      "* Class 25\n",
      " * Topics:\n",
      "   - **Student presentations**"
     ]
    },
    {
     "cell_type": "markdown",
     "metadata": {},
     "source": [
      "* Class 26\n",
      " * Topics:\n",
      "   - **Student presentations**"
     ]
    }
   ],
   "metadata": {}
  }
 ]
}