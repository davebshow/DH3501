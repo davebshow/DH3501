{
 "cells": [
  {
   "cell_type": "markdown",
   "metadata": {},
   "source": [
    "#Example Networks\n",
    "\n",
    "#### The following examples demonstrate interesting or outstanding approaches to science in which network analysis/graph theory has helped to provide new insight into natural/human processes."
   ]
  },
  {
   "cell_type": "markdown",
   "metadata": {},
   "source": [
    "# 1.  Flavor Network and the Principles of Food Pairing\n",
    "\n",
    "<img src=\"img/flavors.png\" style=\"width: 800px; float: left;\" /><br> "
   ]
  },
  {
   "cell_type": "markdown",
   "metadata": {},
   "source": [
    "Ahn, Y. Y., Ahnert, S. E., Bagrow, J. P., & Barabási, A. L. (2011). Flavor network and the principles of food pairing. Scientific reports, 1."
   ]
  },
  {
   "cell_type": "markdown",
   "metadata": {},
   "source": [
    "### Overview\n",
    "\n",
    "This study presents a network approach to understanding why certain ingredients are combined with others. Using a bipartite network of ingredients and their respective flavour compounds, they determine which ingredients had a similar flavor profile, and then analyze how they are combined in recipes. \n",
    "\n",
    "### Research Questions\n",
    "\n",
    "* Are there quantifiable and reproducible principles behind our choices to combine some flavors and avoid combining others?\n",
    "\n",
    "* Do we tend to combine foods that have similar flavor profiles?\n",
    "\n",
    "### Methods\n",
    "\n",
    "A bipartite network was built using 381 popular ingredients and their flavor compounds. This was then projected over the flavor compounds as a one mode network of ingredient. Then they created an ingredient network using recipes as a proxy for ingredient relationships using data from epicurious.com, allrecipes.com, and menupan.com in order to determine if ingredients that shared flavor compounds indeed were paired in recipes.\n",
    "\n",
    "### Results\n",
    "\n",
    "They determined that certain groups of food, such as fruits and dairy with alcohol, tend to be closely associated by flavor networks. Other groups, like mushrooms are more isolated. In terms of pairing, they see that North American and Western European foods tend to combine ingredients that share flavor compounds, while East Asian and Southern European recipes combine ingredients that do not. However, both of these phenomenon are due to several important ingredients that are highly common in each respective type of cuisine."
   ]
  },
  {
   "cell_type": "markdown",
   "metadata": {},
   "source": [
    "## 2. The Preliminaries Project\n",
    "\n",
    "<img src=\"img/fifty_percent.png\" style=\"width: 800px; float: left;\" />"
   ]
  },
  {
   "cell_type": "markdown",
   "metadata": {},
   "source": [
    "### Overview\n",
    "\n",
    "The Preliminaries Project uses the information present in the front matter of 17th century texts to model the social networks involved in the process of printing in the early Spanish Golden Age. \n",
    "\n",
    "### Research Questions\n",
    "\n",
    "* How do aspects such as geography and genre affect the relationships between the individuals involved in the production of this literature?\n",
    "\n",
    "* How do individuals performing different roles--authors, patrons, signatories, printers--interact in the network?\n",
    "\n",
    "* How do historical factors relating to political structure and the regulation of the publishing industry affect the social structure of the involved individuals?\n",
    "\n",
    "\n",
    "### Methods\n",
    "\n",
    "A large sample of scanned copies of the preliminaries sections were acquired through interlibrary loans. After manual review, the data contained within was modeled as a multipartite network. Based on this network, we performed a series of transformations that allowed us to perform network analysis with particular attention to the effects of attribute homophily and assortativity.\n",
    "\n",
    "### Results\n",
    "\n",
    "Social network analysis produced several interesting results regarding the effects of geography and genre in the network, as well as the importance of cross role collaboration. We demonstrated how individuals were generally limited by geographic factors, and that many individuals had begun to specialize in terms of publication. Furthermore, we see the importance of collaboration between individuals performing different roles with tendencies toward disassortative mixing, which suggests that interactions between high and low profile individuals were essential for this community to operate."
   ]
  },
  {
   "cell_type": "markdown",
   "metadata": {},
   "source": [
    "## 3. A Network Framework of Cultural History\n",
    "\n",
    "<img src=\"img/cultural.png\" style=\"width: 800px; float: left;\" />"
   ]
  },
  {
   "cell_type": "markdown",
   "metadata": {},
   "source": [
    "Schich, M., Song, C., Ahn, Y. Y., Mirsky, A., Martino, M., Barabási, A. L., & Helbing, D. (2014). A network framework of cultural history. Science, 345(6196), 558-562."
   ]
  },
  {
   "cell_type": "markdown",
   "metadata": {},
   "source": [
    "### Overview\n",
    "\n",
    "A network framework of cultural history presents a study of \"intellectual movement\" by tracking the birth and death locations of famous individuals over the last 2000 years. \n",
    "\n",
    "### Research Questions\n",
    "\n",
    "* How does cultural mobility function through space?\n",
    "\n",
    "* Are certain areas/cities more prominent as attractors of culturally important individuals? As producers?\n",
    "\n",
    "* Does this geography change over time?\n",
    "\n",
    "### Methods\n",
    "\n",
    "Data was collected using  Freebase.com, the General Artist Lexicon, and the Getty Union List of Artist Names. This data was then modeled as a multigraph, and analyzed in terms of birth and death locations using both network statistics and more traditional geographic analysis, such as a measuring birth to death migration distances. \n",
    "\n",
    "### Results\n",
    "\n",
    "An overall pattern of individuals being born in the periphery and moving towards major cultural centers can be observed. While certain cities, such as Paris, hold long term dominance as attractor cities, there is competition between a variety of mid sized cities for second-tier dominance as attractors. Cities like New York change over time, at certain times a birth attractor, at others, a death attractor."
   ]
  },
  {
   "cell_type": "markdown",
   "metadata": {},
   "source": [
    "## 4. Network Theory, Plot Analysis\n",
    "\n",
    "<img src=\"img/hamlet.png\" style=\"width: 800px; float: left;\" />"
   ]
  },
  {
   "cell_type": "markdown",
   "metadata": {},
   "source": [
    "Moretti, F. (2011). Network theory, plot analysis. New Left Review."
   ]
  },
  {
   "cell_type": "markdown",
   "metadata": {},
   "source": [
    "### Overview\n",
    "\n",
    "This study uses social network analysis to shed new light on the plot/themes of Hamlet. Characters are modeled as a network based on co-occurance, which is then analyzed within the context of the play.\n",
    "\n",
    "### Research Questions\n",
    "\n",
    "* Can plot be quantified?\n",
    "\n",
    "* How can network theory be applied to plot analysis?\n",
    "\n",
    "### Methods\n",
    "\n",
    "A network was built based on a close reading of the text of Hamlet. Characters were linked if they shared an interaction, typically a speech act. The network is neither weighted nor directed. \n",
    "\n",
    "### Results\n",
    "\n",
    "A network analysis allowed the researchers access to play with the concept of character space, in which time is turned into a spatial concept based on a set of frozen interactions (the network). Character spaces, like the one occupied by Horatio, can often be associated with larger themes such as the concept of *the state*."
   ]
  },
  {
   "cell_type": "markdown",
   "metadata": {},
   "source": [
    "## 5. Statistical Mechanics of Complex Networks\n",
    "\n",
    "<img src=\"img/table.png\" style=\"width: 800px; float: left;\" /><br> "
   ]
  },
  {
   "cell_type": "markdown",
   "metadata": {},
   "source": [
    "Albert, R., & Barabási, A. L. (2002). Statistical mechanics of complex networks. Reviews of modern physics, 74(1), 47."
   ]
  },
  {
   "cell_type": "markdown",
   "metadata": {},
   "source": [
    "### Overview\n",
    "\n",
    "This landmark study compares the topological characteristics of a wide variety of large natural and man made networks. It investigates various statistical properties, focusing on degree distribution, small worlds, and clustering.\n",
    "\n",
    "### Research Questions\n",
    "\n",
    "* Are there common statistical features of complex networks across different domains? If so, what are they?\n",
    "\n",
    "* Are networks random as previously considered for so many years?\n",
    "\n",
    "\n",
    "### Methods\n",
    "\n",
    "A wide variety of methods were used in gathering the data used in this paper. Most notably, a large portion of the Internet was crawled and mapped ($n=10^8$). Multiple networks were analyzed and compared for degree distribution, defined as the probability that any node in the network has a given degree, as well as a variety of other statistical properties. \n",
    "\n",
    "### Results\n",
    "\n",
    "The results of this study demonstrate a scale free (power law) degree distribution as a defining characteristic of large networks. This paper proposes a model for this distribution, defining a scaling exponent that is typically between 2 and 3. They further discuss a wide variety of concepts from graph theory to illustrate more advanced concepts such as the emergence of giant components and phase transition, comparing them with empirical results."
   ]
  }
 ],
 "metadata": {
  "kernelspec": {
   "display_name": "Python 2",
   "language": "python",
   "name": "python2"
  },
  "language_info": {
   "codemirror_mode": {
    "name": "ipython",
    "version": 2
   },
   "file_extension": ".py",
   "mimetype": "text/x-python",
   "name": "python",
   "nbconvert_exporter": "python",
   "pygments_lexer": "ipython2",
   "version": "2.7.6"
  }
 },
 "nbformat": 4,
 "nbformat_minor": 0
}
