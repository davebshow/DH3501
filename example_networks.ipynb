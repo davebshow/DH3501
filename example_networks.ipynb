{
 "cells": [
  {
   "cell_type": "markdown",
   "metadata": {},
   "source": [
    "#Example Networks\n",
    "\n",
    "#### The following examples demonstrate interesting or outstanding approaches to science in which network analysis/graph theory has helped to provide new insight into natural/human processes."
   ]
  },
  {
   "cell_type": "markdown",
   "metadata": {},
   "source": [
    "## 1. The Preliminaries Project\n",
    "\n",
    "<img src=\"img/fifty_percent.png\" style=\"width: 800px; float: left;\" />"
   ]
  },
  {
   "cell_type": "markdown",
   "metadata": {},
   "source": [
    "### Overview\n",
    "\n",
    "The Preliminaries Project uses the information present in the front matter of 17th century texts to model the social networks involved in the process of printing in the early Spanish Golden Age. \n",
    "\n",
    "### Research Questions\n",
    "\n",
    "* How do aspects such as geography and genre affect the relationships between the individuals involved in the production of this literature?\n",
    "\n",
    "* How do individuals performing different roles--authors, patrons, signatories, printers--interact in the network?\n",
    "\n",
    "* How do historical factors relating to political structure and the regulation of the publishing industry affect the social structure of the involved individuals?\n",
    "\n",
    "\n",
    "### Methods\n",
    "\n",
    "A large sample of scanned copies of the preliminaries sections were acquired through interlibrary loans. After manual review, the data contained within was modeled as a multipartite network. Based on this network, we performed a series of transformations that allowed us to perform network analysis with particular attention to the effects of attribute homophily and assortativity.\n",
    "\n",
    "### Results\n",
    "\n",
    "Social network analysis produced serveral interesting results regaring the effects of geography and genre in the network, as well as the importance of cross role collaboration. We demonstrated how individuals were generally limited by geographic factors, and that many individuals had begun to specialize in terms of publication. Futhermore, we see the importance of collaboration between individuals performing differnt roles with tendencies toward disassortative mixing, which suggests that interactions between high and low profile individiuals were essential for this communitiy to operate."
   ]
  },
  {
   "cell_type": "markdown",
   "metadata": {},
   "source": [
    "## 2. A Network Framework of Cultural History\n",
    "\n",
    "<img src=\"img/cultural.png\" style=\"width: 800px; float: left;\" />"
   ]
  },
  {
   "cell_type": "markdown",
   "metadata": {},
   "source": [
    "Schich, M., Song, C., Ahn, Y. Y., Mirsky, A., Martino, M., Barabási, A. L., & Helbing, D. (2014). A network framework of cultural history. Science, 345(6196), 558-562."
   ]
  },
  {
   "cell_type": "markdown",
   "metadata": {},
   "source": [
    "### Overview\n",
    "\n",
    "A network framework of cultural history presents a study of \"intellectual movement\" by tracking the birth and death locations of famous individuals over the last 2000 years. \n",
    "\n",
    "### Research Questions\n",
    "\n",
    "* How does cultural mobility function through space?\n",
    "\n",
    "* Are certain areas/cities more prominent as attractors of culturally important individuals? As producers?\n",
    "\n",
    "* Does this geography change over time?\n",
    "\n",
    "### Methods\n",
    "\n",
    "Data was collected using  Freebase.com, the General Artist Lexicon, and the Getty Union List of Artist Names. This data was then modelled as a multigraph, and analyzed in terms birth and death locations both using network statistics and more traditional geographic analysis, such as changing birth to death distances. \n",
    "\n",
    "### Results\n",
    "\n",
    "An overall pattern of individuals being born in the peripherary and moving towards major cultural centers can be observed. While certain cities, such as Paris, hold long term dominance as attractor cities, there is competition between a variety of mid sized cities for second tier dominance as attractors. Cities like New York change over time, at certain times a birth attractor, at others, a death attractor."
   ]
  },
  {
   "cell_type": "markdown",
   "metadata": {},
   "source": [
    "## 3. Network Theory, Plot Analysis\n",
    "\n",
    "<img src=\"img/hamlet.png\" style=\"width: 800px; float: left;\" />"
   ]
  },
  {
   "cell_type": "markdown",
   "metadata": {},
   "source": [
    "Moretti, F. (2011). Network theory, plot analysis. New Left Review."
   ]
  },
  {
   "cell_type": "markdown",
   "metadata": {},
   "source": [
    "### Overview\n",
    "\n",
    "### Methods\n",
    "\n",
    "### Results"
   ]
  },
  {
   "cell_type": "markdown",
   "metadata": {},
   "source": [
    "## 4. Statistical Mechanics of Complex Networks\n",
    "\n",
    "<img src=\"img/table.png\" style=\"width: 800px; float: left;\" /><br> "
   ]
  },
  {
   "cell_type": "markdown",
   "metadata": {},
   "source": [
    "Albert, R., & Barabási, A. L. (2002). Statistical mechanics of complex networks. Reviews of modern physics, 74(1), 47."
   ]
  },
  {
   "cell_type": "markdown",
   "metadata": {},
   "source": [
    "### Overview\n",
    "\n",
    "### Methods\n",
    "\n",
    "### Results"
   ]
  },
  {
   "cell_type": "markdown",
   "metadata": {},
   "source": [
    "# 5.  Flavor Network and the Principles of Food Pairing\n",
    "\n",
    "<img src=\"img/flavors.png\" style=\"width: 800px; float: left;\" /><br> "
   ]
  },
  {
   "cell_type": "markdown",
   "metadata": {},
   "source": [
    "Ahn, Y. Y., Ahnert, S. E., Bagrow, J. P., & Barabási, A. L. (2011). Flavor network and the principles of food pairing. Scientific reports, 1."
   ]
  },
  {
   "cell_type": "markdown",
   "metadata": {},
   "source": [
    "### Overview\n",
    "\n",
    "### Methods\n",
    "\n",
    "### Results"
   ]
  }
 ],
 "metadata": {
  "kernelspec": {
   "display_name": "Python 2",
   "language": "python",
   "name": "python2"
  },
  "language_info": {
   "codemirror_mode": {
    "name": "ipython",
    "version": 2
   },
   "file_extension": ".py",
   "mimetype": "text/x-python",
   "name": "python",
   "nbconvert_exporter": "python",
   "pygments_lexer": "ipython2",
   "version": "2.7.6"
  }
 },
 "nbformat": 4,
 "nbformat_minor": 0
}
